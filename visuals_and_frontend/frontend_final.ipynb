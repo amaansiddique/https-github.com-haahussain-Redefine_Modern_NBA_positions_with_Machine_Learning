{
 "cells": [
  {
   "cell_type": "code",
   "execution_count": 1,
   "metadata": {},
   "outputs": [],
   "source": [
    "#frontend"
   ]
  },
  {
   "cell_type": "code",
   "execution_count": 158,
   "metadata": {},
   "outputs": [],
   "source": [
    "import plotly.express as px\n",
    "import pandas as pd \n",
    "from chart_studio.plotly import iplot as py\n",
    "import plotly.graph_objects as go\n",
    "import streamlit as st\n",
    "from PIL import Image\n"
   ]
  },
  {
   "cell_type": "code",
   "execution_count": 159,
   "metadata": {},
   "outputs": [],
   "source": [
    "dfclust=pd.read_csv('dfclustzzz.csv')"
   ]
  },
  {
   "cell_type": "code",
   "execution_count": 160,
   "metadata": {},
   "outputs": [],
   "source": [
    "dfclustz=dfclust.groupby('Pos').mean()"
   ]
  },
  {
   "cell_type": "code",
   "execution_count": 161,
   "metadata": {},
   "outputs": [],
   "source": [
    "dfclustz.reset_index(inplace=True)"
   ]
  },
  {
   "cell_type": "code",
   "execution_count": 162,
   "metadata": {},
   "outputs": [
    {
     "data": {
      "text/plain": [
       "<streamlit.DeltaGenerator.DeltaGenerator at 0x11c810198>"
      ]
     },
     "execution_count": 162,
     "metadata": {},
     "output_type": "execute_result"
    }
   ],
   "source": [
    "image = Image.open('NBA_logo.png')\n",
    "\n",
    "st.image(image, use_column_width=True)"
   ]
  },
  {
   "cell_type": "code",
   "execution_count": 163,
   "metadata": {},
   "outputs": [
    {
     "data": {
      "text/plain": [
       "<streamlit.DeltaGenerator.DeltaGenerator at 0x11c810198>"
      ]
     },
     "execution_count": 163,
     "metadata": {},
     "output_type": "execute_result"
    }
   ],
   "source": [
    "st.title('Reassigning Modern NBA Positions by Playing Style/Team Role')\n",
    "st.subheader('Conventional NBA positions no longer reflect what type of player is on the court. The purpose of this project is to redefine NBA roles that better fit the players style and functionality by using K-Means Clustering')"
   ]
  },
  {
   "cell_type": "code",
   "execution_count": 164,
   "metadata": {},
   "outputs": [
    {
     "data": {
      "text/plain": [
       "<streamlit.DeltaGenerator.DeltaGenerator at 0x11c810198>"
      ]
     },
     "execution_count": 164,
     "metadata": {},
     "output_type": "execute_result"
    }
   ],
   "source": [
    "st.title('Visualizations for Conventional NBA positions')\n",
    "image2= Image.open('old_basketball.png')\n",
    "st.image(image2, use_column_width=True)"
   ]
  },
  {
   "cell_type": "code",
   "execution_count": 165,
   "metadata": {},
   "outputs": [],
   "source": [
    "st.header('2011-2019 BoxScore Stats by Positions')\n",
    "label = dfclustz['Pos']\n",
    "points = dfclustz['PTS']\n",
    "assists = dfclustz['AST']\n",
    "rebounds = dfclustz['TRB']\n",
    "threept = dfclustz['3P%']\n",
    "blocks = dfclustz['BLK']\n",
    "steals = dfclustz['STL']\n",
    "fig = go.Figure()\n",
    "fig.add_trace(go.Bar(x=label,\n",
    "                y= points,\n",
    "                name='Points',\n",
    "                marker_color='rgb(55, 83, 109)'\n",
    "                ))\n",
    "fig.add_trace(go.Bar(x=label,\n",
    "                y=assists,\n",
    "                name='Assists',\n",
    "                marker_color='rgb(26, 118, 255)'\n",
    "                ))\n",
    "fig.add_trace(go.Bar(x=label,\n",
    "                y=rebounds,\n",
    "                name='Rebounds',\n",
    "                marker_color='rgb(100, 50, 300)'\n",
    "                ))\n",
    "fig.add_trace(go.Bar(x=label,\n",
    "                y=threept,\n",
    "                name='ThreePt %',\n",
    "                marker_color='rgb(400, 5, 60)'\n",
    "                ))\n",
    "fig.add_trace(go.Bar(x=label,\n",
    "                y=blocks,\n",
    "                name='Blocks',\n",
    "                marker_color='rgb(150, 160, 200)'\n",
    "                ))\n",
    "fig.add_trace(go.Bar(x=label,\n",
    "                y=steals,\n",
    "                name='Steals',\n",
    "                marker_color='rgb(40, 250, 100)'\n",
    "                ))\n",
    "fig.update_layout(\n",
    "    title='BoxScore Stats',\n",
    "    xaxis_tickfont_size= 10,\n",
    "    yaxis=dict(\n",
    "        title='Average',\n",
    "        titlefont_size=16,\n",
    "        tickfont_size=14,\n",
    "    ),\n",
    "    xaxis=dict(\n",
    "        title='Positions'\n",
    "    ),\n",
    "    legend=dict(\n",
    "        x=0,\n",
    "        y=1.0,\n",
    "        bgcolor='rgba(255, 255, 255, 0)',\n",
    "        bordercolor='rgba(255, 255, 255, 0)'\n",
    "    ),\n",
    "    barmode='group',\n",
    "    bargap=0.15, # gap between bars of adjacent location coordinates.\n",
    "    bargroupgap=0.1 # gap between bars of the same location coordinate.\n",
    ")\n",
    "st.write(fig)"
   ]
  },
  {
   "cell_type": "code",
   "execution_count": 166,
   "metadata": {},
   "outputs": [],
   "source": [
    "dfclustR=pd.read_csv('dfRolezzz.csv')"
   ]
  },
  {
   "cell_type": "code",
   "execution_count": 167,
   "metadata": {},
   "outputs": [],
   "source": [
    "dfclustzr=dfclustR.groupby('Role').mean()"
   ]
  },
  {
   "cell_type": "code",
   "execution_count": 168,
   "metadata": {},
   "outputs": [],
   "source": [
    "dfclustzr.reset_index(inplace=True)"
   ]
  },
  {
   "cell_type": "code",
   "execution_count": 169,
   "metadata": {},
   "outputs": [],
   "source": [
    "st.header('2011-2019 Leaguewide Conventional Position Percentages')\n",
    "labels = dfclustR.Pos.unique()\n",
    "values = dfclustR['Pos'].value_counts(normalize=False)\n",
    "\n",
    "fig5 = go.Figure(data =[go.Pie(labels=labels, values=values)])\n",
    "fig5.update_layout(\n",
    "    title='Positions',\n",
    "    legend=dict(\n",
    "        x=0,\n",
    "        y=1.0,\n",
    "        bgcolor='rgba(255, 255, 255, 0)',\n",
    "        bordercolor='rgba(255, 255, 255, 0)'\n",
    "    ),\n",
    "    barmode='group',\n",
    "    bargap=0.15, # gap between bars of adjacent location coordinates.\n",
    "    bargroupgap=0.1 # gap between bars of the same location coordinate.\n",
    ")\n",
    "st.write(fig5)"
   ]
  },
  {
   "cell_type": "code",
   "execution_count": 170,
   "metadata": {},
   "outputs": [],
   "source": [
    "dfpospca=pd.read_csv('dfpospcazzz.csv')"
   ]
  },
  {
   "cell_type": "code",
   "execution_count": 171,
   "metadata": {},
   "outputs": [],
   "source": [
    "st.header('2011-2019 Conventional NBA position clusters ')\n",
    "fig2 = px.scatter_3d(dfpospca, x='PC 1', y='PC 2', z='PC 3', color='Pos',\n",
    "              )\n",
    "st.write(fig2)"
   ]
  },
  {
   "cell_type": "code",
   "execution_count": 172,
   "metadata": {},
   "outputs": [
    {
     "data": {
      "text/plain": [
       "<streamlit.DeltaGenerator.DeltaGenerator at 0x11c810198>"
      ]
     },
     "execution_count": 172,
     "metadata": {},
     "output_type": "execute_result"
    }
   ],
   "source": [
    "st.title('Results After Clustering New Roles')\n",
    "image3= Image.open('lebron.png')\n",
    "st.image(image3, use_column_width=True)"
   ]
  },
  {
   "cell_type": "code",
   "execution_count": 173,
   "metadata": {},
   "outputs": [],
   "source": [
    "st.header('2011-2019 BoxScore Stats by New Roles')\n",
    "label = dfclustzr['Role']\n",
    "points = dfclustzr['PTS']\n",
    "assists = dfclustzr['AST']\n",
    "rebounds = dfclustzr['TRB']\n",
    "threept = dfclustzr['3P%']\n",
    "blocks = dfclustzr['BLK']\n",
    "steals = dfclustzr['STL']\n",
    "fig1 = go.Figure()\n",
    "fig1.add_trace(go.Bar(x=label,\n",
    "                y= points,\n",
    "                name='Points',\n",
    "                marker_color='rgb(55, 83, 109)'\n",
    "                ))\n",
    "fig1.add_trace(go.Bar(x=label,\n",
    "                y=assists,\n",
    "                name='Assists',\n",
    "                marker_color='rgb(26, 118, 255)'\n",
    "                ))\n",
    "fig1.add_trace(go.Bar(x=label,\n",
    "                y=rebounds,\n",
    "                name='Rebounds',\n",
    "                marker_color='rgb(100, 50, 300)'\n",
    "                ))\n",
    "fig1.add_trace(go.Bar(x=label,\n",
    "                y=threept,\n",
    "                name='Threept %',\n",
    "                marker_color='rgb(400, 5, 60)'\n",
    "                ))\n",
    "fig1.add_trace(go.Bar(x=label,\n",
    "                y=blocks,\n",
    "                name='Blocks',\n",
    "                marker_color='rgb(150, 160, 200)'\n",
    "                ))\n",
    "fig1.add_trace(go.Bar(x=label,\n",
    "                y=steals,\n",
    "                name='Steals',\n",
    "                marker_color='rgb(40, 250, 100)'\n",
    "                ))\n",
    "fig1.update_layout(\n",
    "    title='BoxScore Stats',\n",
    "    xaxis_tickfont_size= 10,\n",
    "    yaxis=dict(\n",
    "        title='Average',\n",
    "        titlefont_size=16,\n",
    "        tickfont_size=14,\n",
    "    ),\n",
    "    xaxis=dict(\n",
    "        title='Role'\n",
    "    ),\n",
    "    legend=dict(\n",
    "        x=0,\n",
    "        y=1.0,\n",
    "        bgcolor='rgba(255, 255, 255, 0)',\n",
    "        bordercolor='rgba(255, 255, 255, 0)'\n",
    "    ),\n",
    "    barmode='group',\n",
    "    bargap=0.15, # gap between bars of adjacent location coordinates.\n",
    "    bargroupgap=0.1 # gap between bars of the same location coordinate.\n",
    ")\n",
    "st.write(fig1)"
   ]
  },
  {
   "cell_type": "code",
   "execution_count": 174,
   "metadata": {},
   "outputs": [],
   "source": [
    "st.header('2011-2019 Leaguewide Player Percentages by Role/Style')\n",
    "labels = dfclustR.Role.unique()\n",
    "values = dfclustR['Role'].value_counts(normalize=False)\n",
    "\n",
    "fig6 = go.Figure(data =[go.Pie(labels=labels, values=values)])\n",
    "fig6.update_layout(\n",
    "    title='Roles',\n",
    "    legend=dict(\n",
    "        x=0,\n",
    "        y=1.0,\n",
    "        bgcolor='rgba(255, 255, 255, 0)',\n",
    "        bordercolor='rgba(255, 255, 255, 0)'\n",
    "    ),\n",
    "    barmode='group',\n",
    "    bargap=0.15, # gap between bars of adjacent location coordinates.\n",
    "    bargroupgap=0.1 # gap between bars of the same location coordinate.\n",
    ")\n",
    "st.write(fig6)"
   ]
  },
  {
   "cell_type": "code",
   "execution_count": 175,
   "metadata": {},
   "outputs": [],
   "source": [
    "dfclustpca6=pd.read_csv('dfclustpca6.csv')"
   ]
  },
  {
   "cell_type": "code",
   "execution_count": 176,
   "metadata": {},
   "outputs": [],
   "source": [
    "st.header('2011-2019 New Clusters by Role/ Playing Style')\n",
    "fig3 = px.scatter_3d(dfclustpca6, x='PC1', y='PC2', z='PC3', color='Role',\n",
    "              )\n",
    "st.write(fig3)\n"
   ]
  },
  {
   "cell_type": "code",
   "execution_count": 177,
   "metadata": {},
   "outputs": [
    {
     "data": {
      "text/plain": [
       "<streamlit.DeltaGenerator.DeltaGenerator at 0x11c810198>"
      ]
     },
     "execution_count": 177,
     "metadata": {},
     "output_type": "execute_result"
    }
   ],
   "source": [
    "st.subheader('What is the difference between Elite teams & Average teams when it comes to player roles/styles')\n"
   ]
  },
  {
   "cell_type": "code",
   "execution_count": 178,
   "metadata": {},
   "outputs": [
    {
     "data": {
      "text/plain": [
       "<streamlit.DeltaGenerator.DeltaGenerator at 0x11c810198>"
      ]
     },
     "execution_count": 178,
     "metadata": {},
     "output_type": "execute_result"
    }
   ],
   "source": [
    "st.subheader('Do winning teams have more or less players with a specific style/role. Does roster diversity play a part in winning? ')\n"
   ]
  },
  {
   "cell_type": "code",
   "execution_count": 179,
   "metadata": {},
   "outputs": [],
   "source": [
    "dfAverage=pd.read_csv('dfAverageee.csv')"
   ]
  },
  {
   "cell_type": "code",
   "execution_count": 185,
   "metadata": {},
   "outputs": [],
   "source": [
    "st.header(\"Roster Construction for various 'Average' NBA Teams over the last 4 years\")\n",
    "labels = dfAverage.Role.unique()\n",
    "values = dfAverage['Role'].value_counts(normalize=False)\n",
    "colors = ['purple', 'mediumturquoise', 'darkorange', 'green', 'red', 'orange', 'blue', 'yellow', 'pink']\n",
    "\n",
    "fig8 = go.Figure(data =[go.Pie(labels=['All Star','Elite Wing','3&D', 'Do It All', 'Star Inside Big','Backup Inside Big', 'Superstar','Perimeter Scorer'],\n",
    "                               values=[11,9,6,5,3,2,1,1])])\n",
    "fig8.update_layout(\n",
    "    title='Roles for Average Teams',\n",
    "    legend=dict(\n",
    "        x=0,\n",
    "        y=1.0,\n",
    "        bgcolor='rgba(255, 255, 255, 0)',\n",
    "        bordercolor='rgba(255, 255, 255, 0)'\n",
    "    ),\n",
    "    barmode='group',\n",
    "    bargap=0.15, # gap between bars of adjacent location coordinates.\n",
    "    bargroupgap=0.1 # gap between bars of the same location coordinate.\n",
    ")\n",
    "fig8.update_traces(\n",
    "                  marker=dict(colors=colors))\n",
    "st.write(fig8)"
   ]
  },
  {
   "cell_type": "code",
   "execution_count": 181,
   "metadata": {},
   "outputs": [],
   "source": [
    "dfFinals=pd.read_csv('dfFinalsss.csv')"
   ]
  },
  {
   "cell_type": "code",
   "execution_count": 184,
   "metadata": {},
   "outputs": [],
   "source": [
    "st.header('Roster Construction for NBA Finals Teams over the last 4 years')\n",
    "labels = dfFinals.Role.unique()\n",
    "values = dfFinals['Role'].value_counts(normalize=False)\n",
    "colors = ['purple', 'mediumturquoise', 'darkorange', 'green', 'navyblue', 'orange', 'blue', 'yellow', 'pink']\n",
    "\n",
    "\n",
    "fig7 = go.Figure(data =[go.Pie(labels=['All Star','Elite Wing','3&D', 'Do It All', 'Elite Inside Big','Backup Inside Big', 'Superstar','Perimeter Scorer'],\n",
    "                               values=[11,6,4,1,4,3,7,3])])\n",
    "fig7.update_layout(\n",
    "    title='Roles for Elite Teams',\n",
    "    legend=dict(\n",
    "        x=0,\n",
    "        y=1.0,\n",
    "        bgcolor='rgba(255, 255, 255, 0)',\n",
    "        bordercolor='rgba(255, 255, 255, 0)'\n",
    "    ),\n",
    "    barmode='group',\n",
    "    bargap=0.15, # gap between bars of adjacent location coordinates.\n",
    "    bargroupgap=0.1 # gap between bars of the same location coordinate.\n",
    ")\n",
    "fig7.update_traces(\n",
    "                  marker=dict(colors=colors))\n",
    "st.write(fig7)\n"
   ]
  },
  {
   "cell_type": "code",
   "execution_count": 183,
   "metadata": {},
   "outputs": [
    {
     "data": {
      "text/plain": [
       "<streamlit.DeltaGenerator.DeltaGenerator at 0x11c810198>"
      ]
     },
     "execution_count": 183,
     "metadata": {},
     "output_type": "execute_result"
    }
   ],
   "source": [
    "st.subheader('Main Takeaway: Overall NBA Finalist teams have more star power and their inside players have a reserved/defined role. In comparison, average NBA teams have less star power and rely on star inside bigs as their focal points.')\n"
   ]
  },
  {
   "cell_type": "code",
   "execution_count": null,
   "metadata": {},
   "outputs": [],
   "source": []
  }
 ],
 "metadata": {
  "kernelspec": {
   "display_name": "Python 3",
   "language": "python",
   "name": "python3"
  },
  "language_info": {
   "codemirror_mode": {
    "name": "ipython",
    "version": 3
   },
   "file_extension": ".py",
   "mimetype": "text/x-python",
   "name": "python",
   "nbconvert_exporter": "python",
   "pygments_lexer": "ipython3",
   "version": "3.7.3"
  }
 },
 "nbformat": 4,
 "nbformat_minor": 2
}
