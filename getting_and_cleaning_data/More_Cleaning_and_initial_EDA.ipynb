{
 "cells": [
  {
   "cell_type": "markdown",
   "metadata": {},
   "source": [
    "# More cleaning and initial EDA visuals  \n"
   ]
  },
  {
   "cell_type": "code",
   "execution_count": 20,
   "metadata": {},
   "outputs": [],
   "source": [
    "import numpy as np\n",
    "import pandas as pd \n",
    "import seaborn as sns\n",
    "import matplotlib.pyplot as plt\n",
    "%matplotlib inline\n",
    "import plotly.express as px\n",
    "# Import Sci-Kit Learn\n",
    "# from sklearn.manifold import TSNE\n",
    "# from sklearn.cluster import KMeans\n",
    "# from sklearn.decomposition import PCA\n",
    "# from sklearn.preprocessing import StandardScaler"
   ]
  },
  {
   "cell_type": "code",
   "execution_count": 2,
   "metadata": {},
   "outputs": [],
   "source": [
    "df=pd.read_csv('BOXtest11.csv')"
   ]
  },
  {
   "cell_type": "code",
   "execution_count": 3,
   "metadata": {},
   "outputs": [
    {
     "data": {
      "text/plain": [
       "Index(['Player', 'DRtg', 'Season', 'ORtg', 'USG%', 'VORP', 'WS', 'PER', 'Rk',\n",
       "       'Age', 'Tm', 'Lg', 'G', 'GS', 'MP', 'FG', 'FGA', '2P', '2PA', '3P',\n",
       "       '3PA', 'FT', 'FTA', 'ORB', 'DRB', 'TRB', 'AST', 'STL', 'BLK', 'TOV',\n",
       "       'PF', 'PTS', 'FG%', '2P%', '3P%', 'eFG%', 'FT%', 'TS%'],\n",
       "      dtype='object')"
      ]
     },
     "execution_count": 3,
     "metadata": {},
     "output_type": "execute_result"
    }
   ],
   "source": [
    "df.columns"
   ]
  },
  {
   "cell_type": "code",
   "execution_count": 4,
   "metadata": {},
   "outputs": [
    {
     "data": {
      "text/plain": [
       "Index(['Player', 'DRtg', 'Season', 'ORtg', 'USG%', 'VORP', 'WS', 'PER', 'Rk',\n",
       "       'Age', 'Tm', 'Lg', 'G', 'GS', 'MP', 'FG', 'FGA', '2P', '2PA', '3P',\n",
       "       '3PA', 'FT', 'FTA', 'ORB', 'DRB', 'TRB', 'AST', 'STL', 'BLK', 'TOV',\n",
       "       'PF', 'PTS', 'FG%', '2P%', '3P%', 'eFG%', 'FT%', 'TS%'],\n",
       "      dtype='object')"
      ]
     },
     "execution_count": 4,
     "metadata": {},
     "output_type": "execute_result"
    }
   ],
   "source": [
    "df.columns"
   ]
  },
  {
   "cell_type": "code",
   "execution_count": null,
   "metadata": {},
   "outputs": [],
   "source": [
    "#NEXT steps \n",
    "#dropping columns\n",
    "#only keep observations from modern era\n",
    "# does eda show changes overtime\n",
    "\n",
    " \n",
    "\n",
    "\n"
   ]
  },
  {
   "cell_type": "code",
   "execution_count": 4,
   "metadata": {},
   "outputs": [
    {
     "data": {
      "text/plain": [
       "Index(['Player', 'DRtg', 'Season', 'ORtg', 'USG%', 'VORP', 'WS', 'PER', 'Rk',\n",
       "       'Age', 'Tm', 'Lg', 'G', 'GS', 'MP', 'FG', 'FGA', '2P', '2PA', '3P',\n",
       "       '3PA', 'FT', 'FTA', 'ORB', 'DRB', 'TRB', 'AST', 'STL', 'BLK', 'TOV',\n",
       "       'PF', 'PTS', 'FG%', '2P%', '3P%', 'eFG%', 'FT%', 'TS%'],\n",
       "      dtype='object')"
      ]
     },
     "execution_count": 4,
     "metadata": {},
     "output_type": "execute_result"
    }
   ],
   "source": [
    "df.columns"
   ]
  },
  {
   "cell_type": "code",
   "execution_count": 5,
   "metadata": {},
   "outputs": [],
   "source": [
    "# drop unneccessary columns"
   ]
  },
  {
   "cell_type": "code",
   "execution_count": 6,
   "metadata": {},
   "outputs": [
    {
     "data": {
      "text/html": [
       "<div>\n",
       "<style scoped>\n",
       "    .dataframe tbody tr th:only-of-type {\n",
       "        vertical-align: middle;\n",
       "    }\n",
       "\n",
       "    .dataframe tbody tr th {\n",
       "        vertical-align: top;\n",
       "    }\n",
       "\n",
       "    .dataframe thead th {\n",
       "        text-align: right;\n",
       "    }\n",
       "</style>\n",
       "<table border=\"1\" class=\"dataframe\">\n",
       "  <thead>\n",
       "    <tr style=\"text-align: right;\">\n",
       "      <th></th>\n",
       "      <th>Player</th>\n",
       "      <th>DRtg</th>\n",
       "      <th>Season</th>\n",
       "      <th>ORtg</th>\n",
       "      <th>USG%</th>\n",
       "      <th>VORP</th>\n",
       "      <th>WS</th>\n",
       "      <th>PER</th>\n",
       "      <th>Rk</th>\n",
       "      <th>Age</th>\n",
       "      <th>...</th>\n",
       "      <th>BLK</th>\n",
       "      <th>TOV</th>\n",
       "      <th>PF</th>\n",
       "      <th>PTS</th>\n",
       "      <th>FG%</th>\n",
       "      <th>2P%</th>\n",
       "      <th>3P%</th>\n",
       "      <th>eFG%</th>\n",
       "      <th>FT%</th>\n",
       "      <th>TS%</th>\n",
       "    </tr>\n",
       "  </thead>\n",
       "  <tbody>\n",
       "    <tr>\n",
       "      <th>0</th>\n",
       "      <td>Álex Abrines</td>\n",
       "      <td>111</td>\n",
       "      <td>2018-19</td>\n",
       "      <td>103.0</td>\n",
       "      <td>12.2</td>\n",
       "      <td>-0.2</td>\n",
       "      <td>0.6</td>\n",
       "      <td>6.3</td>\n",
       "      <td>1.0</td>\n",
       "      <td>25.0</td>\n",
       "      <td>...</td>\n",
       "      <td>0.5</td>\n",
       "      <td>1.1</td>\n",
       "      <td>4.2</td>\n",
       "      <td>13.1</td>\n",
       "      <td>0.357</td>\n",
       "      <td>0.500</td>\n",
       "      <td>0.323</td>\n",
       "      <td>0.487</td>\n",
       "      <td>0.923</td>\n",
       "      <td>0.507</td>\n",
       "    </tr>\n",
       "    <tr>\n",
       "      <th>1</th>\n",
       "      <td>Jaylen Adams</td>\n",
       "      <td>115</td>\n",
       "      <td>2018-19</td>\n",
       "      <td>99.0</td>\n",
       "      <td>13.5</td>\n",
       "      <td>-0.3</td>\n",
       "      <td>0.1</td>\n",
       "      <td>7.6</td>\n",
       "      <td>3.0</td>\n",
       "      <td>22.0</td>\n",
       "      <td>...</td>\n",
       "      <td>0.5</td>\n",
       "      <td>3.0</td>\n",
       "      <td>4.9</td>\n",
       "      <td>11.7</td>\n",
       "      <td>0.345</td>\n",
       "      <td>0.361</td>\n",
       "      <td>0.338</td>\n",
       "      <td>0.459</td>\n",
       "      <td>0.778</td>\n",
       "      <td>0.474</td>\n",
       "    </tr>\n",
       "    <tr>\n",
       "      <th>2</th>\n",
       "      <td>Steven Adams</td>\n",
       "      <td>106</td>\n",
       "      <td>2018-19</td>\n",
       "      <td>120.0</td>\n",
       "      <td>16.4</td>\n",
       "      <td>3.2</td>\n",
       "      <td>9.1</td>\n",
       "      <td>18.5</td>\n",
       "      <td>4.0</td>\n",
       "      <td>25.0</td>\n",
       "      <td>...</td>\n",
       "      <td>1.3</td>\n",
       "      <td>2.4</td>\n",
       "      <td>3.6</td>\n",
       "      <td>19.4</td>\n",
       "      <td>0.595</td>\n",
       "      <td>0.596</td>\n",
       "      <td>0.000</td>\n",
       "      <td>0.595</td>\n",
       "      <td>0.500</td>\n",
       "      <td>0.591</td>\n",
       "    </tr>\n",
       "    <tr>\n",
       "      <th>3</th>\n",
       "      <td>Bam Adebayo</td>\n",
       "      <td>104</td>\n",
       "      <td>2018-19</td>\n",
       "      <td>120.0</td>\n",
       "      <td>15.8</td>\n",
       "      <td>2.4</td>\n",
       "      <td>6.8</td>\n",
       "      <td>17.9</td>\n",
       "      <td>5.0</td>\n",
       "      <td>21.0</td>\n",
       "      <td>...</td>\n",
       "      <td>1.7</td>\n",
       "      <td>3.1</td>\n",
       "      <td>5.2</td>\n",
       "      <td>18.6</td>\n",
       "      <td>0.576</td>\n",
       "      <td>0.588</td>\n",
       "      <td>0.200</td>\n",
       "      <td>0.579</td>\n",
       "      <td>0.735</td>\n",
       "      <td>0.623</td>\n",
       "    </tr>\n",
       "    <tr>\n",
       "      <th>4</th>\n",
       "      <td>LaMarcus Aldridge</td>\n",
       "      <td>110</td>\n",
       "      <td>2018-19</td>\n",
       "      <td>117.0</td>\n",
       "      <td>26.9</td>\n",
       "      <td>2.5</td>\n",
       "      <td>9.3</td>\n",
       "      <td>22.9</td>\n",
       "      <td>8.0</td>\n",
       "      <td>33.0</td>\n",
       "      <td>...</td>\n",
       "      <td>1.9</td>\n",
       "      <td>2.6</td>\n",
       "      <td>3.3</td>\n",
       "      <td>31.4</td>\n",
       "      <td>0.519</td>\n",
       "      <td>0.528</td>\n",
       "      <td>0.238</td>\n",
       "      <td>0.522</td>\n",
       "      <td>0.847</td>\n",
       "      <td>0.576</td>\n",
       "    </tr>\n",
       "  </tbody>\n",
       "</table>\n",
       "<p>5 rows × 38 columns</p>\n",
       "</div>"
      ],
      "text/plain": [
       "              Player  DRtg   Season   ORtg  USG%  VORP   WS   PER   Rk   Age  \\\n",
       "0       Álex Abrines   111  2018-19  103.0  12.2  -0.2  0.6   6.3  1.0  25.0   \n",
       "1       Jaylen Adams   115  2018-19   99.0  13.5  -0.3  0.1   7.6  3.0  22.0   \n",
       "2       Steven Adams   106  2018-19  120.0  16.4   3.2  9.1  18.5  4.0  25.0   \n",
       "3        Bam Adebayo   104  2018-19  120.0  15.8   2.4  6.8  17.9  5.0  21.0   \n",
       "4  LaMarcus Aldridge   110  2018-19  117.0  26.9   2.5  9.3  22.9  8.0  33.0   \n",
       "\n",
       "   ...  BLK  TOV   PF   PTS    FG%    2P%    3P%   eFG%    FT%    TS%  \n",
       "0  ...  0.5  1.1  4.2  13.1  0.357  0.500  0.323  0.487  0.923  0.507  \n",
       "1  ...  0.5  3.0  4.9  11.7  0.345  0.361  0.338  0.459  0.778  0.474  \n",
       "2  ...  1.3  2.4  3.6  19.4  0.595  0.596  0.000  0.595  0.500  0.591  \n",
       "3  ...  1.7  3.1  5.2  18.6  0.576  0.588  0.200  0.579  0.735  0.623  \n",
       "4  ...  1.9  2.6  3.3  31.4  0.519  0.528  0.238  0.522  0.847  0.576  \n",
       "\n",
       "[5 rows x 38 columns]"
      ]
     },
     "execution_count": 6,
     "metadata": {},
     "output_type": "execute_result"
    }
   ],
   "source": [
    "df.head()"
   ]
  },
  {
   "cell_type": "code",
   "execution_count": 8,
   "metadata": {
    "collapsed": true
   },
   "outputs": [
    {
     "data": {
      "text/plain": [
       "0       2018-19\n",
       "1       2018-19\n",
       "2       2018-19\n",
       "3       2018-19\n",
       "4       2018-19\n",
       "5       2018-19\n",
       "6       2018-19\n",
       "7       2018-19\n",
       "8       2018-19\n",
       "9       2018-19\n",
       "10      2018-19\n",
       "11      2018-19\n",
       "12      2018-19\n",
       "13      2018-19\n",
       "14      2018-19\n",
       "15      2018-19\n",
       "16      2018-19\n",
       "17      2018-19\n",
       "18      2018-19\n",
       "19      2018-19\n",
       "20      2018-19\n",
       "21      2018-19\n",
       "22      2018-19\n",
       "23      2018-19\n",
       "24      2018-19\n",
       "25      2018-19\n",
       "26      2018-19\n",
       "27      2018-19\n",
       "28      2018-19\n",
       "29      2018-19\n",
       "         ...   \n",
       "6728    2000-01\n",
       "6729    2000-01\n",
       "6730    2000-01\n",
       "6731    2000-01\n",
       "6732    2000-01\n",
       "6733    2000-01\n",
       "6734    2000-01\n",
       "6735    2000-01\n",
       "6736    2000-01\n",
       "6737    2000-01\n",
       "6738    2000-01\n",
       "6739    2000-01\n",
       "6740    2000-01\n",
       "6741    2000-01\n",
       "6742    2000-01\n",
       "6743    2000-01\n",
       "6744    2000-01\n",
       "6745    2000-01\n",
       "6746    2000-01\n",
       "6747    2000-01\n",
       "6748    2000-01\n",
       "6749    2000-01\n",
       "6750    2000-01\n",
       "6751    2000-01\n",
       "6752    2000-01\n",
       "6753    2000-01\n",
       "6754    2000-01\n",
       "6755    2000-01\n",
       "6756    2000-01\n",
       "6757    2000-01\n",
       "Name: Season, Length: 6758, dtype: object"
      ]
     },
     "execution_count": 8,
     "metadata": {},
     "output_type": "execute_result"
    }
   ],
   "source": [
    "df.Season"
   ]
  },
  {
   "cell_type": "code",
   "execution_count": 3,
   "metadata": {},
   "outputs": [],
   "source": [
    "df= df.apply(pd.to_numeric, errors='ignore')\n"
   ]
  },
  {
   "cell_type": "code",
   "execution_count": 14,
   "metadata": {
    "collapsed": true
   },
   "outputs": [
    {
     "name": "stdout",
     "output_type": "stream",
     "text": [
      "<class 'pandas.core.frame.DataFrame'>\n",
      "RangeIndex: 6758 entries, 0 to 6757\n",
      "Data columns (total 38 columns):\n",
      "Player    6758 non-null object\n",
      "DRtg      6758 non-null int64\n",
      "Season    6758 non-null object\n",
      "ORtg      6758 non-null float64\n",
      "USG%      6758 non-null float64\n",
      "VORP      6758 non-null float64\n",
      "WS        6758 non-null float64\n",
      "PER       6758 non-null float64\n",
      "Rk        6758 non-null float64\n",
      "Age       6758 non-null float64\n",
      "Tm        6758 non-null object\n",
      "Lg        6758 non-null object\n",
      "G         6758 non-null float64\n",
      "GS        6758 non-null float64\n",
      "MP        6758 non-null float64\n",
      "FG        6758 non-null float64\n",
      "FGA       6758 non-null float64\n",
      "2P        6758 non-null float64\n",
      "2PA       6758 non-null float64\n",
      "3P        6758 non-null float64\n",
      "3PA       6758 non-null float64\n",
      "FT        6758 non-null float64\n",
      "FTA       6758 non-null float64\n",
      "ORB       6758 non-null float64\n",
      "DRB       6758 non-null float64\n",
      "TRB       6758 non-null float64\n",
      "AST       6758 non-null float64\n",
      "STL       6758 non-null float64\n",
      "BLK       6758 non-null float64\n",
      "TOV       6758 non-null float64\n",
      "PF        6758 non-null float64\n",
      "PTS       6758 non-null float64\n",
      "FG%       6758 non-null float64\n",
      "2P%       6758 non-null float64\n",
      "3P%       6758 non-null float64\n",
      "eFG%      6758 non-null float64\n",
      "FT%       6758 non-null float64\n",
      "TS%       6758 non-null float64\n",
      "dtypes: float64(33), int64(1), object(4)\n",
      "memory usage: 2.0+ MB\n"
     ]
    }
   ],
   "source": [
    "df.info()"
   ]
  },
  {
   "cell_type": "markdown",
   "metadata": {},
   "source": [
    "## Only keeping players for modern era so from year 2011-2019"
   ]
  },
  {
   "cell_type": "code",
   "execution_count": 30,
   "metadata": {},
   "outputs": [
    {
     "data": {
      "text/html": [
       "<div>\n",
       "<style scoped>\n",
       "    .dataframe tbody tr th:only-of-type {\n",
       "        vertical-align: middle;\n",
       "    }\n",
       "\n",
       "    .dataframe tbody tr th {\n",
       "        vertical-align: top;\n",
       "    }\n",
       "\n",
       "    .dataframe thead th {\n",
       "        text-align: right;\n",
       "    }\n",
       "</style>\n",
       "<table border=\"1\" class=\"dataframe\">\n",
       "  <thead>\n",
       "    <tr style=\"text-align: right;\">\n",
       "      <th></th>\n",
       "      <th>Player</th>\n",
       "      <th>DRtg</th>\n",
       "      <th>Season</th>\n",
       "      <th>ORtg</th>\n",
       "      <th>USG%</th>\n",
       "      <th>VORP</th>\n",
       "      <th>WS</th>\n",
       "      <th>PER</th>\n",
       "      <th>Rk</th>\n",
       "      <th>Age</th>\n",
       "      <th>...</th>\n",
       "      <th>BLK</th>\n",
       "      <th>TOV</th>\n",
       "      <th>PF</th>\n",
       "      <th>PTS</th>\n",
       "      <th>FG%</th>\n",
       "      <th>2P%</th>\n",
       "      <th>3P%</th>\n",
       "      <th>eFG%</th>\n",
       "      <th>FT%</th>\n",
       "      <th>TS%</th>\n",
       "    </tr>\n",
       "  </thead>\n",
       "  <tbody>\n",
       "    <tr>\n",
       "      <th>0</th>\n",
       "      <td>Álex Abrines</td>\n",
       "      <td>111</td>\n",
       "      <td>2018-19</td>\n",
       "      <td>103.0</td>\n",
       "      <td>12.2</td>\n",
       "      <td>-0.2</td>\n",
       "      <td>0.6</td>\n",
       "      <td>6.3</td>\n",
       "      <td>1.0</td>\n",
       "      <td>25.0</td>\n",
       "      <td>...</td>\n",
       "      <td>0.5</td>\n",
       "      <td>1.1</td>\n",
       "      <td>4.2</td>\n",
       "      <td>13.1</td>\n",
       "      <td>0.357</td>\n",
       "      <td>0.500</td>\n",
       "      <td>0.323</td>\n",
       "      <td>0.487</td>\n",
       "      <td>0.923</td>\n",
       "      <td>0.507</td>\n",
       "    </tr>\n",
       "    <tr>\n",
       "      <th>1</th>\n",
       "      <td>Jaylen Adams</td>\n",
       "      <td>115</td>\n",
       "      <td>2018-19</td>\n",
       "      <td>99.0</td>\n",
       "      <td>13.5</td>\n",
       "      <td>-0.3</td>\n",
       "      <td>0.1</td>\n",
       "      <td>7.6</td>\n",
       "      <td>3.0</td>\n",
       "      <td>22.0</td>\n",
       "      <td>...</td>\n",
       "      <td>0.5</td>\n",
       "      <td>3.0</td>\n",
       "      <td>4.9</td>\n",
       "      <td>11.7</td>\n",
       "      <td>0.345</td>\n",
       "      <td>0.361</td>\n",
       "      <td>0.338</td>\n",
       "      <td>0.459</td>\n",
       "      <td>0.778</td>\n",
       "      <td>0.474</td>\n",
       "    </tr>\n",
       "    <tr>\n",
       "      <th>2</th>\n",
       "      <td>Steven Adams</td>\n",
       "      <td>106</td>\n",
       "      <td>2018-19</td>\n",
       "      <td>120.0</td>\n",
       "      <td>16.4</td>\n",
       "      <td>3.2</td>\n",
       "      <td>9.1</td>\n",
       "      <td>18.5</td>\n",
       "      <td>4.0</td>\n",
       "      <td>25.0</td>\n",
       "      <td>...</td>\n",
       "      <td>1.3</td>\n",
       "      <td>2.4</td>\n",
       "      <td>3.6</td>\n",
       "      <td>19.4</td>\n",
       "      <td>0.595</td>\n",
       "      <td>0.596</td>\n",
       "      <td>0.000</td>\n",
       "      <td>0.595</td>\n",
       "      <td>0.500</td>\n",
       "      <td>0.591</td>\n",
       "    </tr>\n",
       "    <tr>\n",
       "      <th>3</th>\n",
       "      <td>Bam Adebayo</td>\n",
       "      <td>104</td>\n",
       "      <td>2018-19</td>\n",
       "      <td>120.0</td>\n",
       "      <td>15.8</td>\n",
       "      <td>2.4</td>\n",
       "      <td>6.8</td>\n",
       "      <td>17.9</td>\n",
       "      <td>5.0</td>\n",
       "      <td>21.0</td>\n",
       "      <td>...</td>\n",
       "      <td>1.7</td>\n",
       "      <td>3.1</td>\n",
       "      <td>5.2</td>\n",
       "      <td>18.6</td>\n",
       "      <td>0.576</td>\n",
       "      <td>0.588</td>\n",
       "      <td>0.200</td>\n",
       "      <td>0.579</td>\n",
       "      <td>0.735</td>\n",
       "      <td>0.623</td>\n",
       "    </tr>\n",
       "    <tr>\n",
       "      <th>4</th>\n",
       "      <td>LaMarcus Aldridge</td>\n",
       "      <td>110</td>\n",
       "      <td>2018-19</td>\n",
       "      <td>117.0</td>\n",
       "      <td>26.9</td>\n",
       "      <td>2.5</td>\n",
       "      <td>9.3</td>\n",
       "      <td>22.9</td>\n",
       "      <td>8.0</td>\n",
       "      <td>33.0</td>\n",
       "      <td>...</td>\n",
       "      <td>1.9</td>\n",
       "      <td>2.6</td>\n",
       "      <td>3.3</td>\n",
       "      <td>31.4</td>\n",
       "      <td>0.519</td>\n",
       "      <td>0.528</td>\n",
       "      <td>0.238</td>\n",
       "      <td>0.522</td>\n",
       "      <td>0.847</td>\n",
       "      <td>0.576</td>\n",
       "    </tr>\n",
       "    <tr>\n",
       "      <th>5</th>\n",
       "      <td>Grayson Allen</td>\n",
       "      <td>111</td>\n",
       "      <td>2018-19</td>\n",
       "      <td>95.0</td>\n",
       "      <td>24.4</td>\n",
       "      <td>-0.5</td>\n",
       "      <td>0.0</td>\n",
       "      <td>7.5</td>\n",
       "      <td>10.0</td>\n",
       "      <td>23.0</td>\n",
       "      <td>...</td>\n",
       "      <td>0.7</td>\n",
       "      <td>3.8</td>\n",
       "      <td>5.4</td>\n",
       "      <td>24.3</td>\n",
       "      <td>0.376</td>\n",
       "      <td>0.443</td>\n",
       "      <td>0.323</td>\n",
       "      <td>0.466</td>\n",
       "      <td>0.750</td>\n",
       "      <td>0.516</td>\n",
       "    </tr>\n",
       "    <tr>\n",
       "      <th>6</th>\n",
       "      <td>Jarrett Allen</td>\n",
       "      <td>106</td>\n",
       "      <td>2018-19</td>\n",
       "      <td>123.0</td>\n",
       "      <td>15.9</td>\n",
       "      <td>2.4</td>\n",
       "      <td>7.6</td>\n",
       "      <td>18.5</td>\n",
       "      <td>11.0</td>\n",
       "      <td>20.0</td>\n",
       "      <td>...</td>\n",
       "      <td>2.7</td>\n",
       "      <td>2.3</td>\n",
       "      <td>4.2</td>\n",
       "      <td>19.8</td>\n",
       "      <td>0.590</td>\n",
       "      <td>0.629</td>\n",
       "      <td>0.133</td>\n",
       "      <td>0.595</td>\n",
       "      <td>0.709</td>\n",
       "      <td>0.632</td>\n",
       "    </tr>\n",
       "    <tr>\n",
       "      <th>7</th>\n",
       "      <td>Kadeem Allen</td>\n",
       "      <td>114</td>\n",
       "      <td>2018-19</td>\n",
       "      <td>116.0</td>\n",
       "      <td>19.6</td>\n",
       "      <td>0.1</td>\n",
       "      <td>1.0</td>\n",
       "      <td>16.2</td>\n",
       "      <td>12.0</td>\n",
       "      <td>26.0</td>\n",
       "      <td>...</td>\n",
       "      <td>0.5</td>\n",
       "      <td>3.0</td>\n",
       "      <td>5.3</td>\n",
       "      <td>21.9</td>\n",
       "      <td>0.461</td>\n",
       "      <td>0.457</td>\n",
       "      <td>0.472</td>\n",
       "      <td>0.521</td>\n",
       "      <td>0.778</td>\n",
       "      <td>0.574</td>\n",
       "    </tr>\n",
       "    <tr>\n",
       "      <th>8</th>\n",
       "      <td>Al-Farouq Aminu</td>\n",
       "      <td>109</td>\n",
       "      <td>2018-19</td>\n",
       "      <td>118.0</td>\n",
       "      <td>13.7</td>\n",
       "      <td>1.7</td>\n",
       "      <td>5.8</td>\n",
       "      <td>13.2</td>\n",
       "      <td>13.0</td>\n",
       "      <td>28.0</td>\n",
       "      <td>...</td>\n",
       "      <td>0.7</td>\n",
       "      <td>1.5</td>\n",
       "      <td>3.0</td>\n",
       "      <td>16.1</td>\n",
       "      <td>0.433</td>\n",
       "      <td>0.514</td>\n",
       "      <td>0.343</td>\n",
       "      <td>0.514</td>\n",
       "      <td>0.867</td>\n",
       "      <td>0.568</td>\n",
       "    </tr>\n",
       "    <tr>\n",
       "      <th>9</th>\n",
       "      <td>Justin Anderson</td>\n",
       "      <td>113</td>\n",
       "      <td>2018-19</td>\n",
       "      <td>103.0</td>\n",
       "      <td>17.2</td>\n",
       "      <td>-0.1</td>\n",
       "      <td>0.4</td>\n",
       "      <td>11.2</td>\n",
       "      <td>14.0</td>\n",
       "      <td>25.0</td>\n",
       "      <td>...</td>\n",
       "      <td>1.3</td>\n",
       "      <td>2.3</td>\n",
       "      <td>4.8</td>\n",
       "      <td>17.8</td>\n",
       "      <td>0.408</td>\n",
       "      <td>0.500</td>\n",
       "      <td>0.312</td>\n",
       "      <td>0.484</td>\n",
       "      <td>0.743</td>\n",
       "      <td>0.516</td>\n",
       "    </tr>\n",
       "    <tr>\n",
       "      <th>10</th>\n",
       "      <td>Kyle Anderson</td>\n",
       "      <td>107</td>\n",
       "      <td>2018-19</td>\n",
       "      <td>110.0</td>\n",
       "      <td>12.6</td>\n",
       "      <td>1.0</td>\n",
       "      <td>2.7</td>\n",
       "      <td>12.8</td>\n",
       "      <td>15.0</td>\n",
       "      <td>25.0</td>\n",
       "      <td>...</td>\n",
       "      <td>1.4</td>\n",
       "      <td>2.3</td>\n",
       "      <td>4.3</td>\n",
       "      <td>13.4</td>\n",
       "      <td>0.543</td>\n",
       "      <td>0.583</td>\n",
       "      <td>0.265</td>\n",
       "      <td>0.560</td>\n",
       "      <td>0.578</td>\n",
       "      <td>0.569</td>\n",
       "    </tr>\n",
       "    <tr>\n",
       "      <th>11</th>\n",
       "      <td>Giannis Antetokounmpo</td>\n",
       "      <td>99</td>\n",
       "      <td>2018-19</td>\n",
       "      <td>121.0</td>\n",
       "      <td>32.3</td>\n",
       "      <td>7.6</td>\n",
       "      <td>14.4</td>\n",
       "      <td>30.9</td>\n",
       "      <td>18.0</td>\n",
       "      <td>24.0</td>\n",
       "      <td>...</td>\n",
       "      <td>2.2</td>\n",
       "      <td>5.3</td>\n",
       "      <td>4.6</td>\n",
       "      <td>39.3</td>\n",
       "      <td>0.578</td>\n",
       "      <td>0.641</td>\n",
       "      <td>0.256</td>\n",
       "      <td>0.599</td>\n",
       "      <td>0.729</td>\n",
       "      <td>0.644</td>\n",
       "    </tr>\n",
       "    <tr>\n",
       "      <th>12</th>\n",
       "      <td>OG Anunoby</td>\n",
       "      <td>109</td>\n",
       "      <td>2018-19</td>\n",
       "      <td>104.0</td>\n",
       "      <td>15.5</td>\n",
       "      <td>0.3</td>\n",
       "      <td>2.0</td>\n",
       "      <td>9.8</td>\n",
       "      <td>21.0</td>\n",
       "      <td>21.0</td>\n",
       "      <td>...</td>\n",
       "      <td>0.8</td>\n",
       "      <td>1.9</td>\n",
       "      <td>5.0</td>\n",
       "      <td>16.6</td>\n",
       "      <td>0.453</td>\n",
       "      <td>0.574</td>\n",
       "      <td>0.332</td>\n",
       "      <td>0.536</td>\n",
       "      <td>0.581</td>\n",
       "      <td>0.544</td>\n",
       "    </tr>\n",
       "    <tr>\n",
       "      <th>13</th>\n",
       "      <td>Ryan Arcidiacono</td>\n",
       "      <td>115</td>\n",
       "      <td>2018-19</td>\n",
       "      <td>121.0</td>\n",
       "      <td>11.7</td>\n",
       "      <td>0.5</td>\n",
       "      <td>3.7</td>\n",
       "      <td>11.6</td>\n",
       "      <td>22.0</td>\n",
       "      <td>24.0</td>\n",
       "      <td>...</td>\n",
       "      <td>0.1</td>\n",
       "      <td>1.6</td>\n",
       "      <td>4.2</td>\n",
       "      <td>13.5</td>\n",
       "      <td>0.447</td>\n",
       "      <td>0.527</td>\n",
       "      <td>0.373</td>\n",
       "      <td>0.544</td>\n",
       "      <td>0.873</td>\n",
       "      <td>0.588</td>\n",
       "    </tr>\n",
       "    <tr>\n",
       "      <th>14</th>\n",
       "      <td>Trevor Ariza</td>\n",
       "      <td>115</td>\n",
       "      <td>2018-19</td>\n",
       "      <td>107.0</td>\n",
       "      <td>16.6</td>\n",
       "      <td>0.9</td>\n",
       "      <td>2.5</td>\n",
       "      <td>12.0</td>\n",
       "      <td>23.0</td>\n",
       "      <td>33.0</td>\n",
       "      <td>...</td>\n",
       "      <td>0.4</td>\n",
       "      <td>2.1</td>\n",
       "      <td>2.6</td>\n",
       "      <td>17.5</td>\n",
       "      <td>0.399</td>\n",
       "      <td>0.493</td>\n",
       "      <td>0.334</td>\n",
       "      <td>0.498</td>\n",
       "      <td>0.793</td>\n",
       "      <td>0.534</td>\n",
       "    </tr>\n",
       "    <tr>\n",
       "      <th>15</th>\n",
       "      <td>D.J. Augustin</td>\n",
       "      <td>112</td>\n",
       "      <td>2018-19</td>\n",
       "      <td>122.0</td>\n",
       "      <td>17.2</td>\n",
       "      <td>1.0</td>\n",
       "      <td>6.9</td>\n",
       "      <td>15.7</td>\n",
       "      <td>24.0</td>\n",
       "      <td>31.0</td>\n",
       "      <td>...</td>\n",
       "      <td>0.1</td>\n",
       "      <td>2.8</td>\n",
       "      <td>2.5</td>\n",
       "      <td>20.4</td>\n",
       "      <td>0.470</td>\n",
       "      <td>0.511</td>\n",
       "      <td>0.421</td>\n",
       "      <td>0.566</td>\n",
       "      <td>0.866</td>\n",
       "      <td>0.616</td>\n",
       "    </tr>\n",
       "    <tr>\n",
       "      <th>16</th>\n",
       "      <td>Deandre Ayton</td>\n",
       "      <td>113</td>\n",
       "      <td>2018-19</td>\n",
       "      <td>117.0</td>\n",
       "      <td>21.2</td>\n",
       "      <td>1.2</td>\n",
       "      <td>5.8</td>\n",
       "      <td>20.5</td>\n",
       "      <td>25.0</td>\n",
       "      <td>20.0</td>\n",
       "      <td>...</td>\n",
       "      <td>1.5</td>\n",
       "      <td>2.8</td>\n",
       "      <td>4.6</td>\n",
       "      <td>25.4</td>\n",
       "      <td>0.585</td>\n",
       "      <td>0.588</td>\n",
       "      <td>0.000</td>\n",
       "      <td>0.585</td>\n",
       "      <td>0.746</td>\n",
       "      <td>0.608</td>\n",
       "    </tr>\n",
       "    <tr>\n",
       "      <th>17</th>\n",
       "      <td>Dwayne Bacon</td>\n",
       "      <td>116</td>\n",
       "      <td>2018-19</td>\n",
       "      <td>114.0</td>\n",
       "      <td>16.8</td>\n",
       "      <td>-0.3</td>\n",
       "      <td>1.2</td>\n",
       "      <td>11.7</td>\n",
       "      <td>26.0</td>\n",
       "      <td>23.0</td>\n",
       "      <td>...</td>\n",
       "      <td>0.3</td>\n",
       "      <td>1.2</td>\n",
       "      <td>4.6</td>\n",
       "      <td>20.2</td>\n",
       "      <td>0.475</td>\n",
       "      <td>0.494</td>\n",
       "      <td>0.437</td>\n",
       "      <td>0.549</td>\n",
       "      <td>0.739</td>\n",
       "      <td>0.570</td>\n",
       "    </tr>\n",
       "    <tr>\n",
       "      <th>18</th>\n",
       "      <td>Marvin Bagley</td>\n",
       "      <td>110</td>\n",
       "      <td>2018-19</td>\n",
       "      <td>111.0</td>\n",
       "      <td>24.2</td>\n",
       "      <td>0.1</td>\n",
       "      <td>3.6</td>\n",
       "      <td>18.9</td>\n",
       "      <td>27.0</td>\n",
       "      <td>19.0</td>\n",
       "      <td>...</td>\n",
       "      <td>1.8</td>\n",
       "      <td>2.9</td>\n",
       "      <td>3.6</td>\n",
       "      <td>27.4</td>\n",
       "      <td>0.504</td>\n",
       "      <td>0.534</td>\n",
       "      <td>0.313</td>\n",
       "      <td>0.525</td>\n",
       "      <td>0.691</td>\n",
       "      <td>0.562</td>\n",
       "    </tr>\n",
       "    <tr>\n",
       "      <th>19</th>\n",
       "      <td>Lonzo Ball</td>\n",
       "      <td>109</td>\n",
       "      <td>2018-19</td>\n",
       "      <td>100.0</td>\n",
       "      <td>16.9</td>\n",
       "      <td>0.9</td>\n",
       "      <td>1.6</td>\n",
       "      <td>11.7</td>\n",
       "      <td>30.0</td>\n",
       "      <td>21.0</td>\n",
       "      <td>...</td>\n",
       "      <td>0.6</td>\n",
       "      <td>3.4</td>\n",
       "      <td>3.7</td>\n",
       "      <td>15.2</td>\n",
       "      <td>0.406</td>\n",
       "      <td>0.482</td>\n",
       "      <td>0.329</td>\n",
       "      <td>0.488</td>\n",
       "      <td>0.417</td>\n",
       "      <td>0.487</td>\n",
       "    </tr>\n",
       "    <tr>\n",
       "      <th>20</th>\n",
       "      <td>Mohamed Bamba</td>\n",
       "      <td>103</td>\n",
       "      <td>2018-19</td>\n",
       "      <td>105.0</td>\n",
       "      <td>17.8</td>\n",
       "      <td>0.4</td>\n",
       "      <td>1.7</td>\n",
       "      <td>14.9</td>\n",
       "      <td>31.0</td>\n",
       "      <td>20.0</td>\n",
       "      <td>...</td>\n",
       "      <td>4.1</td>\n",
       "      <td>2.7</td>\n",
       "      <td>6.5</td>\n",
       "      <td>18.7</td>\n",
       "      <td>0.481</td>\n",
       "      <td>0.555</td>\n",
       "      <td>0.300</td>\n",
       "      <td>0.525</td>\n",
       "      <td>0.587</td>\n",
       "      <td>0.539</td>\n",
       "    </tr>\n",
       "    <tr>\n",
       "      <th>21</th>\n",
       "      <td>J.J. Barea</td>\n",
       "      <td>113</td>\n",
       "      <td>2018-19</td>\n",
       "      <td>105.0</td>\n",
       "      <td>28.1</td>\n",
       "      <td>0.2</td>\n",
       "      <td>1.0</td>\n",
       "      <td>16.3</td>\n",
       "      <td>32.0</td>\n",
       "      <td>34.0</td>\n",
       "      <td>...</td>\n",
       "      <td>0.1</td>\n",
       "      <td>4.6</td>\n",
       "      <td>3.2</td>\n",
       "      <td>26.8</td>\n",
       "      <td>0.418</td>\n",
       "      <td>0.479</td>\n",
       "      <td>0.297</td>\n",
       "      <td>0.468</td>\n",
       "      <td>0.705</td>\n",
       "      <td>0.495</td>\n",
       "    </tr>\n",
       "    <tr>\n",
       "      <th>22</th>\n",
       "      <td>Harrison Barnes</td>\n",
       "      <td>114</td>\n",
       "      <td>2018-19</td>\n",
       "      <td>108.0</td>\n",
       "      <td>20.9</td>\n",
       "      <td>-0.2</td>\n",
       "      <td>3.6</td>\n",
       "      <td>12.8</td>\n",
       "      <td>33.0</td>\n",
       "      <td>26.0</td>\n",
       "      <td>...</td>\n",
       "      <td>0.2</td>\n",
       "      <td>1.8</td>\n",
       "      <td>2.3</td>\n",
       "      <td>23.8</td>\n",
       "      <td>0.420</td>\n",
       "      <td>0.439</td>\n",
       "      <td>0.395</td>\n",
       "      <td>0.504</td>\n",
       "      <td>0.824</td>\n",
       "      <td>0.550</td>\n",
       "    </tr>\n",
       "    <tr>\n",
       "      <th>23</th>\n",
       "      <td>Will Barton</td>\n",
       "      <td>111</td>\n",
       "      <td>2018-19</td>\n",
       "      <td>102.0</td>\n",
       "      <td>20.0</td>\n",
       "      <td>-0.1</td>\n",
       "      <td>1.2</td>\n",
       "      <td>11.0</td>\n",
       "      <td>34.0</td>\n",
       "      <td>28.0</td>\n",
       "      <td>...</td>\n",
       "      <td>0.9</td>\n",
       "      <td>2.7</td>\n",
       "      <td>3.4</td>\n",
       "      <td>20.4</td>\n",
       "      <td>0.402</td>\n",
       "      <td>0.447</td>\n",
       "      <td>0.342</td>\n",
       "      <td>0.475</td>\n",
       "      <td>0.770</td>\n",
       "      <td>0.501</td>\n",
       "    </tr>\n",
       "    <tr>\n",
       "      <th>24</th>\n",
       "      <td>Keita Bates-Diop</td>\n",
       "      <td>113</td>\n",
       "      <td>2018-19</td>\n",
       "      <td>100.0</td>\n",
       "      <td>14.1</td>\n",
       "      <td>-0.1</td>\n",
       "      <td>0.3</td>\n",
       "      <td>9.6</td>\n",
       "      <td>35.0</td>\n",
       "      <td>23.0</td>\n",
       "      <td>...</td>\n",
       "      <td>1.3</td>\n",
       "      <td>1.3</td>\n",
       "      <td>2.8</td>\n",
       "      <td>14.4</td>\n",
       "      <td>0.423</td>\n",
       "      <td>0.522</td>\n",
       "      <td>0.250</td>\n",
       "      <td>0.468</td>\n",
       "      <td>0.643</td>\n",
       "      <td>0.489</td>\n",
       "    </tr>\n",
       "    <tr>\n",
       "      <th>25</th>\n",
       "      <td>Nicolas Batum</td>\n",
       "      <td>113</td>\n",
       "      <td>2018-19</td>\n",
       "      <td>112.0</td>\n",
       "      <td>13.2</td>\n",
       "      <td>1.7</td>\n",
       "      <td>3.7</td>\n",
       "      <td>11.9</td>\n",
       "      <td>36.0</td>\n",
       "      <td>30.0</td>\n",
       "      <td>...</td>\n",
       "      <td>0.9</td>\n",
       "      <td>2.4</td>\n",
       "      <td>2.9</td>\n",
       "      <td>14.4</td>\n",
       "      <td>0.450</td>\n",
       "      <td>0.519</td>\n",
       "      <td>0.389</td>\n",
       "      <td>0.553</td>\n",
       "      <td>0.865</td>\n",
       "      <td>0.581</td>\n",
       "    </tr>\n",
       "    <tr>\n",
       "      <th>26</th>\n",
       "      <td>Jerryd Bayless</td>\n",
       "      <td>117</td>\n",
       "      <td>2018-19</td>\n",
       "      <td>98.0</td>\n",
       "      <td>17.6</td>\n",
       "      <td>-0.5</td>\n",
       "      <td>0.0</td>\n",
       "      <td>8.5</td>\n",
       "      <td>37.0</td>\n",
       "      <td>30.0</td>\n",
       "      <td>...</td>\n",
       "      <td>0.1</td>\n",
       "      <td>2.3</td>\n",
       "      <td>4.1</td>\n",
       "      <td>15.2</td>\n",
       "      <td>0.357</td>\n",
       "      <td>0.402</td>\n",
       "      <td>0.296</td>\n",
       "      <td>0.420</td>\n",
       "      <td>0.571</td>\n",
       "      <td>0.431</td>\n",
       "    </tr>\n",
       "    <tr>\n",
       "      <th>27</th>\n",
       "      <td>Aron Baynes</td>\n",
       "      <td>108</td>\n",
       "      <td>2018-19</td>\n",
       "      <td>118.0</td>\n",
       "      <td>15.2</td>\n",
       "      <td>0.5</td>\n",
       "      <td>2.4</td>\n",
       "      <td>14.0</td>\n",
       "      <td>38.0</td>\n",
       "      <td>32.0</td>\n",
       "      <td>...</td>\n",
       "      <td>2.0</td>\n",
       "      <td>2.3</td>\n",
       "      <td>7.3</td>\n",
       "      <td>16.7</td>\n",
       "      <td>0.471</td>\n",
       "      <td>0.519</td>\n",
       "      <td>0.344</td>\n",
       "      <td>0.518</td>\n",
       "      <td>0.855</td>\n",
       "      <td>0.567</td>\n",
       "    </tr>\n",
       "    <tr>\n",
       "      <th>28</th>\n",
       "      <td>Kent Bazemore</td>\n",
       "      <td>112</td>\n",
       "      <td>2018-19</td>\n",
       "      <td>98.0</td>\n",
       "      <td>22.0</td>\n",
       "      <td>-0.1</td>\n",
       "      <td>0.7</td>\n",
       "      <td>11.9</td>\n",
       "      <td>39.0</td>\n",
       "      <td>29.0</td>\n",
       "      <td>...</td>\n",
       "      <td>1.2</td>\n",
       "      <td>3.4</td>\n",
       "      <td>4.8</td>\n",
       "      <td>21.9</td>\n",
       "      <td>0.402</td>\n",
       "      <td>0.465</td>\n",
       "      <td>0.320</td>\n",
       "      <td>0.472</td>\n",
       "      <td>0.726</td>\n",
       "      <td>0.507</td>\n",
       "    </tr>\n",
       "    <tr>\n",
       "      <th>29</th>\n",
       "      <td>Bradley Beal</td>\n",
       "      <td>114</td>\n",
       "      <td>2018-19</td>\n",
       "      <td>113.0</td>\n",
       "      <td>28.4</td>\n",
       "      <td>3.7</td>\n",
       "      <td>7.6</td>\n",
       "      <td>20.8</td>\n",
       "      <td>40.0</td>\n",
       "      <td>25.0</td>\n",
       "      <td>...</td>\n",
       "      <td>0.9</td>\n",
       "      <td>3.5</td>\n",
       "      <td>3.5</td>\n",
       "      <td>32.8</td>\n",
       "      <td>0.475</td>\n",
       "      <td>0.548</td>\n",
       "      <td>0.351</td>\n",
       "      <td>0.540</td>\n",
       "      <td>0.808</td>\n",
       "      <td>0.581</td>\n",
       "    </tr>\n",
       "    <tr>\n",
       "      <th>...</th>\n",
       "      <td>...</td>\n",
       "      <td>...</td>\n",
       "      <td>...</td>\n",
       "      <td>...</td>\n",
       "      <td>...</td>\n",
       "      <td>...</td>\n",
       "      <td>...</td>\n",
       "      <td>...</td>\n",
       "      <td>...</td>\n",
       "      <td>...</td>\n",
       "      <td>...</td>\n",
       "      <td>...</td>\n",
       "      <td>...</td>\n",
       "      <td>...</td>\n",
       "      <td>...</td>\n",
       "      <td>...</td>\n",
       "      <td>...</td>\n",
       "      <td>...</td>\n",
       "      <td>...</td>\n",
       "      <td>...</td>\n",
       "      <td>...</td>\n",
       "    </tr>\n",
       "    <tr>\n",
       "      <th>2910</th>\n",
       "      <td>Kemba Walker</td>\n",
       "      <td>111</td>\n",
       "      <td>2011-12</td>\n",
       "      <td>96.0</td>\n",
       "      <td>25.2</td>\n",
       "      <td>0.3</td>\n",
       "      <td>0.3</td>\n",
       "      <td>14.9</td>\n",
       "      <td>3918.0</td>\n",
       "      <td>21.0</td>\n",
       "      <td>...</td>\n",
       "      <td>0.6</td>\n",
       "      <td>3.5</td>\n",
       "      <td>2.3</td>\n",
       "      <td>23.5</td>\n",
       "      <td>0.366</td>\n",
       "      <td>0.392</td>\n",
       "      <td>0.305</td>\n",
       "      <td>0.411</td>\n",
       "      <td>0.789</td>\n",
       "      <td>0.464</td>\n",
       "    </tr>\n",
       "    <tr>\n",
       "      <th>2911</th>\n",
       "      <td>John Wall</td>\n",
       "      <td>107</td>\n",
       "      <td>2011-12</td>\n",
       "      <td>100.0</td>\n",
       "      <td>24.9</td>\n",
       "      <td>1.6</td>\n",
       "      <td>3.5</td>\n",
       "      <td>17.7</td>\n",
       "      <td>3919.0</td>\n",
       "      <td>21.0</td>\n",
       "      <td>...</td>\n",
       "      <td>1.2</td>\n",
       "      <td>5.5</td>\n",
       "      <td>3.0</td>\n",
       "      <td>23.4</td>\n",
       "      <td>0.423</td>\n",
       "      <td>0.440</td>\n",
       "      <td>0.071</td>\n",
       "      <td>0.424</td>\n",
       "      <td>0.789</td>\n",
       "      <td>0.502</td>\n",
       "    </tr>\n",
       "    <tr>\n",
       "      <th>2912</th>\n",
       "      <td>Ben Wallace</td>\n",
       "      <td>100</td>\n",
       "      <td>2011-12</td>\n",
       "      <td>93.0</td>\n",
       "      <td>6.6</td>\n",
       "      <td>0.7</td>\n",
       "      <td>1.4</td>\n",
       "      <td>10.7</td>\n",
       "      <td>3920.0</td>\n",
       "      <td>37.0</td>\n",
       "      <td>...</td>\n",
       "      <td>2.8</td>\n",
       "      <td>1.9</td>\n",
       "      <td>3.3</td>\n",
       "      <td>4.7</td>\n",
       "      <td>0.395</td>\n",
       "      <td>0.402</td>\n",
       "      <td>0.250</td>\n",
       "      <td>0.401</td>\n",
       "      <td>0.340</td>\n",
       "      <td>0.398</td>\n",
       "    </tr>\n",
       "    <tr>\n",
       "      <th>2913</th>\n",
       "      <td>Gerald Wallace</td>\n",
       "      <td>106</td>\n",
       "      <td>2011-12</td>\n",
       "      <td>109.0</td>\n",
       "      <td>18.6</td>\n",
       "      <td>2.1</td>\n",
       "      <td>4.8</td>\n",
       "      <td>15.9</td>\n",
       "      <td>3921.0</td>\n",
       "      <td>29.0</td>\n",
       "      <td>...</td>\n",
       "      <td>0.9</td>\n",
       "      <td>2.8</td>\n",
       "      <td>3.7</td>\n",
       "      <td>20.3</td>\n",
       "      <td>0.454</td>\n",
       "      <td>0.500</td>\n",
       "      <td>0.307</td>\n",
       "      <td>0.491</td>\n",
       "      <td>0.800</td>\n",
       "      <td>0.547</td>\n",
       "    </tr>\n",
       "    <tr>\n",
       "      <th>2914</th>\n",
       "      <td>Hakim Warrick</td>\n",
       "      <td>109</td>\n",
       "      <td>2011-12</td>\n",
       "      <td>100.0</td>\n",
       "      <td>23.4</td>\n",
       "      <td>-0.3</td>\n",
       "      <td>0.5</td>\n",
       "      <td>13.1</td>\n",
       "      <td>3923.0</td>\n",
       "      <td>29.0</td>\n",
       "      <td>...</td>\n",
       "      <td>0.3</td>\n",
       "      <td>3.7</td>\n",
       "      <td>3.6</td>\n",
       "      <td>23.2</td>\n",
       "      <td>0.411</td>\n",
       "      <td>0.429</td>\n",
       "      <td>0.100</td>\n",
       "      <td>0.414</td>\n",
       "      <td>0.768</td>\n",
       "      <td>0.503</td>\n",
       "    </tr>\n",
       "    <tr>\n",
       "      <th>2915</th>\n",
       "      <td>C.J. Watson</td>\n",
       "      <td>101</td>\n",
       "      <td>2011-12</td>\n",
       "      <td>101.0</td>\n",
       "      <td>22.8</td>\n",
       "      <td>0.5</td>\n",
       "      <td>2.6</td>\n",
       "      <td>13.3</td>\n",
       "      <td>3925.0</td>\n",
       "      <td>27.0</td>\n",
       "      <td>...</td>\n",
       "      <td>0.4</td>\n",
       "      <td>4.5</td>\n",
       "      <td>4.8</td>\n",
       "      <td>22.0</td>\n",
       "      <td>0.368</td>\n",
       "      <td>0.352</td>\n",
       "      <td>0.393</td>\n",
       "      <td>0.446</td>\n",
       "      <td>0.808</td>\n",
       "      <td>0.491</td>\n",
       "    </tr>\n",
       "    <tr>\n",
       "      <th>2916</th>\n",
       "      <td>Earl Watson</td>\n",
       "      <td>106</td>\n",
       "      <td>2011-12</td>\n",
       "      <td>90.0</td>\n",
       "      <td>11.5</td>\n",
       "      <td>0.1</td>\n",
       "      <td>0.4</td>\n",
       "      <td>9.5</td>\n",
       "      <td>3926.0</td>\n",
       "      <td>32.0</td>\n",
       "      <td>...</td>\n",
       "      <td>1.1</td>\n",
       "      <td>4.3</td>\n",
       "      <td>5.3</td>\n",
       "      <td>7.6</td>\n",
       "      <td>0.338</td>\n",
       "      <td>0.407</td>\n",
       "      <td>0.192</td>\n",
       "      <td>0.369</td>\n",
       "      <td>0.674</td>\n",
       "      <td>0.413</td>\n",
       "    </tr>\n",
       "    <tr>\n",
       "      <th>2917</th>\n",
       "      <td>Martell Webster</td>\n",
       "      <td>108</td>\n",
       "      <td>2011-12</td>\n",
       "      <td>105.0</td>\n",
       "      <td>13.6</td>\n",
       "      <td>0.5</td>\n",
       "      <td>1.5</td>\n",
       "      <td>10.0</td>\n",
       "      <td>3927.0</td>\n",
       "      <td>25.0</td>\n",
       "      <td>...</td>\n",
       "      <td>0.8</td>\n",
       "      <td>2.1</td>\n",
       "      <td>3.9</td>\n",
       "      <td>14.6</td>\n",
       "      <td>0.423</td>\n",
       "      <td>0.479</td>\n",
       "      <td>0.339</td>\n",
       "      <td>0.491</td>\n",
       "      <td>0.792</td>\n",
       "      <td>0.533</td>\n",
       "    </tr>\n",
       "    <tr>\n",
       "      <th>2918</th>\n",
       "      <td>David West</td>\n",
       "      <td>102</td>\n",
       "      <td>2011-12</td>\n",
       "      <td>110.0</td>\n",
       "      <td>20.9</td>\n",
       "      <td>1.8</td>\n",
       "      <td>5.9</td>\n",
       "      <td>17.8</td>\n",
       "      <td>3928.0</td>\n",
       "      <td>31.0</td>\n",
       "      <td>...</td>\n",
       "      <td>1.3</td>\n",
       "      <td>2.6</td>\n",
       "      <td>4.4</td>\n",
       "      <td>23.1</td>\n",
       "      <td>0.487</td>\n",
       "      <td>0.491</td>\n",
       "      <td>0.222</td>\n",
       "      <td>0.489</td>\n",
       "      <td>0.807</td>\n",
       "      <td>0.531</td>\n",
       "    </tr>\n",
       "    <tr>\n",
       "      <th>2919</th>\n",
       "      <td>Delonte West</td>\n",
       "      <td>103</td>\n",
       "      <td>2011-12</td>\n",
       "      <td>102.0</td>\n",
       "      <td>20.4</td>\n",
       "      <td>0.7</td>\n",
       "      <td>2.2</td>\n",
       "      <td>15.3</td>\n",
       "      <td>3929.0</td>\n",
       "      <td>28.0</td>\n",
       "      <td>...</td>\n",
       "      <td>0.5</td>\n",
       "      <td>3.8</td>\n",
       "      <td>3.3</td>\n",
       "      <td>20.9</td>\n",
       "      <td>0.461</td>\n",
       "      <td>0.489</td>\n",
       "      <td>0.355</td>\n",
       "      <td>0.499</td>\n",
       "      <td>0.886</td>\n",
       "      <td>0.539</td>\n",
       "    </tr>\n",
       "    <tr>\n",
       "      <th>2920</th>\n",
       "      <td>Russell Westbrook</td>\n",
       "      <td>105</td>\n",
       "      <td>2011-12</td>\n",
       "      <td>108.0</td>\n",
       "      <td>32.7</td>\n",
       "      <td>3.0</td>\n",
       "      <td>7.9</td>\n",
       "      <td>22.9</td>\n",
       "      <td>3930.0</td>\n",
       "      <td>23.0</td>\n",
       "      <td>...</td>\n",
       "      <td>0.5</td>\n",
       "      <td>5.3</td>\n",
       "      <td>3.3</td>\n",
       "      <td>34.5</td>\n",
       "      <td>0.457</td>\n",
       "      <td>0.482</td>\n",
       "      <td>0.316</td>\n",
       "      <td>0.481</td>\n",
       "      <td>0.823</td>\n",
       "      <td>0.538</td>\n",
       "    </tr>\n",
       "    <tr>\n",
       "      <th>2921</th>\n",
       "      <td>D.J. White</td>\n",
       "      <td>111</td>\n",
       "      <td>2011-12</td>\n",
       "      <td>100.0</td>\n",
       "      <td>17.8</td>\n",
       "      <td>-0.7</td>\n",
       "      <td>0.8</td>\n",
       "      <td>12.4</td>\n",
       "      <td>3931.0</td>\n",
       "      <td>25.0</td>\n",
       "      <td>...</td>\n",
       "      <td>1.1</td>\n",
       "      <td>2.1</td>\n",
       "      <td>4.5</td>\n",
       "      <td>18.8</td>\n",
       "      <td>0.493</td>\n",
       "      <td>0.491</td>\n",
       "      <td>1.000</td>\n",
       "      <td>0.494</td>\n",
       "      <td>0.705</td>\n",
       "      <td>0.516</td>\n",
       "    </tr>\n",
       "    <tr>\n",
       "      <th>2922</th>\n",
       "      <td>Chris Wilcox</td>\n",
       "      <td>98</td>\n",
       "      <td>2011-12</td>\n",
       "      <td>105.0</td>\n",
       "      <td>15.4</td>\n",
       "      <td>0.0</td>\n",
       "      <td>1.3</td>\n",
       "      <td>12.4</td>\n",
       "      <td>3933.0</td>\n",
       "      <td>29.0</td>\n",
       "      <td>...</td>\n",
       "      <td>1.0</td>\n",
       "      <td>3.3</td>\n",
       "      <td>7.1</td>\n",
       "      <td>16.8</td>\n",
       "      <td>0.598</td>\n",
       "      <td>0.598</td>\n",
       "      <td>0.000</td>\n",
       "      <td>0.598</td>\n",
       "      <td>0.615</td>\n",
       "      <td>0.612</td>\n",
       "    </tr>\n",
       "    <tr>\n",
       "      <th>2923</th>\n",
       "      <td>Damien Wilkins</td>\n",
       "      <td>108</td>\n",
       "      <td>2011-12</td>\n",
       "      <td>93.0</td>\n",
       "      <td>12.4</td>\n",
       "      <td>-0.5</td>\n",
       "      <td>0.4</td>\n",
       "      <td>6.9</td>\n",
       "      <td>3934.0</td>\n",
       "      <td>32.0</td>\n",
       "      <td>...</td>\n",
       "      <td>0.8</td>\n",
       "      <td>1.8</td>\n",
       "      <td>5.0</td>\n",
       "      <td>11.3</td>\n",
       "      <td>0.394</td>\n",
       "      <td>0.406</td>\n",
       "      <td>0.304</td>\n",
       "      <td>0.412</td>\n",
       "      <td>0.630</td>\n",
       "      <td>0.445</td>\n",
       "    </tr>\n",
       "    <tr>\n",
       "      <th>2924</th>\n",
       "      <td>Deron Williams</td>\n",
       "      <td>111</td>\n",
       "      <td>2011-12</td>\n",
       "      <td>106.0</td>\n",
       "      <td>30.1</td>\n",
       "      <td>2.1</td>\n",
       "      <td>4.1</td>\n",
       "      <td>20.3</td>\n",
       "      <td>3935.0</td>\n",
       "      <td>27.0</td>\n",
       "      <td>...</td>\n",
       "      <td>0.5</td>\n",
       "      <td>5.8</td>\n",
       "      <td>3.2</td>\n",
       "      <td>30.7</td>\n",
       "      <td>0.407</td>\n",
       "      <td>0.446</td>\n",
       "      <td>0.336</td>\n",
       "      <td>0.467</td>\n",
       "      <td>0.843</td>\n",
       "      <td>0.527</td>\n",
       "    </tr>\n",
       "    <tr>\n",
       "      <th>2925</th>\n",
       "      <td>Derrick Williams</td>\n",
       "      <td>106</td>\n",
       "      <td>2011-12</td>\n",
       "      <td>100.0</td>\n",
       "      <td>20.7</td>\n",
       "      <td>-0.4</td>\n",
       "      <td>1.8</td>\n",
       "      <td>12.9</td>\n",
       "      <td>3936.0</td>\n",
       "      <td>20.0</td>\n",
       "      <td>...</td>\n",
       "      <td>1.1</td>\n",
       "      <td>2.8</td>\n",
       "      <td>3.4</td>\n",
       "      <td>21.2</td>\n",
       "      <td>0.412</td>\n",
       "      <td>0.467</td>\n",
       "      <td>0.268</td>\n",
       "      <td>0.449</td>\n",
       "      <td>0.697</td>\n",
       "      <td>0.499</td>\n",
       "    </tr>\n",
       "    <tr>\n",
       "      <th>2926</th>\n",
       "      <td>Jordan Williams</td>\n",
       "      <td>108</td>\n",
       "      <td>2011-12</td>\n",
       "      <td>112.0</td>\n",
       "      <td>14.7</td>\n",
       "      <td>-0.2</td>\n",
       "      <td>1.3</td>\n",
       "      <td>14.5</td>\n",
       "      <td>3938.0</td>\n",
       "      <td>21.0</td>\n",
       "      <td>...</td>\n",
       "      <td>1.3</td>\n",
       "      <td>1.9</td>\n",
       "      <td>5.1</td>\n",
       "      <td>16.5</td>\n",
       "      <td>0.507</td>\n",
       "      <td>0.507</td>\n",
       "      <td>0.000</td>\n",
       "      <td>0.507</td>\n",
       "      <td>0.652</td>\n",
       "      <td>0.544</td>\n",
       "    </tr>\n",
       "    <tr>\n",
       "      <th>2927</th>\n",
       "      <td>Lou Williams</td>\n",
       "      <td>102</td>\n",
       "      <td>2011-12</td>\n",
       "      <td>110.0</td>\n",
       "      <td>27.4</td>\n",
       "      <td>1.7</td>\n",
       "      <td>6.1</td>\n",
       "      <td>20.2</td>\n",
       "      <td>3939.0</td>\n",
       "      <td>25.0</td>\n",
       "      <td>...</td>\n",
       "      <td>0.6</td>\n",
       "      <td>2.3</td>\n",
       "      <td>2.9</td>\n",
       "      <td>30.4</td>\n",
       "      <td>0.407</td>\n",
       "      <td>0.425</td>\n",
       "      <td>0.362</td>\n",
       "      <td>0.460</td>\n",
       "      <td>0.812</td>\n",
       "      <td>0.525</td>\n",
       "    </tr>\n",
       "    <tr>\n",
       "      <th>2928</th>\n",
       "      <td>Marvin Williams</td>\n",
       "      <td>101</td>\n",
       "      <td>2011-12</td>\n",
       "      <td>113.0</td>\n",
       "      <td>18.0</td>\n",
       "      <td>1.1</td>\n",
       "      <td>4.9</td>\n",
       "      <td>15.8</td>\n",
       "      <td>3940.0</td>\n",
       "      <td>25.0</td>\n",
       "      <td>...</td>\n",
       "      <td>0.6</td>\n",
       "      <td>1.4</td>\n",
       "      <td>3.0</td>\n",
       "      <td>20.5</td>\n",
       "      <td>0.432</td>\n",
       "      <td>0.452</td>\n",
       "      <td>0.389</td>\n",
       "      <td>0.494</td>\n",
       "      <td>0.788</td>\n",
       "      <td>0.542</td>\n",
       "    </tr>\n",
       "    <tr>\n",
       "      <th>2929</th>\n",
       "      <td>Mo Williams</td>\n",
       "      <td>109</td>\n",
       "      <td>2011-12</td>\n",
       "      <td>107.0</td>\n",
       "      <td>22.9</td>\n",
       "      <td>0.5</td>\n",
       "      <td>2.8</td>\n",
       "      <td>15.0</td>\n",
       "      <td>3941.0</td>\n",
       "      <td>29.0</td>\n",
       "      <td>...</td>\n",
       "      <td>0.3</td>\n",
       "      <td>3.1</td>\n",
       "      <td>3.8</td>\n",
       "      <td>25.0</td>\n",
       "      <td>0.426</td>\n",
       "      <td>0.449</td>\n",
       "      <td>0.389</td>\n",
       "      <td>0.502</td>\n",
       "      <td>0.900</td>\n",
       "      <td>0.530</td>\n",
       "    </tr>\n",
       "    <tr>\n",
       "      <th>2930</th>\n",
       "      <td>Reggie Williams</td>\n",
       "      <td>113</td>\n",
       "      <td>2011-12</td>\n",
       "      <td>100.0</td>\n",
       "      <td>18.9</td>\n",
       "      <td>-0.1</td>\n",
       "      <td>0.3</td>\n",
       "      <td>12.4</td>\n",
       "      <td>3942.0</td>\n",
       "      <td>25.0</td>\n",
       "      <td>...</td>\n",
       "      <td>0.2</td>\n",
       "      <td>2.3</td>\n",
       "      <td>2.4</td>\n",
       "      <td>19.3</td>\n",
       "      <td>0.416</td>\n",
       "      <td>0.493</td>\n",
       "      <td>0.308</td>\n",
       "      <td>0.480</td>\n",
       "      <td>0.725</td>\n",
       "      <td>0.503</td>\n",
       "    </tr>\n",
       "    <tr>\n",
       "      <th>2931</th>\n",
       "      <td>Shawne Williams</td>\n",
       "      <td>112</td>\n",
       "      <td>2011-12</td>\n",
       "      <td>84.0</td>\n",
       "      <td>14.7</td>\n",
       "      <td>-0.5</td>\n",
       "      <td>-0.4</td>\n",
       "      <td>4.9</td>\n",
       "      <td>3944.0</td>\n",
       "      <td>25.0</td>\n",
       "      <td>...</td>\n",
       "      <td>1.1</td>\n",
       "      <td>1.3</td>\n",
       "      <td>4.6</td>\n",
       "      <td>11.7</td>\n",
       "      <td>0.286</td>\n",
       "      <td>0.350</td>\n",
       "      <td>0.241</td>\n",
       "      <td>0.357</td>\n",
       "      <td>0.727</td>\n",
       "      <td>0.372</td>\n",
       "    </tr>\n",
       "    <tr>\n",
       "      <th>2932</th>\n",
       "      <td>Shelden Williams</td>\n",
       "      <td>106</td>\n",
       "      <td>2011-12</td>\n",
       "      <td>107.0</td>\n",
       "      <td>11.2</td>\n",
       "      <td>0.3</td>\n",
       "      <td>2.1</td>\n",
       "      <td>11.9</td>\n",
       "      <td>3945.0</td>\n",
       "      <td>28.0</td>\n",
       "      <td>...</td>\n",
       "      <td>1.6</td>\n",
       "      <td>2.8</td>\n",
       "      <td>6.2</td>\n",
       "      <td>11.2</td>\n",
       "      <td>0.478</td>\n",
       "      <td>0.478</td>\n",
       "      <td>0.000</td>\n",
       "      <td>0.478</td>\n",
       "      <td>0.731</td>\n",
       "      <td>0.543</td>\n",
       "    </tr>\n",
       "    <tr>\n",
       "      <th>2933</th>\n",
       "      <td>Terrence Williams</td>\n",
       "      <td>107</td>\n",
       "      <td>2011-12</td>\n",
       "      <td>96.0</td>\n",
       "      <td>20.9</td>\n",
       "      <td>-0.1</td>\n",
       "      <td>0.3</td>\n",
       "      <td>13.1</td>\n",
       "      <td>3946.0</td>\n",
       "      <td>24.0</td>\n",
       "      <td>...</td>\n",
       "      <td>0.7</td>\n",
       "      <td>4.0</td>\n",
       "      <td>3.3</td>\n",
       "      <td>19.8</td>\n",
       "      <td>0.429</td>\n",
       "      <td>0.454</td>\n",
       "      <td>0.348</td>\n",
       "      <td>0.470</td>\n",
       "      <td>0.587</td>\n",
       "      <td>0.488</td>\n",
       "    </tr>\n",
       "    <tr>\n",
       "      <th>2934</th>\n",
       "      <td>Metta World Peace</td>\n",
       "      <td>105</td>\n",
       "      <td>2011-12</td>\n",
       "      <td>102.0</td>\n",
       "      <td>15.6</td>\n",
       "      <td>1.1</td>\n",
       "      <td>2.6</td>\n",
       "      <td>11.0</td>\n",
       "      <td>3947.0</td>\n",
       "      <td>32.0</td>\n",
       "      <td>...</td>\n",
       "      <td>0.8</td>\n",
       "      <td>2.1</td>\n",
       "      <td>4.2</td>\n",
       "      <td>15.2</td>\n",
       "      <td>0.394</td>\n",
       "      <td>0.460</td>\n",
       "      <td>0.296</td>\n",
       "      <td>0.454</td>\n",
       "      <td>0.617</td>\n",
       "      <td>0.478</td>\n",
       "    </tr>\n",
       "    <tr>\n",
       "      <th>2935</th>\n",
       "      <td>Brandan Wright</td>\n",
       "      <td>100</td>\n",
       "      <td>2011-12</td>\n",
       "      <td>124.0</td>\n",
       "      <td>17.0</td>\n",
       "      <td>0.9</td>\n",
       "      <td>3.5</td>\n",
       "      <td>21.6</td>\n",
       "      <td>3948.0</td>\n",
       "      <td>24.0</td>\n",
       "      <td>...</td>\n",
       "      <td>4.2</td>\n",
       "      <td>1.4</td>\n",
       "      <td>4.0</td>\n",
       "      <td>22.6</td>\n",
       "      <td>0.618</td>\n",
       "      <td>0.621</td>\n",
       "      <td>0.000</td>\n",
       "      <td>0.618</td>\n",
       "      <td>0.634</td>\n",
       "      <td>0.632</td>\n",
       "    </tr>\n",
       "    <tr>\n",
       "      <th>2936</th>\n",
       "      <td>Dorell Wright</td>\n",
       "      <td>109</td>\n",
       "      <td>2011-12</td>\n",
       "      <td>111.0</td>\n",
       "      <td>17.3</td>\n",
       "      <td>1.2</td>\n",
       "      <td>3.4</td>\n",
       "      <td>15.0</td>\n",
       "      <td>3950.0</td>\n",
       "      <td>26.0</td>\n",
       "      <td>...</td>\n",
       "      <td>0.8</td>\n",
       "      <td>1.6</td>\n",
       "      <td>3.1</td>\n",
       "      <td>19.8</td>\n",
       "      <td>0.422</td>\n",
       "      <td>0.500</td>\n",
       "      <td>0.360</td>\n",
       "      <td>0.522</td>\n",
       "      <td>0.816</td>\n",
       "      <td>0.553</td>\n",
       "    </tr>\n",
       "    <tr>\n",
       "      <th>2937</th>\n",
       "      <td>Nick Young</td>\n",
       "      <td>110</td>\n",
       "      <td>2011-12</td>\n",
       "      <td>102.0</td>\n",
       "      <td>24.5</td>\n",
       "      <td>-0.6</td>\n",
       "      <td>1.9</td>\n",
       "      <td>12.9</td>\n",
       "      <td>3951.0</td>\n",
       "      <td>26.0</td>\n",
       "      <td>...</td>\n",
       "      <td>0.5</td>\n",
       "      <td>2.5</td>\n",
       "      <td>4.3</td>\n",
       "      <td>26.7</td>\n",
       "      <td>0.403</td>\n",
       "      <td>0.424</td>\n",
       "      <td>0.365</td>\n",
       "      <td>0.469</td>\n",
       "      <td>0.852</td>\n",
       "      <td>0.512</td>\n",
       "    </tr>\n",
       "    <tr>\n",
       "      <th>2938</th>\n",
       "      <td>Thaddeus Young</td>\n",
       "      <td>100</td>\n",
       "      <td>2011-12</td>\n",
       "      <td>111.0</td>\n",
       "      <td>21.5</td>\n",
       "      <td>1.6</td>\n",
       "      <td>6.3</td>\n",
       "      <td>18.9</td>\n",
       "      <td>3953.0</td>\n",
       "      <td>23.0</td>\n",
       "      <td>...</td>\n",
       "      <td>1.3</td>\n",
       "      <td>1.7</td>\n",
       "      <td>3.9</td>\n",
       "      <td>24.6</td>\n",
       "      <td>0.507</td>\n",
       "      <td>0.508</td>\n",
       "      <td>0.250</td>\n",
       "      <td>0.507</td>\n",
       "      <td>0.771</td>\n",
       "      <td>0.538</td>\n",
       "    </tr>\n",
       "    <tr>\n",
       "      <th>2939</th>\n",
       "      <td>Arron Afflalo</td>\n",
       "      <td>111</td>\n",
       "      <td>2010-11</td>\n",
       "      <td>123.0</td>\n",
       "      <td>14.8</td>\n",
       "      <td>2.4</td>\n",
       "      <td>6.2</td>\n",
       "      <td>13.6</td>\n",
       "      <td>3955.0</td>\n",
       "      <td>25.0</td>\n",
       "      <td>...</td>\n",
       "      <td>0.7</td>\n",
       "      <td>1.5</td>\n",
       "      <td>3.3</td>\n",
       "      <td>18.7</td>\n",
       "      <td>0.498</td>\n",
       "      <td>0.546</td>\n",
       "      <td>0.423</td>\n",
       "      <td>0.581</td>\n",
       "      <td>0.847</td>\n",
       "      <td>0.620</td>\n",
       "    </tr>\n",
       "  </tbody>\n",
       "</table>\n",
       "<p>2940 rows × 38 columns</p>\n",
       "</div>"
      ],
      "text/plain": [
       "                     Player  DRtg   Season   ORtg  USG%  VORP    WS   PER  \\\n",
       "0              Álex Abrines   111  2018-19  103.0  12.2  -0.2   0.6   6.3   \n",
       "1              Jaylen Adams   115  2018-19   99.0  13.5  -0.3   0.1   7.6   \n",
       "2              Steven Adams   106  2018-19  120.0  16.4   3.2   9.1  18.5   \n",
       "3               Bam Adebayo   104  2018-19  120.0  15.8   2.4   6.8  17.9   \n",
       "4         LaMarcus Aldridge   110  2018-19  117.0  26.9   2.5   9.3  22.9   \n",
       "5             Grayson Allen   111  2018-19   95.0  24.4  -0.5   0.0   7.5   \n",
       "6             Jarrett Allen   106  2018-19  123.0  15.9   2.4   7.6  18.5   \n",
       "7              Kadeem Allen   114  2018-19  116.0  19.6   0.1   1.0  16.2   \n",
       "8           Al-Farouq Aminu   109  2018-19  118.0  13.7   1.7   5.8  13.2   \n",
       "9           Justin Anderson   113  2018-19  103.0  17.2  -0.1   0.4  11.2   \n",
       "10            Kyle Anderson   107  2018-19  110.0  12.6   1.0   2.7  12.8   \n",
       "11    Giannis Antetokounmpo    99  2018-19  121.0  32.3   7.6  14.4  30.9   \n",
       "12               OG Anunoby   109  2018-19  104.0  15.5   0.3   2.0   9.8   \n",
       "13         Ryan Arcidiacono   115  2018-19  121.0  11.7   0.5   3.7  11.6   \n",
       "14             Trevor Ariza   115  2018-19  107.0  16.6   0.9   2.5  12.0   \n",
       "15            D.J. Augustin   112  2018-19  122.0  17.2   1.0   6.9  15.7   \n",
       "16            Deandre Ayton   113  2018-19  117.0  21.2   1.2   5.8  20.5   \n",
       "17             Dwayne Bacon   116  2018-19  114.0  16.8  -0.3   1.2  11.7   \n",
       "18            Marvin Bagley   110  2018-19  111.0  24.2   0.1   3.6  18.9   \n",
       "19               Lonzo Ball   109  2018-19  100.0  16.9   0.9   1.6  11.7   \n",
       "20            Mohamed Bamba   103  2018-19  105.0  17.8   0.4   1.7  14.9   \n",
       "21               J.J. Barea   113  2018-19  105.0  28.1   0.2   1.0  16.3   \n",
       "22          Harrison Barnes   114  2018-19  108.0  20.9  -0.2   3.6  12.8   \n",
       "23              Will Barton   111  2018-19  102.0  20.0  -0.1   1.2  11.0   \n",
       "24         Keita Bates-Diop   113  2018-19  100.0  14.1  -0.1   0.3   9.6   \n",
       "25            Nicolas Batum   113  2018-19  112.0  13.2   1.7   3.7  11.9   \n",
       "26           Jerryd Bayless   117  2018-19   98.0  17.6  -0.5   0.0   8.5   \n",
       "27              Aron Baynes   108  2018-19  118.0  15.2   0.5   2.4  14.0   \n",
       "28            Kent Bazemore   112  2018-19   98.0  22.0  -0.1   0.7  11.9   \n",
       "29             Bradley Beal   114  2018-19  113.0  28.4   3.7   7.6  20.8   \n",
       "...                     ...   ...      ...    ...   ...   ...   ...   ...   \n",
       "2910           Kemba Walker   111  2011-12   96.0  25.2   0.3   0.3  14.9   \n",
       "2911              John Wall   107  2011-12  100.0  24.9   1.6   3.5  17.7   \n",
       "2912            Ben Wallace   100  2011-12   93.0   6.6   0.7   1.4  10.7   \n",
       "2913         Gerald Wallace   106  2011-12  109.0  18.6   2.1   4.8  15.9   \n",
       "2914          Hakim Warrick   109  2011-12  100.0  23.4  -0.3   0.5  13.1   \n",
       "2915            C.J. Watson   101  2011-12  101.0  22.8   0.5   2.6  13.3   \n",
       "2916            Earl Watson   106  2011-12   90.0  11.5   0.1   0.4   9.5   \n",
       "2917        Martell Webster   108  2011-12  105.0  13.6   0.5   1.5  10.0   \n",
       "2918             David West   102  2011-12  110.0  20.9   1.8   5.9  17.8   \n",
       "2919           Delonte West   103  2011-12  102.0  20.4   0.7   2.2  15.3   \n",
       "2920      Russell Westbrook   105  2011-12  108.0  32.7   3.0   7.9  22.9   \n",
       "2921             D.J. White   111  2011-12  100.0  17.8  -0.7   0.8  12.4   \n",
       "2922           Chris Wilcox    98  2011-12  105.0  15.4   0.0   1.3  12.4   \n",
       "2923         Damien Wilkins   108  2011-12   93.0  12.4  -0.5   0.4   6.9   \n",
       "2924         Deron Williams   111  2011-12  106.0  30.1   2.1   4.1  20.3   \n",
       "2925       Derrick Williams   106  2011-12  100.0  20.7  -0.4   1.8  12.9   \n",
       "2926        Jordan Williams   108  2011-12  112.0  14.7  -0.2   1.3  14.5   \n",
       "2927           Lou Williams   102  2011-12  110.0  27.4   1.7   6.1  20.2   \n",
       "2928        Marvin Williams   101  2011-12  113.0  18.0   1.1   4.9  15.8   \n",
       "2929            Mo Williams   109  2011-12  107.0  22.9   0.5   2.8  15.0   \n",
       "2930        Reggie Williams   113  2011-12  100.0  18.9  -0.1   0.3  12.4   \n",
       "2931        Shawne Williams   112  2011-12   84.0  14.7  -0.5  -0.4   4.9   \n",
       "2932       Shelden Williams   106  2011-12  107.0  11.2   0.3   2.1  11.9   \n",
       "2933      Terrence Williams   107  2011-12   96.0  20.9  -0.1   0.3  13.1   \n",
       "2934      Metta World Peace   105  2011-12  102.0  15.6   1.1   2.6  11.0   \n",
       "2935         Brandan Wright   100  2011-12  124.0  17.0   0.9   3.5  21.6   \n",
       "2936          Dorell Wright   109  2011-12  111.0  17.3   1.2   3.4  15.0   \n",
       "2937             Nick Young   110  2011-12  102.0  24.5  -0.6   1.9  12.9   \n",
       "2938         Thaddeus Young   100  2011-12  111.0  21.5   1.6   6.3  18.9   \n",
       "2939          Arron Afflalo   111  2010-11  123.0  14.8   2.4   6.2  13.6   \n",
       "\n",
       "          Rk   Age  ...  BLK  TOV   PF   PTS    FG%    2P%    3P%   eFG%  \\\n",
       "0        1.0  25.0  ...  0.5  1.1  4.2  13.1  0.357  0.500  0.323  0.487   \n",
       "1        3.0  22.0  ...  0.5  3.0  4.9  11.7  0.345  0.361  0.338  0.459   \n",
       "2        4.0  25.0  ...  1.3  2.4  3.6  19.4  0.595  0.596  0.000  0.595   \n",
       "3        5.0  21.0  ...  1.7  3.1  5.2  18.6  0.576  0.588  0.200  0.579   \n",
       "4        8.0  33.0  ...  1.9  2.6  3.3  31.4  0.519  0.528  0.238  0.522   \n",
       "5       10.0  23.0  ...  0.7  3.8  5.4  24.3  0.376  0.443  0.323  0.466   \n",
       "6       11.0  20.0  ...  2.7  2.3  4.2  19.8  0.590  0.629  0.133  0.595   \n",
       "7       12.0  26.0  ...  0.5  3.0  5.3  21.9  0.461  0.457  0.472  0.521   \n",
       "8       13.0  28.0  ...  0.7  1.5  3.0  16.1  0.433  0.514  0.343  0.514   \n",
       "9       14.0  25.0  ...  1.3  2.3  4.8  17.8  0.408  0.500  0.312  0.484   \n",
       "10      15.0  25.0  ...  1.4  2.3  4.3  13.4  0.543  0.583  0.265  0.560   \n",
       "11      18.0  24.0  ...  2.2  5.3  4.6  39.3  0.578  0.641  0.256  0.599   \n",
       "12      21.0  21.0  ...  0.8  1.9  5.0  16.6  0.453  0.574  0.332  0.536   \n",
       "13      22.0  24.0  ...  0.1  1.6  4.2  13.5  0.447  0.527  0.373  0.544   \n",
       "14      23.0  33.0  ...  0.4  2.1  2.6  17.5  0.399  0.493  0.334  0.498   \n",
       "15      24.0  31.0  ...  0.1  2.8  2.5  20.4  0.470  0.511  0.421  0.566   \n",
       "16      25.0  20.0  ...  1.5  2.8  4.6  25.4  0.585  0.588  0.000  0.585   \n",
       "17      26.0  23.0  ...  0.3  1.2  4.6  20.2  0.475  0.494  0.437  0.549   \n",
       "18      27.0  19.0  ...  1.8  2.9  3.6  27.4  0.504  0.534  0.313  0.525   \n",
       "19      30.0  21.0  ...  0.6  3.4  3.7  15.2  0.406  0.482  0.329  0.488   \n",
       "20      31.0  20.0  ...  4.1  2.7  6.5  18.7  0.481  0.555  0.300  0.525   \n",
       "21      32.0  34.0  ...  0.1  4.6  3.2  26.8  0.418  0.479  0.297  0.468   \n",
       "22      33.0  26.0  ...  0.2  1.8  2.3  23.8  0.420  0.439  0.395  0.504   \n",
       "23      34.0  28.0  ...  0.9  2.7  3.4  20.4  0.402  0.447  0.342  0.475   \n",
       "24      35.0  23.0  ...  1.3  1.3  2.8  14.4  0.423  0.522  0.250  0.468   \n",
       "25      36.0  30.0  ...  0.9  2.4  2.9  14.4  0.450  0.519  0.389  0.553   \n",
       "26      37.0  30.0  ...  0.1  2.3  4.1  15.2  0.357  0.402  0.296  0.420   \n",
       "27      38.0  32.0  ...  2.0  2.3  7.3  16.7  0.471  0.519  0.344  0.518   \n",
       "28      39.0  29.0  ...  1.2  3.4  4.8  21.9  0.402  0.465  0.320  0.472   \n",
       "29      40.0  25.0  ...  0.9  3.5  3.5  32.8  0.475  0.548  0.351  0.540   \n",
       "...      ...   ...  ...  ...  ...  ...   ...    ...    ...    ...    ...   \n",
       "2910  3918.0  21.0  ...  0.6  3.5  2.3  23.5  0.366  0.392  0.305  0.411   \n",
       "2911  3919.0  21.0  ...  1.2  5.5  3.0  23.4  0.423  0.440  0.071  0.424   \n",
       "2912  3920.0  37.0  ...  2.8  1.9  3.3   4.7  0.395  0.402  0.250  0.401   \n",
       "2913  3921.0  29.0  ...  0.9  2.8  3.7  20.3  0.454  0.500  0.307  0.491   \n",
       "2914  3923.0  29.0  ...  0.3  3.7  3.6  23.2  0.411  0.429  0.100  0.414   \n",
       "2915  3925.0  27.0  ...  0.4  4.5  4.8  22.0  0.368  0.352  0.393  0.446   \n",
       "2916  3926.0  32.0  ...  1.1  4.3  5.3   7.6  0.338  0.407  0.192  0.369   \n",
       "2917  3927.0  25.0  ...  0.8  2.1  3.9  14.6  0.423  0.479  0.339  0.491   \n",
       "2918  3928.0  31.0  ...  1.3  2.6  4.4  23.1  0.487  0.491  0.222  0.489   \n",
       "2919  3929.0  28.0  ...  0.5  3.8  3.3  20.9  0.461  0.489  0.355  0.499   \n",
       "2920  3930.0  23.0  ...  0.5  5.3  3.3  34.5  0.457  0.482  0.316  0.481   \n",
       "2921  3931.0  25.0  ...  1.1  2.1  4.5  18.8  0.493  0.491  1.000  0.494   \n",
       "2922  3933.0  29.0  ...  1.0  3.3  7.1  16.8  0.598  0.598  0.000  0.598   \n",
       "2923  3934.0  32.0  ...  0.8  1.8  5.0  11.3  0.394  0.406  0.304  0.412   \n",
       "2924  3935.0  27.0  ...  0.5  5.8  3.2  30.7  0.407  0.446  0.336  0.467   \n",
       "2925  3936.0  20.0  ...  1.1  2.8  3.4  21.2  0.412  0.467  0.268  0.449   \n",
       "2926  3938.0  21.0  ...  1.3  1.9  5.1  16.5  0.507  0.507  0.000  0.507   \n",
       "2927  3939.0  25.0  ...  0.6  2.3  2.9  30.4  0.407  0.425  0.362  0.460   \n",
       "2928  3940.0  25.0  ...  0.6  1.4  3.0  20.5  0.432  0.452  0.389  0.494   \n",
       "2929  3941.0  29.0  ...  0.3  3.1  3.8  25.0  0.426  0.449  0.389  0.502   \n",
       "2930  3942.0  25.0  ...  0.2  2.3  2.4  19.3  0.416  0.493  0.308  0.480   \n",
       "2931  3944.0  25.0  ...  1.1  1.3  4.6  11.7  0.286  0.350  0.241  0.357   \n",
       "2932  3945.0  28.0  ...  1.6  2.8  6.2  11.2  0.478  0.478  0.000  0.478   \n",
       "2933  3946.0  24.0  ...  0.7  4.0  3.3  19.8  0.429  0.454  0.348  0.470   \n",
       "2934  3947.0  32.0  ...  0.8  2.1  4.2  15.2  0.394  0.460  0.296  0.454   \n",
       "2935  3948.0  24.0  ...  4.2  1.4  4.0  22.6  0.618  0.621  0.000  0.618   \n",
       "2936  3950.0  26.0  ...  0.8  1.6  3.1  19.8  0.422  0.500  0.360  0.522   \n",
       "2937  3951.0  26.0  ...  0.5  2.5  4.3  26.7  0.403  0.424  0.365  0.469   \n",
       "2938  3953.0  23.0  ...  1.3  1.7  3.9  24.6  0.507  0.508  0.250  0.507   \n",
       "2939  3955.0  25.0  ...  0.7  1.5  3.3  18.7  0.498  0.546  0.423  0.581   \n",
       "\n",
       "        FT%    TS%  \n",
       "0     0.923  0.507  \n",
       "1     0.778  0.474  \n",
       "2     0.500  0.591  \n",
       "3     0.735  0.623  \n",
       "4     0.847  0.576  \n",
       "5     0.750  0.516  \n",
       "6     0.709  0.632  \n",
       "7     0.778  0.574  \n",
       "8     0.867  0.568  \n",
       "9     0.743  0.516  \n",
       "10    0.578  0.569  \n",
       "11    0.729  0.644  \n",
       "12    0.581  0.544  \n",
       "13    0.873  0.588  \n",
       "14    0.793  0.534  \n",
       "15    0.866  0.616  \n",
       "16    0.746  0.608  \n",
       "17    0.739  0.570  \n",
       "18    0.691  0.562  \n",
       "19    0.417  0.487  \n",
       "20    0.587  0.539  \n",
       "21    0.705  0.495  \n",
       "22    0.824  0.550  \n",
       "23    0.770  0.501  \n",
       "24    0.643  0.489  \n",
       "25    0.865  0.581  \n",
       "26    0.571  0.431  \n",
       "27    0.855  0.567  \n",
       "28    0.726  0.507  \n",
       "29    0.808  0.581  \n",
       "...     ...    ...  \n",
       "2910  0.789  0.464  \n",
       "2911  0.789  0.502  \n",
       "2912  0.340  0.398  \n",
       "2913  0.800  0.547  \n",
       "2914  0.768  0.503  \n",
       "2915  0.808  0.491  \n",
       "2916  0.674  0.413  \n",
       "2917  0.792  0.533  \n",
       "2918  0.807  0.531  \n",
       "2919  0.886  0.539  \n",
       "2920  0.823  0.538  \n",
       "2921  0.705  0.516  \n",
       "2922  0.615  0.612  \n",
       "2923  0.630  0.445  \n",
       "2924  0.843  0.527  \n",
       "2925  0.697  0.499  \n",
       "2926  0.652  0.544  \n",
       "2927  0.812  0.525  \n",
       "2928  0.788  0.542  \n",
       "2929  0.900  0.530  \n",
       "2930  0.725  0.503  \n",
       "2931  0.727  0.372  \n",
       "2932  0.731  0.543  \n",
       "2933  0.587  0.488  \n",
       "2934  0.617  0.478  \n",
       "2935  0.634  0.632  \n",
       "2936  0.816  0.553  \n",
       "2937  0.852  0.512  \n",
       "2938  0.771  0.538  \n",
       "2939  0.847  0.620  \n",
       "\n",
       "[2940 rows x 38 columns]"
      ]
     },
     "execution_count": 30,
     "metadata": {},
     "output_type": "execute_result"
    }
   ],
   "source": [
    "df.head(2940)"
   ]
  },
  {
   "cell_type": "code",
   "execution_count": 4,
   "metadata": {},
   "outputs": [],
   "source": [
    "dftest=df.iloc[:2939,:] "
   ]
  },
  {
   "cell_type": "code",
   "execution_count": 5,
   "metadata": {},
   "outputs": [
    {
     "data": {
      "text/html": [
       "<div>\n",
       "<style scoped>\n",
       "    .dataframe tbody tr th:only-of-type {\n",
       "        vertical-align: middle;\n",
       "    }\n",
       "\n",
       "    .dataframe tbody tr th {\n",
       "        vertical-align: top;\n",
       "    }\n",
       "\n",
       "    .dataframe thead th {\n",
       "        text-align: right;\n",
       "    }\n",
       "</style>\n",
       "<table border=\"1\" class=\"dataframe\">\n",
       "  <thead>\n",
       "    <tr style=\"text-align: right;\">\n",
       "      <th></th>\n",
       "      <th>Player</th>\n",
       "      <th>DRtg</th>\n",
       "      <th>Season</th>\n",
       "      <th>ORtg</th>\n",
       "      <th>USG%</th>\n",
       "      <th>VORP</th>\n",
       "      <th>WS</th>\n",
       "      <th>PER</th>\n",
       "      <th>Rk</th>\n",
       "      <th>Age</th>\n",
       "      <th>...</th>\n",
       "      <th>BLK</th>\n",
       "      <th>TOV</th>\n",
       "      <th>PF</th>\n",
       "      <th>PTS</th>\n",
       "      <th>FG%</th>\n",
       "      <th>2P%</th>\n",
       "      <th>3P%</th>\n",
       "      <th>eFG%</th>\n",
       "      <th>FT%</th>\n",
       "      <th>TS%</th>\n",
       "    </tr>\n",
       "  </thead>\n",
       "  <tbody>\n",
       "    <tr>\n",
       "      <th>2934</th>\n",
       "      <td>Metta World Peace</td>\n",
       "      <td>105</td>\n",
       "      <td>2011-12</td>\n",
       "      <td>102.0</td>\n",
       "      <td>15.6</td>\n",
       "      <td>1.1</td>\n",
       "      <td>2.6</td>\n",
       "      <td>11.0</td>\n",
       "      <td>3947.0</td>\n",
       "      <td>32.0</td>\n",
       "      <td>...</td>\n",
       "      <td>0.8</td>\n",
       "      <td>2.1</td>\n",
       "      <td>4.2</td>\n",
       "      <td>15.2</td>\n",
       "      <td>0.394</td>\n",
       "      <td>0.460</td>\n",
       "      <td>0.296</td>\n",
       "      <td>0.454</td>\n",
       "      <td>0.617</td>\n",
       "      <td>0.478</td>\n",
       "    </tr>\n",
       "    <tr>\n",
       "      <th>2935</th>\n",
       "      <td>Brandan Wright</td>\n",
       "      <td>100</td>\n",
       "      <td>2011-12</td>\n",
       "      <td>124.0</td>\n",
       "      <td>17.0</td>\n",
       "      <td>0.9</td>\n",
       "      <td>3.5</td>\n",
       "      <td>21.6</td>\n",
       "      <td>3948.0</td>\n",
       "      <td>24.0</td>\n",
       "      <td>...</td>\n",
       "      <td>4.2</td>\n",
       "      <td>1.4</td>\n",
       "      <td>4.0</td>\n",
       "      <td>22.6</td>\n",
       "      <td>0.618</td>\n",
       "      <td>0.621</td>\n",
       "      <td>0.000</td>\n",
       "      <td>0.618</td>\n",
       "      <td>0.634</td>\n",
       "      <td>0.632</td>\n",
       "    </tr>\n",
       "    <tr>\n",
       "      <th>2936</th>\n",
       "      <td>Dorell Wright</td>\n",
       "      <td>109</td>\n",
       "      <td>2011-12</td>\n",
       "      <td>111.0</td>\n",
       "      <td>17.3</td>\n",
       "      <td>1.2</td>\n",
       "      <td>3.4</td>\n",
       "      <td>15.0</td>\n",
       "      <td>3950.0</td>\n",
       "      <td>26.0</td>\n",
       "      <td>...</td>\n",
       "      <td>0.8</td>\n",
       "      <td>1.6</td>\n",
       "      <td>3.1</td>\n",
       "      <td>19.8</td>\n",
       "      <td>0.422</td>\n",
       "      <td>0.500</td>\n",
       "      <td>0.360</td>\n",
       "      <td>0.522</td>\n",
       "      <td>0.816</td>\n",
       "      <td>0.553</td>\n",
       "    </tr>\n",
       "    <tr>\n",
       "      <th>2937</th>\n",
       "      <td>Nick Young</td>\n",
       "      <td>110</td>\n",
       "      <td>2011-12</td>\n",
       "      <td>102.0</td>\n",
       "      <td>24.5</td>\n",
       "      <td>-0.6</td>\n",
       "      <td>1.9</td>\n",
       "      <td>12.9</td>\n",
       "      <td>3951.0</td>\n",
       "      <td>26.0</td>\n",
       "      <td>...</td>\n",
       "      <td>0.5</td>\n",
       "      <td>2.5</td>\n",
       "      <td>4.3</td>\n",
       "      <td>26.7</td>\n",
       "      <td>0.403</td>\n",
       "      <td>0.424</td>\n",
       "      <td>0.365</td>\n",
       "      <td>0.469</td>\n",
       "      <td>0.852</td>\n",
       "      <td>0.512</td>\n",
       "    </tr>\n",
       "    <tr>\n",
       "      <th>2938</th>\n",
       "      <td>Thaddeus Young</td>\n",
       "      <td>100</td>\n",
       "      <td>2011-12</td>\n",
       "      <td>111.0</td>\n",
       "      <td>21.5</td>\n",
       "      <td>1.6</td>\n",
       "      <td>6.3</td>\n",
       "      <td>18.9</td>\n",
       "      <td>3953.0</td>\n",
       "      <td>23.0</td>\n",
       "      <td>...</td>\n",
       "      <td>1.3</td>\n",
       "      <td>1.7</td>\n",
       "      <td>3.9</td>\n",
       "      <td>24.6</td>\n",
       "      <td>0.507</td>\n",
       "      <td>0.508</td>\n",
       "      <td>0.250</td>\n",
       "      <td>0.507</td>\n",
       "      <td>0.771</td>\n",
       "      <td>0.538</td>\n",
       "    </tr>\n",
       "  </tbody>\n",
       "</table>\n",
       "<p>5 rows × 38 columns</p>\n",
       "</div>"
      ],
      "text/plain": [
       "                 Player  DRtg   Season   ORtg  USG%  VORP   WS   PER      Rk  \\\n",
       "2934  Metta World Peace   105  2011-12  102.0  15.6   1.1  2.6  11.0  3947.0   \n",
       "2935     Brandan Wright   100  2011-12  124.0  17.0   0.9  3.5  21.6  3948.0   \n",
       "2936      Dorell Wright   109  2011-12  111.0  17.3   1.2  3.4  15.0  3950.0   \n",
       "2937         Nick Young   110  2011-12  102.0  24.5  -0.6  1.9  12.9  3951.0   \n",
       "2938     Thaddeus Young   100  2011-12  111.0  21.5   1.6  6.3  18.9  3953.0   \n",
       "\n",
       "       Age  ...  BLK  TOV   PF   PTS    FG%    2P%    3P%   eFG%    FT%    TS%  \n",
       "2934  32.0  ...  0.8  2.1  4.2  15.2  0.394  0.460  0.296  0.454  0.617  0.478  \n",
       "2935  24.0  ...  4.2  1.4  4.0  22.6  0.618  0.621  0.000  0.618  0.634  0.632  \n",
       "2936  26.0  ...  0.8  1.6  3.1  19.8  0.422  0.500  0.360  0.522  0.816  0.553  \n",
       "2937  26.0  ...  0.5  2.5  4.3  26.7  0.403  0.424  0.365  0.469  0.852  0.512  \n",
       "2938  23.0  ...  1.3  1.7  3.9  24.6  0.507  0.508  0.250  0.507  0.771  0.538  \n",
       "\n",
       "[5 rows x 38 columns]"
      ]
     },
     "execution_count": 5,
     "metadata": {},
     "output_type": "execute_result"
    }
   ],
   "source": [
    "dftest.tail()"
   ]
  },
  {
   "cell_type": "code",
   "execution_count": 6,
   "metadata": {},
   "outputs": [],
   "source": [
    "modern=dftest"
   ]
  },
  {
   "cell_type": "code",
   "execution_count": 34,
   "metadata": {},
   "outputs": [
    {
     "data": {
      "text/plain": [
       "Index(['Player', 'DRtg', 'Season', 'ORtg', 'USG%', 'VORP', 'WS', 'PER', 'Rk',\n",
       "       'Age', 'Tm', 'Lg', 'G', 'GS', 'MP', 'FG', 'FGA', '2P', '2PA', '3P',\n",
       "       '3PA', 'FT', 'FTA', 'ORB', 'DRB', 'TRB', 'AST', 'STL', 'BLK', 'TOV',\n",
       "       'PF', 'PTS', 'FG%', '2P%', '3P%', 'eFG%', 'FT%', 'TS%'],\n",
       "      dtype='object')"
      ]
     },
     "execution_count": 34,
     "metadata": {},
     "output_type": "execute_result"
    }
   ],
   "source": [
    "modern.columns"
   ]
  },
  {
   "cell_type": "code",
   "execution_count": 35,
   "metadata": {},
   "outputs": [
    {
     "data": {
      "text/html": [
       "<div>\n",
       "<style scoped>\n",
       "    .dataframe tbody tr th:only-of-type {\n",
       "        vertical-align: middle;\n",
       "    }\n",
       "\n",
       "    .dataframe tbody tr th {\n",
       "        vertical-align: top;\n",
       "    }\n",
       "\n",
       "    .dataframe thead th {\n",
       "        text-align: right;\n",
       "    }\n",
       "</style>\n",
       "<table border=\"1\" class=\"dataframe\">\n",
       "  <thead>\n",
       "    <tr style=\"text-align: right;\">\n",
       "      <th></th>\n",
       "      <th>Player</th>\n",
       "      <th>DRtg</th>\n",
       "      <th>Season</th>\n",
       "      <th>ORtg</th>\n",
       "      <th>USG%</th>\n",
       "      <th>VORP</th>\n",
       "      <th>WS</th>\n",
       "      <th>PER</th>\n",
       "      <th>Rk</th>\n",
       "      <th>Age</th>\n",
       "      <th>...</th>\n",
       "      <th>BLK</th>\n",
       "      <th>TOV</th>\n",
       "      <th>PF</th>\n",
       "      <th>PTS</th>\n",
       "      <th>FG%</th>\n",
       "      <th>2P%</th>\n",
       "      <th>3P%</th>\n",
       "      <th>eFG%</th>\n",
       "      <th>FT%</th>\n",
       "      <th>TS%</th>\n",
       "    </tr>\n",
       "  </thead>\n",
       "  <tbody>\n",
       "    <tr>\n",
       "      <th>0</th>\n",
       "      <td>Álex Abrines</td>\n",
       "      <td>111</td>\n",
       "      <td>2018-19</td>\n",
       "      <td>103.0</td>\n",
       "      <td>12.2</td>\n",
       "      <td>-0.2</td>\n",
       "      <td>0.6</td>\n",
       "      <td>6.3</td>\n",
       "      <td>1.0</td>\n",
       "      <td>25.0</td>\n",
       "      <td>...</td>\n",
       "      <td>0.5</td>\n",
       "      <td>1.1</td>\n",
       "      <td>4.2</td>\n",
       "      <td>13.1</td>\n",
       "      <td>0.357</td>\n",
       "      <td>0.500</td>\n",
       "      <td>0.323</td>\n",
       "      <td>0.487</td>\n",
       "      <td>0.923</td>\n",
       "      <td>0.507</td>\n",
       "    </tr>\n",
       "    <tr>\n",
       "      <th>1</th>\n",
       "      <td>Jaylen Adams</td>\n",
       "      <td>115</td>\n",
       "      <td>2018-19</td>\n",
       "      <td>99.0</td>\n",
       "      <td>13.5</td>\n",
       "      <td>-0.3</td>\n",
       "      <td>0.1</td>\n",
       "      <td>7.6</td>\n",
       "      <td>3.0</td>\n",
       "      <td>22.0</td>\n",
       "      <td>...</td>\n",
       "      <td>0.5</td>\n",
       "      <td>3.0</td>\n",
       "      <td>4.9</td>\n",
       "      <td>11.7</td>\n",
       "      <td>0.345</td>\n",
       "      <td>0.361</td>\n",
       "      <td>0.338</td>\n",
       "      <td>0.459</td>\n",
       "      <td>0.778</td>\n",
       "      <td>0.474</td>\n",
       "    </tr>\n",
       "    <tr>\n",
       "      <th>2</th>\n",
       "      <td>Steven Adams</td>\n",
       "      <td>106</td>\n",
       "      <td>2018-19</td>\n",
       "      <td>120.0</td>\n",
       "      <td>16.4</td>\n",
       "      <td>3.2</td>\n",
       "      <td>9.1</td>\n",
       "      <td>18.5</td>\n",
       "      <td>4.0</td>\n",
       "      <td>25.0</td>\n",
       "      <td>...</td>\n",
       "      <td>1.3</td>\n",
       "      <td>2.4</td>\n",
       "      <td>3.6</td>\n",
       "      <td>19.4</td>\n",
       "      <td>0.595</td>\n",
       "      <td>0.596</td>\n",
       "      <td>0.000</td>\n",
       "      <td>0.595</td>\n",
       "      <td>0.500</td>\n",
       "      <td>0.591</td>\n",
       "    </tr>\n",
       "    <tr>\n",
       "      <th>3</th>\n",
       "      <td>Bam Adebayo</td>\n",
       "      <td>104</td>\n",
       "      <td>2018-19</td>\n",
       "      <td>120.0</td>\n",
       "      <td>15.8</td>\n",
       "      <td>2.4</td>\n",
       "      <td>6.8</td>\n",
       "      <td>17.9</td>\n",
       "      <td>5.0</td>\n",
       "      <td>21.0</td>\n",
       "      <td>...</td>\n",
       "      <td>1.7</td>\n",
       "      <td>3.1</td>\n",
       "      <td>5.2</td>\n",
       "      <td>18.6</td>\n",
       "      <td>0.576</td>\n",
       "      <td>0.588</td>\n",
       "      <td>0.200</td>\n",
       "      <td>0.579</td>\n",
       "      <td>0.735</td>\n",
       "      <td>0.623</td>\n",
       "    </tr>\n",
       "    <tr>\n",
       "      <th>4</th>\n",
       "      <td>LaMarcus Aldridge</td>\n",
       "      <td>110</td>\n",
       "      <td>2018-19</td>\n",
       "      <td>117.0</td>\n",
       "      <td>26.9</td>\n",
       "      <td>2.5</td>\n",
       "      <td>9.3</td>\n",
       "      <td>22.9</td>\n",
       "      <td>8.0</td>\n",
       "      <td>33.0</td>\n",
       "      <td>...</td>\n",
       "      <td>1.9</td>\n",
       "      <td>2.6</td>\n",
       "      <td>3.3</td>\n",
       "      <td>31.4</td>\n",
       "      <td>0.519</td>\n",
       "      <td>0.528</td>\n",
       "      <td>0.238</td>\n",
       "      <td>0.522</td>\n",
       "      <td>0.847</td>\n",
       "      <td>0.576</td>\n",
       "    </tr>\n",
       "  </tbody>\n",
       "</table>\n",
       "<p>5 rows × 38 columns</p>\n",
       "</div>"
      ],
      "text/plain": [
       "              Player  DRtg   Season   ORtg  USG%  VORP   WS   PER   Rk   Age  \\\n",
       "0       Álex Abrines   111  2018-19  103.0  12.2  -0.2  0.6   6.3  1.0  25.0   \n",
       "1       Jaylen Adams   115  2018-19   99.0  13.5  -0.3  0.1   7.6  3.0  22.0   \n",
       "2       Steven Adams   106  2018-19  120.0  16.4   3.2  9.1  18.5  4.0  25.0   \n",
       "3        Bam Adebayo   104  2018-19  120.0  15.8   2.4  6.8  17.9  5.0  21.0   \n",
       "4  LaMarcus Aldridge   110  2018-19  117.0  26.9   2.5  9.3  22.9  8.0  33.0   \n",
       "\n",
       "   ...  BLK  TOV   PF   PTS    FG%    2P%    3P%   eFG%    FT%    TS%  \n",
       "0  ...  0.5  1.1  4.2  13.1  0.357  0.500  0.323  0.487  0.923  0.507  \n",
       "1  ...  0.5  3.0  4.9  11.7  0.345  0.361  0.338  0.459  0.778  0.474  \n",
       "2  ...  1.3  2.4  3.6  19.4  0.595  0.596  0.000  0.595  0.500  0.591  \n",
       "3  ...  1.7  3.1  5.2  18.6  0.576  0.588  0.200  0.579  0.735  0.623  \n",
       "4  ...  1.9  2.6  3.3  31.4  0.519  0.528  0.238  0.522  0.847  0.576  \n",
       "\n",
       "[5 rows x 38 columns]"
      ]
     },
     "execution_count": 35,
     "metadata": {},
     "output_type": "execute_result"
    }
   ],
   "source": [
    "modern.head()"
   ]
  },
  {
   "cell_type": "code",
   "execution_count": null,
   "metadata": {},
   "outputs": [],
   "source": [
    "#PF = personal fouls"
   ]
  },
  {
   "cell_type": "code",
   "execution_count": null,
   "metadata": {},
   "outputs": [],
   "source": []
  },
  {
   "cell_type": "code",
   "execution_count": 7,
   "metadata": {},
   "outputs": [],
   "source": [
    "modern2 = modern.drop(['Player', 'Season', 'MP', 'Age','Tm','Lg','G','GS'], axis=1)"
   ]
  },
  {
   "cell_type": "code",
   "execution_count": 8,
   "metadata": {},
   "outputs": [
    {
     "data": {
      "text/plain": [
       "Index(['DRtg', 'ORtg', 'USG%', 'VORP', 'WS', 'PER', 'Rk', 'FG', 'FGA', '2P',\n",
       "       '2PA', '3P', '3PA', 'FT', 'FTA', 'ORB', 'DRB', 'TRB', 'AST', 'STL',\n",
       "       'BLK', 'TOV', 'PF', 'PTS', 'FG%', '2P%', '3P%', 'eFG%', 'FT%', 'TS%'],\n",
       "      dtype='object')"
      ]
     },
     "execution_count": 8,
     "metadata": {},
     "output_type": "execute_result"
    }
   ],
   "source": [
    "modern2.columns"
   ]
  },
  {
   "cell_type": "code",
   "execution_count": 9,
   "metadata": {},
   "outputs": [
    {
     "data": {
      "text/plain": [
       "30"
      ]
     },
     "execution_count": 9,
     "metadata": {},
     "output_type": "execute_result"
    }
   ],
   "source": [
    "len(modern2.columns)"
   ]
  },
  {
   "cell_type": "code",
   "execution_count": 10,
   "metadata": {},
   "outputs": [
    {
     "data": {
      "text/plain": [
       "2939"
      ]
     },
     "execution_count": 10,
     "metadata": {},
     "output_type": "execute_result"
    }
   ],
   "source": [
    "len(modern2)"
   ]
  },
  {
   "cell_type": "code",
   "execution_count": 11,
   "metadata": {},
   "outputs": [],
   "source": [
    "X=modern2"
   ]
  },
  {
   "cell_type": "markdown",
   "metadata": {},
   "source": [
    "### Scale PCA and modeling "
   ]
  },
  {
   "cell_type": "code",
   "execution_count": 48,
   "metadata": {},
   "outputs": [
    {
     "name": "stderr",
     "output_type": "stream",
     "text": [
      "/Users/flatironschool/anaconda3/lib/python3.7/site-packages/sklearn/preprocessing/data.py:645: DataConversionWarning: Data with input dtype int64, float64 were all converted to float64 by StandardScaler.\n",
      "  return self.partial_fit(X, y)\n",
      "/Users/flatironschool/anaconda3/lib/python3.7/site-packages/sklearn/base.py:464: DataConversionWarning: Data with input dtype int64, float64 were all converted to float64 by StandardScaler.\n",
      "  return self.fit(X, **fit_params).transform(X)\n"
     ]
    }
   ],
   "source": [
    "# Scale the data now \n",
    "# Scale the data\n",
    "scaler = StandardScaler()\n",
    "X_scaled = scaler.fit_transform(X)"
   ]
  },
  {
   "cell_type": "code",
   "execution_count": 22,
   "metadata": {},
   "outputs": [],
   "source": [
    "### can prob delete pca scaling stuff in the notebook bc didnt really use here..."
   ]
  },
  {
   "cell_type": "code",
   "execution_count": 49,
   "metadata": {},
   "outputs": [
    {
     "name": "stdout",
     "output_type": "stream",
     "text": [
      "Cumulative Explained Variance: 0.8261311339047707\n"
     ]
    }
   ],
   "source": [
    "pca = PCA(n_components=6)\n",
    "pca.fit(X_scaled)\n",
    "\n",
    "X_pca = pca.transform(X_scaled)\n",
    "print(\"Cumulative Explained Variance:\", pca.explained_variance_ratio_.sum())"
   ]
  },
  {
   "cell_type": "code",
   "execution_count": 53,
   "metadata": {},
   "outputs": [
    {
     "name": "stdout",
     "output_type": "stream",
     "text": [
      "Cumulative Explained Variance: 0.856477314973781\n"
     ]
    }
   ],
   "source": [
    "pca = PCA(n_components=7)\n",
    "pca.fit(X_scaled)\n",
    "\n",
    "X_pca = pca.transform(X_scaled)\n",
    "print(\"Cumulative Explained Variance:\", pca.explained_variance_ratio_.sum())"
   ]
  },
  {
   "cell_type": "code",
   "execution_count": null,
   "metadata": {},
   "outputs": [],
   "source": [
    "# Graph PCA stuff to show what features doing the most explaining\n",
    "res.pca <- PCA(mammals_scaled,  graph = FALSE)\n",
    "# Visualize eigenvalues/variances\n",
    "fviz_screeplot(res.pca, addlabels = TRUE, ylim = c(0, 50))"
   ]
  },
  {
   "cell_type": "code",
   "execution_count": null,
   "metadata": {},
   "outputs": [],
   "source": [
    "# Graph PCA stuff to show what features doing the most explaining PART 2 \n",
    "# Extract the results for variables\n",
    "var <- get_pca_var(res.pca)\n",
    "# Contributions of variables to PC1\n",
    "fviz_contrib(res.pca, choice = \"var\", axes = 1, top = 10)\n",
    "# Contributions of variables to PC2\n",
    "fviz_contrib(res.pca, choice = \"var\", axes = 2, top = 10)\n",
    "# Control variable colors using their contributions to the principle axis\n",
    "fviz_pca_var(res.pca, col.var=\"contrib\",\n",
    "             gradient.cols = c(\"#00AFBB\", \"#E7B800\", \"#FC4E07\"),\n",
    "             repel = TRUE # Avoid text overlapping\n",
    "             ) + theme_minimal() + ggtitle(\"Variables - PCA\")"
   ]
  },
  {
   "cell_type": "code",
   "execution_count": null,
   "metadata": {},
   "outputs": [],
   "source": [
    "# Picking Best number of k part, using elbow method \n",
    "# Specifying the dataset and initializing variables\n",
    "X = test\n",
    "distorsions = []\n",
    "\n",
    "# Calculate SSE for different K\n",
    "for k in range(2, 10):\n",
    "    kmeans = KMeans(n_clusters=k, random_state = 301)\n",
    "    kmeans.fit(X)\n",
    "    distorsions.append(kmeans.inertia_)\n",
    "\n",
    "# Plot values of SSE\n",
    "plt.figure(figsize=(15,8))\n",
    "plt.subplot(121, title='Elbow curve')\n",
    "plt.xlabel('k')\n",
    "plt.plot(range(2, 10), distorsions)\n",
    "plt.grid(True)\n"
   ]
  },
  {
   "cell_type": "code",
   "execution_count": null,
   "metadata": {},
   "outputs": [],
   "source": [
    "# Generate silhouette coefficient for each k\n",
    "X = test\n",
    "silhouette_plot = []\n",
    "for k in range(2, 10):\n",
    "    clusters = KMeans(n_clusters=k, random_state=10)\n",
    "    cluster_labels = clusters.fit_predict(X)\n",
    "    silhouette_avg = metrics.silhouette_score(X, cluster_labels)\n",
    "    silhouette_plot.append(silhouette_avg)"
   ]
  },
  {
   "cell_type": "code",
   "execution_count": null,
   "metadata": {},
   "outputs": [],
   "source": [
    "# Plot Silhouette coefficient\n",
    "plt.figure(figsize=(15,8))\n",
    "plt.subplot(121, title='Silhouette coefficients over k')\n",
    "plt.xlabel('k')\n",
    "plt.ylabel('silhouette coefficient')\n",
    "plt.plot(range(2, 10), silhouette_plot)\n",
    "plt.axhline(y=np.mean(silhouette_plot), color=\"red\", linestyle=\"--\")\n",
    "plt.grid(True)"
   ]
  },
  {
   "cell_type": "markdown",
   "metadata": {},
   "source": [
    "#### EDA on current data "
   ]
  },
  {
   "cell_type": "code",
   "execution_count": null,
   "metadata": {},
   "outputs": [],
   "source": [
    "# What graphs I can get now...\n",
    "# groupby season and get scatterplot for certain features\n",
    "# Do some describe..."
   ]
  },
  {
   "cell_type": "code",
   "execution_count": 55,
   "metadata": {},
   "outputs": [
    {
     "data": {
      "text/plain": [
       "6758"
      ]
     },
     "execution_count": 55,
     "metadata": {},
     "output_type": "execute_result"
    }
   ],
   "source": [
    "len(df)"
   ]
  },
  {
   "cell_type": "code",
   "execution_count": 12,
   "metadata": {},
   "outputs": [],
   "source": [
    "df['Year'] = df['Season'].str[:4]"
   ]
  },
  {
   "cell_type": "code",
   "execution_count": 102,
   "metadata": {},
   "outputs": [
    {
     "data": {
      "text/html": [
       "<div>\n",
       "<style scoped>\n",
       "    .dataframe tbody tr th:only-of-type {\n",
       "        vertical-align: middle;\n",
       "    }\n",
       "\n",
       "    .dataframe tbody tr th {\n",
       "        vertical-align: top;\n",
       "    }\n",
       "\n",
       "    .dataframe thead th {\n",
       "        text-align: right;\n",
       "    }\n",
       "</style>\n",
       "<table border=\"1\" class=\"dataframe\">\n",
       "  <thead>\n",
       "    <tr style=\"text-align: right;\">\n",
       "      <th></th>\n",
       "      <th>Player</th>\n",
       "      <th>DRtg</th>\n",
       "      <th>Season</th>\n",
       "      <th>ORtg</th>\n",
       "      <th>USG%</th>\n",
       "      <th>VORP</th>\n",
       "      <th>WS</th>\n",
       "      <th>PER</th>\n",
       "      <th>Rk</th>\n",
       "      <th>Age</th>\n",
       "      <th>...</th>\n",
       "      <th>TOV</th>\n",
       "      <th>PF</th>\n",
       "      <th>PTS</th>\n",
       "      <th>FG%</th>\n",
       "      <th>2P%</th>\n",
       "      <th>3P%</th>\n",
       "      <th>eFG%</th>\n",
       "      <th>FT%</th>\n",
       "      <th>TS%</th>\n",
       "      <th>Year</th>\n",
       "    </tr>\n",
       "  </thead>\n",
       "  <tbody>\n",
       "    <tr>\n",
       "      <th>0</th>\n",
       "      <td>Álex Abrines</td>\n",
       "      <td>111</td>\n",
       "      <td>2018-19</td>\n",
       "      <td>103.0</td>\n",
       "      <td>12.2</td>\n",
       "      <td>-0.2</td>\n",
       "      <td>0.6</td>\n",
       "      <td>6.3</td>\n",
       "      <td>1.0</td>\n",
       "      <td>25.0</td>\n",
       "      <td>...</td>\n",
       "      <td>1.1</td>\n",
       "      <td>4.2</td>\n",
       "      <td>13.1</td>\n",
       "      <td>0.357</td>\n",
       "      <td>0.500</td>\n",
       "      <td>0.323</td>\n",
       "      <td>0.487</td>\n",
       "      <td>0.923</td>\n",
       "      <td>0.507</td>\n",
       "      <td>2018</td>\n",
       "    </tr>\n",
       "    <tr>\n",
       "      <th>1</th>\n",
       "      <td>Jaylen Adams</td>\n",
       "      <td>115</td>\n",
       "      <td>2018-19</td>\n",
       "      <td>99.0</td>\n",
       "      <td>13.5</td>\n",
       "      <td>-0.3</td>\n",
       "      <td>0.1</td>\n",
       "      <td>7.6</td>\n",
       "      <td>3.0</td>\n",
       "      <td>22.0</td>\n",
       "      <td>...</td>\n",
       "      <td>3.0</td>\n",
       "      <td>4.9</td>\n",
       "      <td>11.7</td>\n",
       "      <td>0.345</td>\n",
       "      <td>0.361</td>\n",
       "      <td>0.338</td>\n",
       "      <td>0.459</td>\n",
       "      <td>0.778</td>\n",
       "      <td>0.474</td>\n",
       "      <td>2018</td>\n",
       "    </tr>\n",
       "    <tr>\n",
       "      <th>2</th>\n",
       "      <td>Steven Adams</td>\n",
       "      <td>106</td>\n",
       "      <td>2018-19</td>\n",
       "      <td>120.0</td>\n",
       "      <td>16.4</td>\n",
       "      <td>3.2</td>\n",
       "      <td>9.1</td>\n",
       "      <td>18.5</td>\n",
       "      <td>4.0</td>\n",
       "      <td>25.0</td>\n",
       "      <td>...</td>\n",
       "      <td>2.4</td>\n",
       "      <td>3.6</td>\n",
       "      <td>19.4</td>\n",
       "      <td>0.595</td>\n",
       "      <td>0.596</td>\n",
       "      <td>0.000</td>\n",
       "      <td>0.595</td>\n",
       "      <td>0.500</td>\n",
       "      <td>0.591</td>\n",
       "      <td>2018</td>\n",
       "    </tr>\n",
       "    <tr>\n",
       "      <th>3</th>\n",
       "      <td>Bam Adebayo</td>\n",
       "      <td>104</td>\n",
       "      <td>2018-19</td>\n",
       "      <td>120.0</td>\n",
       "      <td>15.8</td>\n",
       "      <td>2.4</td>\n",
       "      <td>6.8</td>\n",
       "      <td>17.9</td>\n",
       "      <td>5.0</td>\n",
       "      <td>21.0</td>\n",
       "      <td>...</td>\n",
       "      <td>3.1</td>\n",
       "      <td>5.2</td>\n",
       "      <td>18.6</td>\n",
       "      <td>0.576</td>\n",
       "      <td>0.588</td>\n",
       "      <td>0.200</td>\n",
       "      <td>0.579</td>\n",
       "      <td>0.735</td>\n",
       "      <td>0.623</td>\n",
       "      <td>2018</td>\n",
       "    </tr>\n",
       "    <tr>\n",
       "      <th>4</th>\n",
       "      <td>LaMarcus Aldridge</td>\n",
       "      <td>110</td>\n",
       "      <td>2018-19</td>\n",
       "      <td>117.0</td>\n",
       "      <td>26.9</td>\n",
       "      <td>2.5</td>\n",
       "      <td>9.3</td>\n",
       "      <td>22.9</td>\n",
       "      <td>8.0</td>\n",
       "      <td>33.0</td>\n",
       "      <td>...</td>\n",
       "      <td>2.6</td>\n",
       "      <td>3.3</td>\n",
       "      <td>31.4</td>\n",
       "      <td>0.519</td>\n",
       "      <td>0.528</td>\n",
       "      <td>0.238</td>\n",
       "      <td>0.522</td>\n",
       "      <td>0.847</td>\n",
       "      <td>0.576</td>\n",
       "      <td>2018</td>\n",
       "    </tr>\n",
       "  </tbody>\n",
       "</table>\n",
       "<p>5 rows × 39 columns</p>\n",
       "</div>"
      ],
      "text/plain": [
       "              Player  DRtg   Season   ORtg  USG%  VORP   WS   PER   Rk   Age  \\\n",
       "0       Álex Abrines   111  2018-19  103.0  12.2  -0.2  0.6   6.3  1.0  25.0   \n",
       "1       Jaylen Adams   115  2018-19   99.0  13.5  -0.3  0.1   7.6  3.0  22.0   \n",
       "2       Steven Adams   106  2018-19  120.0  16.4   3.2  9.1  18.5  4.0  25.0   \n",
       "3        Bam Adebayo   104  2018-19  120.0  15.8   2.4  6.8  17.9  5.0  21.0   \n",
       "4  LaMarcus Aldridge   110  2018-19  117.0  26.9   2.5  9.3  22.9  8.0  33.0   \n",
       "\n",
       "   ...  TOV   PF   PTS    FG%    2P%    3P%   eFG%    FT%    TS%  Year  \n",
       "0  ...  1.1  4.2  13.1  0.357  0.500  0.323  0.487  0.923  0.507  2018  \n",
       "1  ...  3.0  4.9  11.7  0.345  0.361  0.338  0.459  0.778  0.474  2018  \n",
       "2  ...  2.4  3.6  19.4  0.595  0.596  0.000  0.595  0.500  0.591  2018  \n",
       "3  ...  3.1  5.2  18.6  0.576  0.588  0.200  0.579  0.735  0.623  2018  \n",
       "4  ...  2.6  3.3  31.4  0.519  0.528  0.238  0.522  0.847  0.576  2018  \n",
       "\n",
       "[5 rows x 39 columns]"
      ]
     },
     "execution_count": 102,
     "metadata": {},
     "output_type": "execute_result"
    }
   ],
   "source": [
    "df.head()"
   ]
  },
  {
   "cell_type": "code",
   "execution_count": 13,
   "metadata": {},
   "outputs": [],
   "source": [
    "df1=df.drop(['Season'], axis=1)"
   ]
  },
  {
   "cell_type": "code",
   "execution_count": 14,
   "metadata": {},
   "outputs": [],
   "source": [
    "df1= df1.apply(pd.to_numeric, errors='ignore')\n"
   ]
  },
  {
   "cell_type": "code",
   "execution_count": 105,
   "metadata": {},
   "outputs": [
    {
     "name": "stdout",
     "output_type": "stream",
     "text": [
      "<class 'pandas.core.frame.DataFrame'>\n",
      "RangeIndex: 6758 entries, 0 to 6757\n",
      "Data columns (total 38 columns):\n",
      "Player    6758 non-null object\n",
      "DRtg      6758 non-null int64\n",
      "ORtg      6758 non-null float64\n",
      "USG%      6758 non-null float64\n",
      "VORP      6758 non-null float64\n",
      "WS        6758 non-null float64\n",
      "PER       6758 non-null float64\n",
      "Rk        6758 non-null float64\n",
      "Age       6758 non-null float64\n",
      "Tm        6758 non-null object\n",
      "Lg        6758 non-null object\n",
      "G         6758 non-null float64\n",
      "GS        6758 non-null float64\n",
      "MP        6758 non-null float64\n",
      "FG        6758 non-null float64\n",
      "FGA       6758 non-null float64\n",
      "2P        6758 non-null float64\n",
      "2PA       6758 non-null float64\n",
      "3P        6758 non-null float64\n",
      "3PA       6758 non-null float64\n",
      "FT        6758 non-null float64\n",
      "FTA       6758 non-null float64\n",
      "ORB       6758 non-null float64\n",
      "DRB       6758 non-null float64\n",
      "TRB       6758 non-null float64\n",
      "AST       6758 non-null float64\n",
      "STL       6758 non-null float64\n",
      "BLK       6758 non-null float64\n",
      "TOV       6758 non-null float64\n",
      "PF        6758 non-null float64\n",
      "PTS       6758 non-null float64\n",
      "FG%       6758 non-null float64\n",
      "2P%       6758 non-null float64\n",
      "3P%       6758 non-null float64\n",
      "eFG%      6758 non-null float64\n",
      "FT%       6758 non-null float64\n",
      "TS%       6758 non-null float64\n",
      "Year      6758 non-null int64\n",
      "dtypes: float64(33), int64(2), object(3)\n",
      "memory usage: 2.0+ MB\n"
     ]
    }
   ],
   "source": [
    "df1.info()"
   ]
  },
  {
   "cell_type": "code",
   "execution_count": null,
   "metadata": {},
   "outputs": [],
   "source": [
    "data[\"Salary\"]= data[\"Salary\"].astype(int)"
   ]
  },
  {
   "cell_type": "code",
   "execution_count": 15,
   "metadata": {},
   "outputs": [],
   "source": [
    "df['Year']= df['Year'].astype(int)"
   ]
  },
  {
   "cell_type": "code",
   "execution_count": 16,
   "metadata": {},
   "outputs": [],
   "source": [
    "dftest2= df.groupby(['Season']).mean()"
   ]
  },
  {
   "cell_type": "markdown",
   "metadata": {},
   "source": [
    "#### Definitley see efficiency, 3pointers attempted and made, defensive rating offensive rating changing overtime\n",
    "#### Lets visualize some of these changes..."
   ]
  },
  {
   "cell_type": "code",
   "execution_count": 116,
   "metadata": {},
   "outputs": [
    {
     "data": {
      "text/html": [
       "<div>\n",
       "<style scoped>\n",
       "    .dataframe tbody tr th:only-of-type {\n",
       "        vertical-align: middle;\n",
       "    }\n",
       "\n",
       "    .dataframe tbody tr th {\n",
       "        vertical-align: top;\n",
       "    }\n",
       "\n",
       "    .dataframe thead th {\n",
       "        text-align: right;\n",
       "    }\n",
       "</style>\n",
       "<table border=\"1\" class=\"dataframe\">\n",
       "  <thead>\n",
       "    <tr style=\"text-align: right;\">\n",
       "      <th></th>\n",
       "      <th>DRtg</th>\n",
       "      <th>ORtg</th>\n",
       "      <th>USG%</th>\n",
       "      <th>VORP</th>\n",
       "      <th>WS</th>\n",
       "      <th>PER</th>\n",
       "      <th>Rk</th>\n",
       "      <th>Age</th>\n",
       "      <th>G</th>\n",
       "      <th>GS</th>\n",
       "      <th>...</th>\n",
       "      <th>TOV</th>\n",
       "      <th>PF</th>\n",
       "      <th>PTS</th>\n",
       "      <th>FG%</th>\n",
       "      <th>2P%</th>\n",
       "      <th>3P%</th>\n",
       "      <th>eFG%</th>\n",
       "      <th>FT%</th>\n",
       "      <th>TS%</th>\n",
       "      <th>Year</th>\n",
       "    </tr>\n",
       "    <tr>\n",
       "      <th>Season</th>\n",
       "      <th></th>\n",
       "      <th></th>\n",
       "      <th></th>\n",
       "      <th></th>\n",
       "      <th></th>\n",
       "      <th></th>\n",
       "      <th></th>\n",
       "      <th></th>\n",
       "      <th></th>\n",
       "      <th></th>\n",
       "      <th></th>\n",
       "      <th></th>\n",
       "      <th></th>\n",
       "      <th></th>\n",
       "      <th></th>\n",
       "      <th></th>\n",
       "      <th></th>\n",
       "      <th></th>\n",
       "      <th></th>\n",
       "      <th></th>\n",
       "      <th></th>\n",
       "    </tr>\n",
       "  </thead>\n",
       "  <tbody>\n",
       "    <tr>\n",
       "      <th>2000-01</th>\n",
       "      <td>103.441791</td>\n",
       "      <td>102.274627</td>\n",
       "      <td>18.783284</td>\n",
       "      <td>0.902985</td>\n",
       "      <td>3.628358</td>\n",
       "      <td>13.775821</td>\n",
       "      <td>8659.143284</td>\n",
       "      <td>27.800000</td>\n",
       "      <td>66.280597</td>\n",
       "      <td>35.188060</td>\n",
       "      <td>...</td>\n",
       "      <td>3.057612</td>\n",
       "      <td>5.217015</td>\n",
       "      <td>19.134627</td>\n",
       "      <td>0.440522</td>\n",
       "      <td>0.455191</td>\n",
       "      <td>0.243042</td>\n",
       "      <td>0.469152</td>\n",
       "      <td>0.738609</td>\n",
       "      <td>0.510176</td>\n",
       "      <td>2000.0</td>\n",
       "    </tr>\n",
       "    <tr>\n",
       "      <th>2001-02</th>\n",
       "      <td>104.972973</td>\n",
       "      <td>103.891892</td>\n",
       "      <td>19.017417</td>\n",
       "      <td>0.901201</td>\n",
       "      <td>3.628829</td>\n",
       "      <td>13.989790</td>\n",
       "      <td>8221.720721</td>\n",
       "      <td>27.531532</td>\n",
       "      <td>66.204204</td>\n",
       "      <td>35.282282</td>\n",
       "      <td>...</td>\n",
       "      <td>2.975676</td>\n",
       "      <td>5.019820</td>\n",
       "      <td>19.676276</td>\n",
       "      <td>0.441874</td>\n",
       "      <td>0.458165</td>\n",
       "      <td>0.250069</td>\n",
       "      <td>0.471589</td>\n",
       "      <td>0.739871</td>\n",
       "      <td>0.512039</td>\n",
       "      <td>2001.0</td>\n",
       "    </tr>\n",
       "    <tr>\n",
       "      <th>2002-03</th>\n",
       "      <td>103.861446</td>\n",
       "      <td>102.674699</td>\n",
       "      <td>18.846084</td>\n",
       "      <td>0.906627</td>\n",
       "      <td>3.662651</td>\n",
       "      <td>13.834940</td>\n",
       "      <td>7780.442771</td>\n",
       "      <td>27.231928</td>\n",
       "      <td>67.301205</td>\n",
       "      <td>35.650602</td>\n",
       "      <td>...</td>\n",
       "      <td>3.048494</td>\n",
       "      <td>5.100000</td>\n",
       "      <td>19.257831</td>\n",
       "      <td>0.439271</td>\n",
       "      <td>0.456533</td>\n",
       "      <td>0.230518</td>\n",
       "      <td>0.467307</td>\n",
       "      <td>0.737720</td>\n",
       "      <td>0.509301</td>\n",
       "      <td>2002.0</td>\n",
       "    </tr>\n",
       "    <tr>\n",
       "      <th>2003-04</th>\n",
       "      <td>103.149560</td>\n",
       "      <td>102.524927</td>\n",
       "      <td>18.986217</td>\n",
       "      <td>0.880352</td>\n",
       "      <td>3.580059</td>\n",
       "      <td>14.031085</td>\n",
       "      <td>7347.035191</td>\n",
       "      <td>27.196481</td>\n",
       "      <td>65.521994</td>\n",
       "      <td>34.715543</td>\n",
       "      <td>...</td>\n",
       "      <td>3.062463</td>\n",
       "      <td>5.133431</td>\n",
       "      <td>19.363636</td>\n",
       "      <td>0.436578</td>\n",
       "      <td>0.453106</td>\n",
       "      <td>0.235323</td>\n",
       "      <td>0.465977</td>\n",
       "      <td>0.739073</td>\n",
       "      <td>0.508106</td>\n",
       "      <td>2003.0</td>\n",
       "    </tr>\n",
       "    <tr>\n",
       "      <th>2004-05</th>\n",
       "      <td>106.318182</td>\n",
       "      <td>105.343750</td>\n",
       "      <td>18.991193</td>\n",
       "      <td>0.886364</td>\n",
       "      <td>3.562216</td>\n",
       "      <td>13.979830</td>\n",
       "      <td>6886.582386</td>\n",
       "      <td>26.917614</td>\n",
       "      <td>65.576705</td>\n",
       "      <td>34.684659</td>\n",
       "      <td>...</td>\n",
       "      <td>2.968466</td>\n",
       "      <td>5.313636</td>\n",
       "      <td>19.947443</td>\n",
       "      <td>0.444455</td>\n",
       "      <td>0.462719</td>\n",
       "      <td>0.247795</td>\n",
       "      <td>0.477622</td>\n",
       "      <td>0.744361</td>\n",
       "      <td>0.520807</td>\n",
       "      <td>2004.0</td>\n",
       "    </tr>\n",
       "    <tr>\n",
       "      <th>2005-06</th>\n",
       "      <td>106.246291</td>\n",
       "      <td>105.044510</td>\n",
       "      <td>18.991988</td>\n",
       "      <td>0.938279</td>\n",
       "      <td>3.722849</td>\n",
       "      <td>13.916024</td>\n",
       "      <td>6429.296736</td>\n",
       "      <td>26.551929</td>\n",
       "      <td>66.531157</td>\n",
       "      <td>36.160237</td>\n",
       "      <td>...</td>\n",
       "      <td>2.989318</td>\n",
       "      <td>5.459644</td>\n",
       "      <td>19.933234</td>\n",
       "      <td>0.452591</td>\n",
       "      <td>0.471733</td>\n",
       "      <td>0.243846</td>\n",
       "      <td>0.484792</td>\n",
       "      <td>0.726861</td>\n",
       "      <td>0.526131</td>\n",
       "      <td>2005.0</td>\n",
       "    </tr>\n",
       "    <tr>\n",
       "      <th>2006-07</th>\n",
       "      <td>106.590643</td>\n",
       "      <td>106.163743</td>\n",
       "      <td>19.087135</td>\n",
       "      <td>0.920175</td>\n",
       "      <td>3.666374</td>\n",
       "      <td>14.214035</td>\n",
       "      <td>5967.543860</td>\n",
       "      <td>26.611111</td>\n",
       "      <td>66.672515</td>\n",
       "      <td>35.602339</td>\n",
       "      <td>...</td>\n",
       "      <td>3.044152</td>\n",
       "      <td>5.093860</td>\n",
       "      <td>20.234503</td>\n",
       "      <td>0.458749</td>\n",
       "      <td>0.480898</td>\n",
       "      <td>0.249731</td>\n",
       "      <td>0.494503</td>\n",
       "      <td>0.739740</td>\n",
       "      <td>0.535246</td>\n",
       "      <td>2006.0</td>\n",
       "    </tr>\n",
       "    <tr>\n",
       "      <th>2007-08</th>\n",
       "      <td>107.699248</td>\n",
       "      <td>102.987469</td>\n",
       "      <td>19.706767</td>\n",
       "      <td>0.749123</td>\n",
       "      <td>3.141604</td>\n",
       "      <td>13.155890</td>\n",
       "      <td>5549.245614</td>\n",
       "      <td>25.929825</td>\n",
       "      <td>65.175439</td>\n",
       "      <td>31.619048</td>\n",
       "      <td>...</td>\n",
       "      <td>3.149875</td>\n",
       "      <td>4.600251</td>\n",
       "      <td>20.059148</td>\n",
       "      <td>0.442073</td>\n",
       "      <td>0.461363</td>\n",
       "      <td>0.276135</td>\n",
       "      <td>0.489055</td>\n",
       "      <td>0.750764</td>\n",
       "      <td>0.525682</td>\n",
       "      <td>2007.0</td>\n",
       "    </tr>\n",
       "    <tr>\n",
       "      <th>2008-09</th>\n",
       "      <td>108.416422</td>\n",
       "      <td>107.571848</td>\n",
       "      <td>18.919355</td>\n",
       "      <td>0.917009</td>\n",
       "      <td>3.680352</td>\n",
       "      <td>13.971848</td>\n",
       "      <td>5065.108504</td>\n",
       "      <td>26.586510</td>\n",
       "      <td>66.671554</td>\n",
       "      <td>35.700880</td>\n",
       "      <td>...</td>\n",
       "      <td>2.829619</td>\n",
       "      <td>4.924633</td>\n",
       "      <td>20.288270</td>\n",
       "      <td>0.456164</td>\n",
       "      <td>0.476868</td>\n",
       "      <td>0.265589</td>\n",
       "      <td>0.495950</td>\n",
       "      <td>0.754783</td>\n",
       "      <td>0.535595</td>\n",
       "      <td>2008.0</td>\n",
       "    </tr>\n",
       "    <tr>\n",
       "      <th>2009-10</th>\n",
       "      <td>107.853026</td>\n",
       "      <td>107.227666</td>\n",
       "      <td>19.083285</td>\n",
       "      <td>0.892507</td>\n",
       "      <td>3.619308</td>\n",
       "      <td>14.098271</td>\n",
       "      <td>4629.270893</td>\n",
       "      <td>26.582133</td>\n",
       "      <td>66.129683</td>\n",
       "      <td>35.219020</td>\n",
       "      <td>...</td>\n",
       "      <td>2.821037</td>\n",
       "      <td>4.804611</td>\n",
       "      <td>20.409798</td>\n",
       "      <td>0.461035</td>\n",
       "      <td>0.487300</td>\n",
       "      <td>0.258233</td>\n",
       "      <td>0.500280</td>\n",
       "      <td>0.744421</td>\n",
       "      <td>0.537380</td>\n",
       "      <td>2009.0</td>\n",
       "    </tr>\n",
       "    <tr>\n",
       "      <th>2010-11</th>\n",
       "      <td>107.469444</td>\n",
       "      <td>106.636111</td>\n",
       "      <td>18.913333</td>\n",
       "      <td>0.858889</td>\n",
       "      <td>3.495556</td>\n",
       "      <td>13.944167</td>\n",
       "      <td>4176.311111</td>\n",
       "      <td>26.591667</td>\n",
       "      <td>65.338889</td>\n",
       "      <td>34.033333</td>\n",
       "      <td>...</td>\n",
       "      <td>2.864167</td>\n",
       "      <td>4.840833</td>\n",
       "      <td>20.107222</td>\n",
       "      <td>0.459275</td>\n",
       "      <td>0.481822</td>\n",
       "      <td>0.250011</td>\n",
       "      <td>0.497625</td>\n",
       "      <td>0.741650</td>\n",
       "      <td>0.534822</td>\n",
       "      <td>2010.0</td>\n",
       "    </tr>\n",
       "    <tr>\n",
       "      <th>2011-12</th>\n",
       "      <td>104.923295</td>\n",
       "      <td>103.846591</td>\n",
       "      <td>19.198011</td>\n",
       "      <td>0.706534</td>\n",
       "      <td>2.820739</td>\n",
       "      <td>14.124148</td>\n",
       "      <td>3718.170455</td>\n",
       "      <td>26.659091</td>\n",
       "      <td>53.053977</td>\n",
       "      <td>27.616477</td>\n",
       "      <td>...</td>\n",
       "      <td>2.990341</td>\n",
       "      <td>4.444602</td>\n",
       "      <td>19.921591</td>\n",
       "      <td>0.444230</td>\n",
       "      <td>0.468582</td>\n",
       "      <td>0.254949</td>\n",
       "      <td>0.484230</td>\n",
       "      <td>0.734548</td>\n",
       "      <td>0.519821</td>\n",
       "      <td>2011.0</td>\n",
       "    </tr>\n",
       "    <tr>\n",
       "      <th>2012-13</th>\n",
       "      <td>106.226519</td>\n",
       "      <td>105.552486</td>\n",
       "      <td>19.021271</td>\n",
       "      <td>0.858840</td>\n",
       "      <td>3.433702</td>\n",
       "      <td>14.109945</td>\n",
       "      <td>3234.870166</td>\n",
       "      <td>26.762431</td>\n",
       "      <td>65.491713</td>\n",
       "      <td>33.574586</td>\n",
       "      <td>...</td>\n",
       "      <td>2.896961</td>\n",
       "      <td>4.536740</td>\n",
       "      <td>20.051657</td>\n",
       "      <td>0.449936</td>\n",
       "      <td>0.475834</td>\n",
       "      <td>0.269561</td>\n",
       "      <td>0.495058</td>\n",
       "      <td>0.735514</td>\n",
       "      <td>0.528732</td>\n",
       "      <td>2012.0</td>\n",
       "    </tr>\n",
       "    <tr>\n",
       "      <th>2013-14</th>\n",
       "      <td>106.903134</td>\n",
       "      <td>106.350427</td>\n",
       "      <td>19.107407</td>\n",
       "      <td>0.894587</td>\n",
       "      <td>3.534473</td>\n",
       "      <td>14.278063</td>\n",
       "      <td>2761.834758</td>\n",
       "      <td>26.584046</td>\n",
       "      <td>65.960114</td>\n",
       "      <td>34.680912</td>\n",
       "      <td>...</td>\n",
       "      <td>2.898291</td>\n",
       "      <td>4.640741</td>\n",
       "      <td>20.276353</td>\n",
       "      <td>0.455114</td>\n",
       "      <td>0.482721</td>\n",
       "      <td>0.266818</td>\n",
       "      <td>0.500952</td>\n",
       "      <td>0.742670</td>\n",
       "      <td>0.535977</td>\n",
       "      <td>2013.0</td>\n",
       "    </tr>\n",
       "    <tr>\n",
       "      <th>2014-15</th>\n",
       "      <td>105.952507</td>\n",
       "      <td>105.432718</td>\n",
       "      <td>19.261741</td>\n",
       "      <td>0.817150</td>\n",
       "      <td>3.280211</td>\n",
       "      <td>14.296834</td>\n",
       "      <td>2276.274406</td>\n",
       "      <td>26.778364</td>\n",
       "      <td>63.345646</td>\n",
       "      <td>32.234828</td>\n",
       "      <td>...</td>\n",
       "      <td>2.821372</td>\n",
       "      <td>4.491029</td>\n",
       "      <td>20.267810</td>\n",
       "      <td>0.447354</td>\n",
       "      <td>0.479562</td>\n",
       "      <td>0.275741</td>\n",
       "      <td>0.494697</td>\n",
       "      <td>0.741937</td>\n",
       "      <td>0.528887</td>\n",
       "      <td>2014.0</td>\n",
       "    </tr>\n",
       "    <tr>\n",
       "      <th>2015-16</th>\n",
       "      <td>106.621622</td>\n",
       "      <td>106.227027</td>\n",
       "      <td>19.150811</td>\n",
       "      <td>0.832162</td>\n",
       "      <td>3.344054</td>\n",
       "      <td>14.290541</td>\n",
       "      <td>1795.108108</td>\n",
       "      <td>26.905405</td>\n",
       "      <td>65.372973</td>\n",
       "      <td>32.935135</td>\n",
       "      <td>...</td>\n",
       "      <td>2.787297</td>\n",
       "      <td>4.422703</td>\n",
       "      <td>20.301351</td>\n",
       "      <td>0.452922</td>\n",
       "      <td>0.487268</td>\n",
       "      <td>0.290727</td>\n",
       "      <td>0.502019</td>\n",
       "      <td>0.751792</td>\n",
       "      <td>0.536608</td>\n",
       "      <td>2015.0</td>\n",
       "    </tr>\n",
       "    <tr>\n",
       "      <th>2016-17</th>\n",
       "      <td>108.911290</td>\n",
       "      <td>108.341398</td>\n",
       "      <td>19.021505</td>\n",
       "      <td>0.830914</td>\n",
       "      <td>3.328226</td>\n",
       "      <td>14.201075</td>\n",
       "      <td>1307.029570</td>\n",
       "      <td>26.588710</td>\n",
       "      <td>65.102151</td>\n",
       "      <td>32.865591</td>\n",
       "      <td>...</td>\n",
       "      <td>2.674462</td>\n",
       "      <td>4.341667</td>\n",
       "      <td>20.572312</td>\n",
       "      <td>0.456739</td>\n",
       "      <td>0.495917</td>\n",
       "      <td>0.299086</td>\n",
       "      <td>0.511903</td>\n",
       "      <td>0.752863</td>\n",
       "      <td>0.545570</td>\n",
       "      <td>2016.0</td>\n",
       "    </tr>\n",
       "    <tr>\n",
       "      <th>2017-18</th>\n",
       "      <td>108.846774</td>\n",
       "      <td>108.717742</td>\n",
       "      <td>19.109946</td>\n",
       "      <td>0.833871</td>\n",
       "      <td>3.303495</td>\n",
       "      <td>14.375269</td>\n",
       "      <td>791.677419</td>\n",
       "      <td>26.400538</td>\n",
       "      <td>64.233871</td>\n",
       "      <td>32.583333</td>\n",
       "      <td>...</td>\n",
       "      <td>2.712097</td>\n",
       "      <td>4.236828</td>\n",
       "      <td>20.709409</td>\n",
       "      <td>0.461820</td>\n",
       "      <td>0.505933</td>\n",
       "      <td>0.312355</td>\n",
       "      <td>0.521164</td>\n",
       "      <td>0.757562</td>\n",
       "      <td>0.552495</td>\n",
       "      <td>2017.0</td>\n",
       "    </tr>\n",
       "    <tr>\n",
       "      <th>2018-19</th>\n",
       "      <td>110.748031</td>\n",
       "      <td>110.272966</td>\n",
       "      <td>19.030184</td>\n",
       "      <td>0.810236</td>\n",
       "      <td>3.211286</td>\n",
       "      <td>14.207087</td>\n",
       "      <td>255.503937</td>\n",
       "      <td>26.225722</td>\n",
       "      <td>62.803150</td>\n",
       "      <td>32.028871</td>\n",
       "      <td>...</td>\n",
       "      <td>2.591076</td>\n",
       "      <td>4.345932</td>\n",
       "      <td>20.893176</td>\n",
       "      <td>0.458415</td>\n",
       "      <td>0.514045</td>\n",
       "      <td>0.312840</td>\n",
       "      <td>0.522262</td>\n",
       "      <td>0.754100</td>\n",
       "      <td>0.553696</td>\n",
       "      <td>2018.0</td>\n",
       "    </tr>\n",
       "  </tbody>\n",
       "</table>\n",
       "<p>19 rows × 35 columns</p>\n",
       "</div>"
      ],
      "text/plain": [
       "               DRtg        ORtg       USG%      VORP        WS        PER  \\\n",
       "Season                                                                      \n",
       "2000-01  103.441791  102.274627  18.783284  0.902985  3.628358  13.775821   \n",
       "2001-02  104.972973  103.891892  19.017417  0.901201  3.628829  13.989790   \n",
       "2002-03  103.861446  102.674699  18.846084  0.906627  3.662651  13.834940   \n",
       "2003-04  103.149560  102.524927  18.986217  0.880352  3.580059  14.031085   \n",
       "2004-05  106.318182  105.343750  18.991193  0.886364  3.562216  13.979830   \n",
       "2005-06  106.246291  105.044510  18.991988  0.938279  3.722849  13.916024   \n",
       "2006-07  106.590643  106.163743  19.087135  0.920175  3.666374  14.214035   \n",
       "2007-08  107.699248  102.987469  19.706767  0.749123  3.141604  13.155890   \n",
       "2008-09  108.416422  107.571848  18.919355  0.917009  3.680352  13.971848   \n",
       "2009-10  107.853026  107.227666  19.083285  0.892507  3.619308  14.098271   \n",
       "2010-11  107.469444  106.636111  18.913333  0.858889  3.495556  13.944167   \n",
       "2011-12  104.923295  103.846591  19.198011  0.706534  2.820739  14.124148   \n",
       "2012-13  106.226519  105.552486  19.021271  0.858840  3.433702  14.109945   \n",
       "2013-14  106.903134  106.350427  19.107407  0.894587  3.534473  14.278063   \n",
       "2014-15  105.952507  105.432718  19.261741  0.817150  3.280211  14.296834   \n",
       "2015-16  106.621622  106.227027  19.150811  0.832162  3.344054  14.290541   \n",
       "2016-17  108.911290  108.341398  19.021505  0.830914  3.328226  14.201075   \n",
       "2017-18  108.846774  108.717742  19.109946  0.833871  3.303495  14.375269   \n",
       "2018-19  110.748031  110.272966  19.030184  0.810236  3.211286  14.207087   \n",
       "\n",
       "                  Rk        Age          G         GS  ...       TOV  \\\n",
       "Season                                                 ...             \n",
       "2000-01  8659.143284  27.800000  66.280597  35.188060  ...  3.057612   \n",
       "2001-02  8221.720721  27.531532  66.204204  35.282282  ...  2.975676   \n",
       "2002-03  7780.442771  27.231928  67.301205  35.650602  ...  3.048494   \n",
       "2003-04  7347.035191  27.196481  65.521994  34.715543  ...  3.062463   \n",
       "2004-05  6886.582386  26.917614  65.576705  34.684659  ...  2.968466   \n",
       "2005-06  6429.296736  26.551929  66.531157  36.160237  ...  2.989318   \n",
       "2006-07  5967.543860  26.611111  66.672515  35.602339  ...  3.044152   \n",
       "2007-08  5549.245614  25.929825  65.175439  31.619048  ...  3.149875   \n",
       "2008-09  5065.108504  26.586510  66.671554  35.700880  ...  2.829619   \n",
       "2009-10  4629.270893  26.582133  66.129683  35.219020  ...  2.821037   \n",
       "2010-11  4176.311111  26.591667  65.338889  34.033333  ...  2.864167   \n",
       "2011-12  3718.170455  26.659091  53.053977  27.616477  ...  2.990341   \n",
       "2012-13  3234.870166  26.762431  65.491713  33.574586  ...  2.896961   \n",
       "2013-14  2761.834758  26.584046  65.960114  34.680912  ...  2.898291   \n",
       "2014-15  2276.274406  26.778364  63.345646  32.234828  ...  2.821372   \n",
       "2015-16  1795.108108  26.905405  65.372973  32.935135  ...  2.787297   \n",
       "2016-17  1307.029570  26.588710  65.102151  32.865591  ...  2.674462   \n",
       "2017-18   791.677419  26.400538  64.233871  32.583333  ...  2.712097   \n",
       "2018-19   255.503937  26.225722  62.803150  32.028871  ...  2.591076   \n",
       "\n",
       "               PF        PTS       FG%       2P%       3P%      eFG%  \\\n",
       "Season                                                                 \n",
       "2000-01  5.217015  19.134627  0.440522  0.455191  0.243042  0.469152   \n",
       "2001-02  5.019820  19.676276  0.441874  0.458165  0.250069  0.471589   \n",
       "2002-03  5.100000  19.257831  0.439271  0.456533  0.230518  0.467307   \n",
       "2003-04  5.133431  19.363636  0.436578  0.453106  0.235323  0.465977   \n",
       "2004-05  5.313636  19.947443  0.444455  0.462719  0.247795  0.477622   \n",
       "2005-06  5.459644  19.933234  0.452591  0.471733  0.243846  0.484792   \n",
       "2006-07  5.093860  20.234503  0.458749  0.480898  0.249731  0.494503   \n",
       "2007-08  4.600251  20.059148  0.442073  0.461363  0.276135  0.489055   \n",
       "2008-09  4.924633  20.288270  0.456164  0.476868  0.265589  0.495950   \n",
       "2009-10  4.804611  20.409798  0.461035  0.487300  0.258233  0.500280   \n",
       "2010-11  4.840833  20.107222  0.459275  0.481822  0.250011  0.497625   \n",
       "2011-12  4.444602  19.921591  0.444230  0.468582  0.254949  0.484230   \n",
       "2012-13  4.536740  20.051657  0.449936  0.475834  0.269561  0.495058   \n",
       "2013-14  4.640741  20.276353  0.455114  0.482721  0.266818  0.500952   \n",
       "2014-15  4.491029  20.267810  0.447354  0.479562  0.275741  0.494697   \n",
       "2015-16  4.422703  20.301351  0.452922  0.487268  0.290727  0.502019   \n",
       "2016-17  4.341667  20.572312  0.456739  0.495917  0.299086  0.511903   \n",
       "2017-18  4.236828  20.709409  0.461820  0.505933  0.312355  0.521164   \n",
       "2018-19  4.345932  20.893176  0.458415  0.514045  0.312840  0.522262   \n",
       "\n",
       "              FT%       TS%    Year  \n",
       "Season                               \n",
       "2000-01  0.738609  0.510176  2000.0  \n",
       "2001-02  0.739871  0.512039  2001.0  \n",
       "2002-03  0.737720  0.509301  2002.0  \n",
       "2003-04  0.739073  0.508106  2003.0  \n",
       "2004-05  0.744361  0.520807  2004.0  \n",
       "2005-06  0.726861  0.526131  2005.0  \n",
       "2006-07  0.739740  0.535246  2006.0  \n",
       "2007-08  0.750764  0.525682  2007.0  \n",
       "2008-09  0.754783  0.535595  2008.0  \n",
       "2009-10  0.744421  0.537380  2009.0  \n",
       "2010-11  0.741650  0.534822  2010.0  \n",
       "2011-12  0.734548  0.519821  2011.0  \n",
       "2012-13  0.735514  0.528732  2012.0  \n",
       "2013-14  0.742670  0.535977  2013.0  \n",
       "2014-15  0.741937  0.528887  2014.0  \n",
       "2015-16  0.751792  0.536608  2015.0  \n",
       "2016-17  0.752863  0.545570  2016.0  \n",
       "2017-18  0.757562  0.552495  2017.0  \n",
       "2018-19  0.754100  0.553696  2018.0  \n",
       "\n",
       "[19 rows x 35 columns]"
      ]
     },
     "execution_count": 116,
     "metadata": {},
     "output_type": "execute_result"
    }
   ],
   "source": [
    "dftest2.head(19)"
   ]
  },
  {
   "cell_type": "code",
   "execution_count": 113,
   "metadata": {},
   "outputs": [
    {
     "data": {
      "text/plain": [
       "Index(['DRtg', 'ORtg', 'USG%', 'VORP', 'WS', 'PER', 'Rk', 'Age', 'G', 'GS',\n",
       "       'MP', 'FG', 'FGA', '2P', '2PA', '3P', '3PA', 'FT', 'FTA', 'ORB', 'DRB',\n",
       "       'TRB', 'AST', 'STL', 'BLK', 'TOV', 'PF', 'PTS', 'FG%', '2P%', '3P%',\n",
       "       'eFG%', 'FT%', 'TS%', 'Year'],\n",
       "      dtype='object')"
      ]
     },
     "execution_count": 113,
     "metadata": {},
     "output_type": "execute_result"
    }
   ],
   "source": [
    "dftest2.columns"
   ]
  },
  {
   "cell_type": "markdown",
   "metadata": {},
   "source": [
    "#### Checkpoint"
   ]
  },
  {
   "cell_type": "code",
   "execution_count": 19,
   "metadata": {},
   "outputs": [],
   "source": [
    "import plotly.express as px"
   ]
  },
  {
   "cell_type": "code",
   "execution_count": 157,
   "metadata": {},
   "outputs": [
    {
     "data": {
      "application/vnd.plotly.v1+json": {
       "config": {
        "plotlyServerURL": "https://plot.ly"
       },
       "data": [
        {
         "hoverlabel": {
          "namelength": 0
         },
         "hovertemplate": "Year=%{x}<br>3P%=%{y}",
         "legendgroup": "",
         "line": {
          "color": "#636efa",
          "dash": "solid"
         },
         "mode": "lines",
         "name": "",
         "showlegend": false,
         "type": "scatter",
         "x": [
          2000,
          2001,
          2002,
          2003,
          2004,
          2005,
          2006,
          2007,
          2008,
          2009,
          2010,
          2011,
          2012,
          2013,
          2014,
          2015,
          2016,
          2017,
          2018
         ],
         "xaxis": "x",
         "y": [
          0.24304179104477616,
          0.2500690690690691,
          0.23051807228915666,
          0.23532258064516148,
          0.2477954545454545,
          0.24384569732937691,
          0.24973099415204703,
          0.2761353383458639,
          0.2655894428152494,
          0.25823342939481253,
          0.25001111111111124,
          0.2549488636363636,
          0.2695607734806628,
          0.2668176638176637,
          0.2757414248021108,
          0.290727027027027,
          0.2990860215053766,
          0.3123548387096772,
          0.31283989501312304
         ],
         "yaxis": "y"
        }
       ],
       "layout": {
        "height": 600,
        "legend": {
         "tracegroupgap": 0
        },
        "margin": {
         "t": 60
        },
        "template": {
         "data": {
          "bar": [
           {
            "error_x": {
             "color": "#2a3f5f"
            },
            "error_y": {
             "color": "#2a3f5f"
            },
            "marker": {
             "line": {
              "color": "#E5ECF6",
              "width": 0.5
             }
            },
            "type": "bar"
           }
          ],
          "barpolar": [
           {
            "marker": {
             "line": {
              "color": "#E5ECF6",
              "width": 0.5
             }
            },
            "type": "barpolar"
           }
          ],
          "carpet": [
           {
            "aaxis": {
             "endlinecolor": "#2a3f5f",
             "gridcolor": "white",
             "linecolor": "white",
             "minorgridcolor": "white",
             "startlinecolor": "#2a3f5f"
            },
            "baxis": {
             "endlinecolor": "#2a3f5f",
             "gridcolor": "white",
             "linecolor": "white",
             "minorgridcolor": "white",
             "startlinecolor": "#2a3f5f"
            },
            "type": "carpet"
           }
          ],
          "choropleth": [
           {
            "colorbar": {
             "outlinewidth": 0,
             "ticks": ""
            },
            "type": "choropleth"
           }
          ],
          "contour": [
           {
            "colorbar": {
             "outlinewidth": 0,
             "ticks": ""
            },
            "colorscale": [
             [
              0,
              "#0d0887"
             ],
             [
              0.1111111111111111,
              "#46039f"
             ],
             [
              0.2222222222222222,
              "#7201a8"
             ],
             [
              0.3333333333333333,
              "#9c179e"
             ],
             [
              0.4444444444444444,
              "#bd3786"
             ],
             [
              0.5555555555555556,
              "#d8576b"
             ],
             [
              0.6666666666666666,
              "#ed7953"
             ],
             [
              0.7777777777777778,
              "#fb9f3a"
             ],
             [
              0.8888888888888888,
              "#fdca26"
             ],
             [
              1,
              "#f0f921"
             ]
            ],
            "type": "contour"
           }
          ],
          "contourcarpet": [
           {
            "colorbar": {
             "outlinewidth": 0,
             "ticks": ""
            },
            "type": "contourcarpet"
           }
          ],
          "heatmap": [
           {
            "colorbar": {
             "outlinewidth": 0,
             "ticks": ""
            },
            "colorscale": [
             [
              0,
              "#0d0887"
             ],
             [
              0.1111111111111111,
              "#46039f"
             ],
             [
              0.2222222222222222,
              "#7201a8"
             ],
             [
              0.3333333333333333,
              "#9c179e"
             ],
             [
              0.4444444444444444,
              "#bd3786"
             ],
             [
              0.5555555555555556,
              "#d8576b"
             ],
             [
              0.6666666666666666,
              "#ed7953"
             ],
             [
              0.7777777777777778,
              "#fb9f3a"
             ],
             [
              0.8888888888888888,
              "#fdca26"
             ],
             [
              1,
              "#f0f921"
             ]
            ],
            "type": "heatmap"
           }
          ],
          "heatmapgl": [
           {
            "colorbar": {
             "outlinewidth": 0,
             "ticks": ""
            },
            "colorscale": [
             [
              0,
              "#0d0887"
             ],
             [
              0.1111111111111111,
              "#46039f"
             ],
             [
              0.2222222222222222,
              "#7201a8"
             ],
             [
              0.3333333333333333,
              "#9c179e"
             ],
             [
              0.4444444444444444,
              "#bd3786"
             ],
             [
              0.5555555555555556,
              "#d8576b"
             ],
             [
              0.6666666666666666,
              "#ed7953"
             ],
             [
              0.7777777777777778,
              "#fb9f3a"
             ],
             [
              0.8888888888888888,
              "#fdca26"
             ],
             [
              1,
              "#f0f921"
             ]
            ],
            "type": "heatmapgl"
           }
          ],
          "histogram": [
           {
            "marker": {
             "colorbar": {
              "outlinewidth": 0,
              "ticks": ""
             }
            },
            "type": "histogram"
           }
          ],
          "histogram2d": [
           {
            "colorbar": {
             "outlinewidth": 0,
             "ticks": ""
            },
            "colorscale": [
             [
              0,
              "#0d0887"
             ],
             [
              0.1111111111111111,
              "#46039f"
             ],
             [
              0.2222222222222222,
              "#7201a8"
             ],
             [
              0.3333333333333333,
              "#9c179e"
             ],
             [
              0.4444444444444444,
              "#bd3786"
             ],
             [
              0.5555555555555556,
              "#d8576b"
             ],
             [
              0.6666666666666666,
              "#ed7953"
             ],
             [
              0.7777777777777778,
              "#fb9f3a"
             ],
             [
              0.8888888888888888,
              "#fdca26"
             ],
             [
              1,
              "#f0f921"
             ]
            ],
            "type": "histogram2d"
           }
          ],
          "histogram2dcontour": [
           {
            "colorbar": {
             "outlinewidth": 0,
             "ticks": ""
            },
            "colorscale": [
             [
              0,
              "#0d0887"
             ],
             [
              0.1111111111111111,
              "#46039f"
             ],
             [
              0.2222222222222222,
              "#7201a8"
             ],
             [
              0.3333333333333333,
              "#9c179e"
             ],
             [
              0.4444444444444444,
              "#bd3786"
             ],
             [
              0.5555555555555556,
              "#d8576b"
             ],
             [
              0.6666666666666666,
              "#ed7953"
             ],
             [
              0.7777777777777778,
              "#fb9f3a"
             ],
             [
              0.8888888888888888,
              "#fdca26"
             ],
             [
              1,
              "#f0f921"
             ]
            ],
            "type": "histogram2dcontour"
           }
          ],
          "mesh3d": [
           {
            "colorbar": {
             "outlinewidth": 0,
             "ticks": ""
            },
            "type": "mesh3d"
           }
          ],
          "parcoords": [
           {
            "line": {
             "colorbar": {
              "outlinewidth": 0,
              "ticks": ""
             }
            },
            "type": "parcoords"
           }
          ],
          "scatter": [
           {
            "marker": {
             "colorbar": {
              "outlinewidth": 0,
              "ticks": ""
             }
            },
            "type": "scatter"
           }
          ],
          "scatter3d": [
           {
            "line": {
             "colorbar": {
              "outlinewidth": 0,
              "ticks": ""
             }
            },
            "marker": {
             "colorbar": {
              "outlinewidth": 0,
              "ticks": ""
             }
            },
            "type": "scatter3d"
           }
          ],
          "scattercarpet": [
           {
            "marker": {
             "colorbar": {
              "outlinewidth": 0,
              "ticks": ""
             }
            },
            "type": "scattercarpet"
           }
          ],
          "scattergeo": [
           {
            "marker": {
             "colorbar": {
              "outlinewidth": 0,
              "ticks": ""
             }
            },
            "type": "scattergeo"
           }
          ],
          "scattergl": [
           {
            "marker": {
             "colorbar": {
              "outlinewidth": 0,
              "ticks": ""
             }
            },
            "type": "scattergl"
           }
          ],
          "scattermapbox": [
           {
            "marker": {
             "colorbar": {
              "outlinewidth": 0,
              "ticks": ""
             }
            },
            "type": "scattermapbox"
           }
          ],
          "scatterpolar": [
           {
            "marker": {
             "colorbar": {
              "outlinewidth": 0,
              "ticks": ""
             }
            },
            "type": "scatterpolar"
           }
          ],
          "scatterpolargl": [
           {
            "marker": {
             "colorbar": {
              "outlinewidth": 0,
              "ticks": ""
             }
            },
            "type": "scatterpolargl"
           }
          ],
          "scatterternary": [
           {
            "marker": {
             "colorbar": {
              "outlinewidth": 0,
              "ticks": ""
             }
            },
            "type": "scatterternary"
           }
          ],
          "surface": [
           {
            "colorbar": {
             "outlinewidth": 0,
             "ticks": ""
            },
            "colorscale": [
             [
              0,
              "#0d0887"
             ],
             [
              0.1111111111111111,
              "#46039f"
             ],
             [
              0.2222222222222222,
              "#7201a8"
             ],
             [
              0.3333333333333333,
              "#9c179e"
             ],
             [
              0.4444444444444444,
              "#bd3786"
             ],
             [
              0.5555555555555556,
              "#d8576b"
             ],
             [
              0.6666666666666666,
              "#ed7953"
             ],
             [
              0.7777777777777778,
              "#fb9f3a"
             ],
             [
              0.8888888888888888,
              "#fdca26"
             ],
             [
              1,
              "#f0f921"
             ]
            ],
            "type": "surface"
           }
          ],
          "table": [
           {
            "cells": {
             "fill": {
              "color": "#EBF0F8"
             },
             "line": {
              "color": "white"
             }
            },
            "header": {
             "fill": {
              "color": "#C8D4E3"
             },
             "line": {
              "color": "white"
             }
            },
            "type": "table"
           }
          ]
         },
         "layout": {
          "annotationdefaults": {
           "arrowcolor": "#2a3f5f",
           "arrowhead": 0,
           "arrowwidth": 1
          },
          "colorscale": {
           "diverging": [
            [
             0,
             "#8e0152"
            ],
            [
             0.1,
             "#c51b7d"
            ],
            [
             0.2,
             "#de77ae"
            ],
            [
             0.3,
             "#f1b6da"
            ],
            [
             0.4,
             "#fde0ef"
            ],
            [
             0.5,
             "#f7f7f7"
            ],
            [
             0.6,
             "#e6f5d0"
            ],
            [
             0.7,
             "#b8e186"
            ],
            [
             0.8,
             "#7fbc41"
            ],
            [
             0.9,
             "#4d9221"
            ],
            [
             1,
             "#276419"
            ]
           ],
           "sequential": [
            [
             0,
             "#0d0887"
            ],
            [
             0.1111111111111111,
             "#46039f"
            ],
            [
             0.2222222222222222,
             "#7201a8"
            ],
            [
             0.3333333333333333,
             "#9c179e"
            ],
            [
             0.4444444444444444,
             "#bd3786"
            ],
            [
             0.5555555555555556,
             "#d8576b"
            ],
            [
             0.6666666666666666,
             "#ed7953"
            ],
            [
             0.7777777777777778,
             "#fb9f3a"
            ],
            [
             0.8888888888888888,
             "#fdca26"
            ],
            [
             1,
             "#f0f921"
            ]
           ],
           "sequentialminus": [
            [
             0,
             "#0d0887"
            ],
            [
             0.1111111111111111,
             "#46039f"
            ],
            [
             0.2222222222222222,
             "#7201a8"
            ],
            [
             0.3333333333333333,
             "#9c179e"
            ],
            [
             0.4444444444444444,
             "#bd3786"
            ],
            [
             0.5555555555555556,
             "#d8576b"
            ],
            [
             0.6666666666666666,
             "#ed7953"
            ],
            [
             0.7777777777777778,
             "#fb9f3a"
            ],
            [
             0.8888888888888888,
             "#fdca26"
            ],
            [
             1,
             "#f0f921"
            ]
           ]
          },
          "colorway": [
           "#636efa",
           "#EF553B",
           "#00cc96",
           "#ab63fa",
           "#FFA15A",
           "#19d3f3",
           "#FF6692",
           "#B6E880",
           "#FF97FF",
           "#FECB52"
          ],
          "font": {
           "color": "#2a3f5f"
          },
          "geo": {
           "bgcolor": "white",
           "lakecolor": "white",
           "landcolor": "#E5ECF6",
           "showlakes": true,
           "showland": true,
           "subunitcolor": "white"
          },
          "hoverlabel": {
           "align": "left"
          },
          "hovermode": "closest",
          "mapbox": {
           "style": "light"
          },
          "paper_bgcolor": "white",
          "plot_bgcolor": "#E5ECF6",
          "polar": {
           "angularaxis": {
            "gridcolor": "white",
            "linecolor": "white",
            "ticks": ""
           },
           "bgcolor": "#E5ECF6",
           "radialaxis": {
            "gridcolor": "white",
            "linecolor": "white",
            "ticks": ""
           }
          },
          "scene": {
           "xaxis": {
            "backgroundcolor": "#E5ECF6",
            "gridcolor": "white",
            "gridwidth": 2,
            "linecolor": "white",
            "showbackground": true,
            "ticks": "",
            "zerolinecolor": "white"
           },
           "yaxis": {
            "backgroundcolor": "#E5ECF6",
            "gridcolor": "white",
            "gridwidth": 2,
            "linecolor": "white",
            "showbackground": true,
            "ticks": "",
            "zerolinecolor": "white"
           },
           "zaxis": {
            "backgroundcolor": "#E5ECF6",
            "gridcolor": "white",
            "gridwidth": 2,
            "linecolor": "white",
            "showbackground": true,
            "ticks": "",
            "zerolinecolor": "white"
           }
          },
          "shapedefaults": {
           "line": {
            "color": "#2a3f5f"
           }
          },
          "ternary": {
           "aaxis": {
            "gridcolor": "white",
            "linecolor": "white",
            "ticks": ""
           },
           "baxis": {
            "gridcolor": "white",
            "linecolor": "white",
            "ticks": ""
           },
           "bgcolor": "#E5ECF6",
           "caxis": {
            "gridcolor": "white",
            "linecolor": "white",
            "ticks": ""
           }
          },
          "title": {
           "x": 0.05
          },
          "xaxis": {
           "automargin": true,
           "gridcolor": "white",
           "linecolor": "white",
           "ticks": "",
           "zerolinecolor": "white",
           "zerolinewidth": 2
          },
          "yaxis": {
           "automargin": true,
           "gridcolor": "white",
           "linecolor": "white",
           "ticks": "",
           "zerolinecolor": "white",
           "zerolinewidth": 2
          }
         }
        },
        "xaxis": {
         "anchor": "y",
         "domain": [
          0,
          0.98
         ],
         "title": {
          "text": "Year"
         }
        },
        "yaxis": {
         "anchor": "x",
         "domain": [
          0,
          1
         ],
         "title": {
          "text": "3P%"
         }
        }
       }
      },
      "text/html": [
       "<div>\n",
       "        \n",
       "        \n",
       "            <div id=\"b7c4a47f-3adb-4faf-ac5e-7e32388f4eb8\" class=\"plotly-graph-div\" style=\"height:600px; width:100%;\"></div>\n",
       "            <script type=\"text/javascript\">\n",
       "                require([\"plotly\"], function(Plotly) {\n",
       "                    window.PLOTLYENV=window.PLOTLYENV || {};\n",
       "                    \n",
       "                if (document.getElementById(\"b7c4a47f-3adb-4faf-ac5e-7e32388f4eb8\")) {\n",
       "                    Plotly.newPlot(\n",
       "                        'b7c4a47f-3adb-4faf-ac5e-7e32388f4eb8',\n",
       "                        [{\"hoverlabel\": {\"namelength\": 0}, \"hovertemplate\": \"Year=%{x}<br>3P%=%{y}\", \"legendgroup\": \"\", \"line\": {\"color\": \"#636efa\", \"dash\": \"solid\"}, \"mode\": \"lines\", \"name\": \"\", \"showlegend\": false, \"type\": \"scatter\", \"x\": [2000.0, 2001.0, 2002.0, 2003.0, 2004.0, 2005.0, 2006.0, 2007.0, 2008.0, 2009.0, 2010.0, 2011.0, 2012.0, 2013.0, 2014.0, 2015.0, 2016.0, 2017.0, 2018.0], \"xaxis\": \"x\", \"y\": [0.24304179104477616, 0.2500690690690691, 0.23051807228915666, 0.23532258064516148, 0.2477954545454545, 0.24384569732937691, 0.24973099415204703, 0.2761353383458639, 0.2655894428152494, 0.25823342939481253, 0.25001111111111124, 0.2549488636363636, 0.2695607734806628, 0.2668176638176637, 0.2757414248021108, 0.290727027027027, 0.2990860215053766, 0.3123548387096772, 0.31283989501312304], \"yaxis\": \"y\"}],\n",
       "                        {\"height\": 600, \"legend\": {\"tracegroupgap\": 0}, \"margin\": {\"t\": 60}, \"template\": {\"data\": {\"bar\": [{\"error_x\": {\"color\": \"#2a3f5f\"}, \"error_y\": {\"color\": \"#2a3f5f\"}, \"marker\": {\"line\": {\"color\": \"#E5ECF6\", \"width\": 0.5}}, \"type\": \"bar\"}], \"barpolar\": [{\"marker\": {\"line\": {\"color\": \"#E5ECF6\", \"width\": 0.5}}, \"type\": \"barpolar\"}], \"carpet\": [{\"aaxis\": {\"endlinecolor\": \"#2a3f5f\", \"gridcolor\": \"white\", \"linecolor\": \"white\", \"minorgridcolor\": \"white\", \"startlinecolor\": \"#2a3f5f\"}, \"baxis\": {\"endlinecolor\": \"#2a3f5f\", \"gridcolor\": \"white\", \"linecolor\": \"white\", \"minorgridcolor\": \"white\", \"startlinecolor\": \"#2a3f5f\"}, \"type\": \"carpet\"}], \"choropleth\": [{\"colorbar\": {\"outlinewidth\": 0, \"ticks\": \"\"}, \"type\": \"choropleth\"}], \"contour\": [{\"colorbar\": {\"outlinewidth\": 0, \"ticks\": \"\"}, \"colorscale\": [[0.0, \"#0d0887\"], [0.1111111111111111, \"#46039f\"], [0.2222222222222222, \"#7201a8\"], [0.3333333333333333, \"#9c179e\"], [0.4444444444444444, \"#bd3786\"], [0.5555555555555556, \"#d8576b\"], [0.6666666666666666, \"#ed7953\"], [0.7777777777777778, \"#fb9f3a\"], [0.8888888888888888, \"#fdca26\"], [1.0, \"#f0f921\"]], \"type\": \"contour\"}], \"contourcarpet\": [{\"colorbar\": {\"outlinewidth\": 0, \"ticks\": \"\"}, \"type\": \"contourcarpet\"}], \"heatmap\": [{\"colorbar\": {\"outlinewidth\": 0, \"ticks\": \"\"}, \"colorscale\": [[0.0, \"#0d0887\"], [0.1111111111111111, \"#46039f\"], [0.2222222222222222, \"#7201a8\"], [0.3333333333333333, \"#9c179e\"], [0.4444444444444444, \"#bd3786\"], [0.5555555555555556, \"#d8576b\"], [0.6666666666666666, \"#ed7953\"], [0.7777777777777778, \"#fb9f3a\"], [0.8888888888888888, \"#fdca26\"], [1.0, \"#f0f921\"]], \"type\": \"heatmap\"}], \"heatmapgl\": [{\"colorbar\": {\"outlinewidth\": 0, \"ticks\": \"\"}, \"colorscale\": [[0.0, \"#0d0887\"], [0.1111111111111111, \"#46039f\"], [0.2222222222222222, \"#7201a8\"], [0.3333333333333333, \"#9c179e\"], [0.4444444444444444, \"#bd3786\"], [0.5555555555555556, \"#d8576b\"], [0.6666666666666666, \"#ed7953\"], [0.7777777777777778, \"#fb9f3a\"], [0.8888888888888888, \"#fdca26\"], [1.0, \"#f0f921\"]], \"type\": \"heatmapgl\"}], \"histogram\": [{\"marker\": {\"colorbar\": {\"outlinewidth\": 0, \"ticks\": \"\"}}, \"type\": \"histogram\"}], \"histogram2d\": [{\"colorbar\": {\"outlinewidth\": 0, \"ticks\": \"\"}, \"colorscale\": [[0.0, \"#0d0887\"], [0.1111111111111111, \"#46039f\"], [0.2222222222222222, \"#7201a8\"], [0.3333333333333333, \"#9c179e\"], [0.4444444444444444, \"#bd3786\"], [0.5555555555555556, \"#d8576b\"], [0.6666666666666666, \"#ed7953\"], [0.7777777777777778, \"#fb9f3a\"], [0.8888888888888888, \"#fdca26\"], [1.0, \"#f0f921\"]], \"type\": \"histogram2d\"}], \"histogram2dcontour\": [{\"colorbar\": {\"outlinewidth\": 0, \"ticks\": \"\"}, \"colorscale\": [[0.0, \"#0d0887\"], [0.1111111111111111, \"#46039f\"], [0.2222222222222222, \"#7201a8\"], [0.3333333333333333, \"#9c179e\"], [0.4444444444444444, \"#bd3786\"], [0.5555555555555556, \"#d8576b\"], [0.6666666666666666, \"#ed7953\"], [0.7777777777777778, \"#fb9f3a\"], [0.8888888888888888, \"#fdca26\"], [1.0, \"#f0f921\"]], \"type\": \"histogram2dcontour\"}], \"mesh3d\": [{\"colorbar\": {\"outlinewidth\": 0, \"ticks\": \"\"}, \"type\": \"mesh3d\"}], \"parcoords\": [{\"line\": {\"colorbar\": {\"outlinewidth\": 0, \"ticks\": \"\"}}, \"type\": \"parcoords\"}], \"scatter\": [{\"marker\": {\"colorbar\": {\"outlinewidth\": 0, \"ticks\": \"\"}}, \"type\": \"scatter\"}], \"scatter3d\": [{\"line\": {\"colorbar\": {\"outlinewidth\": 0, \"ticks\": \"\"}}, \"marker\": {\"colorbar\": {\"outlinewidth\": 0, \"ticks\": \"\"}}, \"type\": \"scatter3d\"}], \"scattercarpet\": [{\"marker\": {\"colorbar\": {\"outlinewidth\": 0, \"ticks\": \"\"}}, \"type\": \"scattercarpet\"}], \"scattergeo\": [{\"marker\": {\"colorbar\": {\"outlinewidth\": 0, \"ticks\": \"\"}}, \"type\": \"scattergeo\"}], \"scattergl\": [{\"marker\": {\"colorbar\": {\"outlinewidth\": 0, \"ticks\": \"\"}}, \"type\": \"scattergl\"}], \"scattermapbox\": [{\"marker\": {\"colorbar\": {\"outlinewidth\": 0, \"ticks\": \"\"}}, \"type\": \"scattermapbox\"}], \"scatterpolar\": [{\"marker\": {\"colorbar\": {\"outlinewidth\": 0, \"ticks\": \"\"}}, \"type\": \"scatterpolar\"}], \"scatterpolargl\": [{\"marker\": {\"colorbar\": {\"outlinewidth\": 0, \"ticks\": \"\"}}, \"type\": \"scatterpolargl\"}], \"scatterternary\": [{\"marker\": {\"colorbar\": {\"outlinewidth\": 0, \"ticks\": \"\"}}, \"type\": \"scatterternary\"}], \"surface\": [{\"colorbar\": {\"outlinewidth\": 0, \"ticks\": \"\"}, \"colorscale\": [[0.0, \"#0d0887\"], [0.1111111111111111, \"#46039f\"], [0.2222222222222222, \"#7201a8\"], [0.3333333333333333, \"#9c179e\"], [0.4444444444444444, \"#bd3786\"], [0.5555555555555556, \"#d8576b\"], [0.6666666666666666, \"#ed7953\"], [0.7777777777777778, \"#fb9f3a\"], [0.8888888888888888, \"#fdca26\"], [1.0, \"#f0f921\"]], \"type\": \"surface\"}], \"table\": [{\"cells\": {\"fill\": {\"color\": \"#EBF0F8\"}, \"line\": {\"color\": \"white\"}}, \"header\": {\"fill\": {\"color\": \"#C8D4E3\"}, \"line\": {\"color\": \"white\"}}, \"type\": \"table\"}]}, \"layout\": {\"annotationdefaults\": {\"arrowcolor\": \"#2a3f5f\", \"arrowhead\": 0, \"arrowwidth\": 1}, \"colorscale\": {\"diverging\": [[0, \"#8e0152\"], [0.1, \"#c51b7d\"], [0.2, \"#de77ae\"], [0.3, \"#f1b6da\"], [0.4, \"#fde0ef\"], [0.5, \"#f7f7f7\"], [0.6, \"#e6f5d0\"], [0.7, \"#b8e186\"], [0.8, \"#7fbc41\"], [0.9, \"#4d9221\"], [1, \"#276419\"]], \"sequential\": [[0.0, \"#0d0887\"], [0.1111111111111111, \"#46039f\"], [0.2222222222222222, \"#7201a8\"], [0.3333333333333333, \"#9c179e\"], [0.4444444444444444, \"#bd3786\"], [0.5555555555555556, \"#d8576b\"], [0.6666666666666666, \"#ed7953\"], [0.7777777777777778, \"#fb9f3a\"], [0.8888888888888888, \"#fdca26\"], [1.0, \"#f0f921\"]], \"sequentialminus\": [[0.0, \"#0d0887\"], [0.1111111111111111, \"#46039f\"], [0.2222222222222222, \"#7201a8\"], [0.3333333333333333, \"#9c179e\"], [0.4444444444444444, \"#bd3786\"], [0.5555555555555556, \"#d8576b\"], [0.6666666666666666, \"#ed7953\"], [0.7777777777777778, \"#fb9f3a\"], [0.8888888888888888, \"#fdca26\"], [1.0, \"#f0f921\"]]}, \"colorway\": [\"#636efa\", \"#EF553B\", \"#00cc96\", \"#ab63fa\", \"#FFA15A\", \"#19d3f3\", \"#FF6692\", \"#B6E880\", \"#FF97FF\", \"#FECB52\"], \"font\": {\"color\": \"#2a3f5f\"}, \"geo\": {\"bgcolor\": \"white\", \"lakecolor\": \"white\", \"landcolor\": \"#E5ECF6\", \"showlakes\": true, \"showland\": true, \"subunitcolor\": \"white\"}, \"hoverlabel\": {\"align\": \"left\"}, \"hovermode\": \"closest\", \"mapbox\": {\"style\": \"light\"}, \"paper_bgcolor\": \"white\", \"plot_bgcolor\": \"#E5ECF6\", \"polar\": {\"angularaxis\": {\"gridcolor\": \"white\", \"linecolor\": \"white\", \"ticks\": \"\"}, \"bgcolor\": \"#E5ECF6\", \"radialaxis\": {\"gridcolor\": \"white\", \"linecolor\": \"white\", \"ticks\": \"\"}}, \"scene\": {\"xaxis\": {\"backgroundcolor\": \"#E5ECF6\", \"gridcolor\": \"white\", \"gridwidth\": 2, \"linecolor\": \"white\", \"showbackground\": true, \"ticks\": \"\", \"zerolinecolor\": \"white\"}, \"yaxis\": {\"backgroundcolor\": \"#E5ECF6\", \"gridcolor\": \"white\", \"gridwidth\": 2, \"linecolor\": \"white\", \"showbackground\": true, \"ticks\": \"\", \"zerolinecolor\": \"white\"}, \"zaxis\": {\"backgroundcolor\": \"#E5ECF6\", \"gridcolor\": \"white\", \"gridwidth\": 2, \"linecolor\": \"white\", \"showbackground\": true, \"ticks\": \"\", \"zerolinecolor\": \"white\"}}, \"shapedefaults\": {\"line\": {\"color\": \"#2a3f5f\"}}, \"ternary\": {\"aaxis\": {\"gridcolor\": \"white\", \"linecolor\": \"white\", \"ticks\": \"\"}, \"baxis\": {\"gridcolor\": \"white\", \"linecolor\": \"white\", \"ticks\": \"\"}, \"bgcolor\": \"#E5ECF6\", \"caxis\": {\"gridcolor\": \"white\", \"linecolor\": \"white\", \"ticks\": \"\"}}, \"title\": {\"x\": 0.05}, \"xaxis\": {\"automargin\": true, \"gridcolor\": \"white\", \"linecolor\": \"white\", \"ticks\": \"\", \"zerolinecolor\": \"white\", \"zerolinewidth\": 2}, \"yaxis\": {\"automargin\": true, \"gridcolor\": \"white\", \"linecolor\": \"white\", \"ticks\": \"\", \"zerolinecolor\": \"white\", \"zerolinewidth\": 2}}}, \"xaxis\": {\"anchor\": \"y\", \"domain\": [0.0, 0.98], \"title\": {\"text\": \"Year\"}}, \"yaxis\": {\"anchor\": \"x\", \"domain\": [0.0, 1.0], \"title\": {\"text\": \"3P%\"}}},\n",
       "                        {\"responsive\": true}\n",
       "                    ).then(function(){\n",
       "                            \n",
       "var gd = document.getElementById('b7c4a47f-3adb-4faf-ac5e-7e32388f4eb8');\n",
       "var x = new MutationObserver(function (mutations, observer) {{\n",
       "        var display = window.getComputedStyle(gd).display;\n",
       "        if (!display || display === 'none') {{\n",
       "            console.log([gd, 'removed!']);\n",
       "            Plotly.purge(gd);\n",
       "            observer.disconnect();\n",
       "        }}\n",
       "}});\n",
       "\n",
       "// Listen for the removal of the full notebook cells\n",
       "var notebookContainer = gd.closest('#notebook-container');\n",
       "if (notebookContainer) {{\n",
       "    x.observe(notebookContainer, {childList: true});\n",
       "}}\n",
       "\n",
       "// Listen for the clearing of the current output cell\n",
       "var outputEl = gd.closest('.output');\n",
       "if (outputEl) {{\n",
       "    x.observe(outputEl, {childList: true});\n",
       "}}\n",
       "\n",
       "                        })\n",
       "                };\n",
       "                });\n",
       "            </script>\n",
       "        </div>"
      ]
     },
     "metadata": {},
     "output_type": "display_data"
    }
   ],
   "source": [
    "fig = px.line(dftest2, x=\"Year\", y=\"3P%\")\n",
    "fig.show()"
   ]
  },
  {
   "cell_type": "code",
   "execution_count": 124,
   "metadata": {},
   "outputs": [
    {
     "data": {
      "application/vnd.plotly.v1+json": {
       "config": {
        "plotlyServerURL": "https://plot.ly"
       },
       "data": [
        {
         "hoverlabel": {
          "namelength": 0
         },
         "hovertemplate": "Year=%{x}<br>ORtg=%{y}",
         "legendgroup": "",
         "line": {
          "color": "#636efa",
          "dash": "solid"
         },
         "mode": "lines",
         "name": "",
         "showlegend": false,
         "type": "scatter",
         "x": [
          2000,
          2001,
          2002,
          2003,
          2004,
          2005,
          2006,
          2007,
          2008,
          2009,
          2010,
          2011,
          2012,
          2013,
          2014,
          2015,
          2016,
          2017,
          2018
         ],
         "xaxis": "x",
         "y": [
          102.27462686567164,
          103.89189189189189,
          102.67469879518072,
          102.52492668621701,
          105.34375,
          105.04451038575668,
          106.16374269005848,
          102.9874686716792,
          107.57184750733138,
          107.22766570605188,
          106.6361111111111,
          103.8465909090909,
          105.5524861878453,
          106.35042735042735,
          105.43271767810026,
          106.22702702702702,
          108.34139784946237,
          108.71774193548387,
          110.27296587926509
         ],
         "yaxis": "y"
        }
       ],
       "layout": {
        "height": 600,
        "legend": {
         "tracegroupgap": 0
        },
        "margin": {
         "t": 60
        },
        "template": {
         "data": {
          "bar": [
           {
            "error_x": {
             "color": "#2a3f5f"
            },
            "error_y": {
             "color": "#2a3f5f"
            },
            "marker": {
             "line": {
              "color": "#E5ECF6",
              "width": 0.5
             }
            },
            "type": "bar"
           }
          ],
          "barpolar": [
           {
            "marker": {
             "line": {
              "color": "#E5ECF6",
              "width": 0.5
             }
            },
            "type": "barpolar"
           }
          ],
          "carpet": [
           {
            "aaxis": {
             "endlinecolor": "#2a3f5f",
             "gridcolor": "white",
             "linecolor": "white",
             "minorgridcolor": "white",
             "startlinecolor": "#2a3f5f"
            },
            "baxis": {
             "endlinecolor": "#2a3f5f",
             "gridcolor": "white",
             "linecolor": "white",
             "minorgridcolor": "white",
             "startlinecolor": "#2a3f5f"
            },
            "type": "carpet"
           }
          ],
          "choropleth": [
           {
            "colorbar": {
             "outlinewidth": 0,
             "ticks": ""
            },
            "type": "choropleth"
           }
          ],
          "contour": [
           {
            "colorbar": {
             "outlinewidth": 0,
             "ticks": ""
            },
            "colorscale": [
             [
              0,
              "#0d0887"
             ],
             [
              0.1111111111111111,
              "#46039f"
             ],
             [
              0.2222222222222222,
              "#7201a8"
             ],
             [
              0.3333333333333333,
              "#9c179e"
             ],
             [
              0.4444444444444444,
              "#bd3786"
             ],
             [
              0.5555555555555556,
              "#d8576b"
             ],
             [
              0.6666666666666666,
              "#ed7953"
             ],
             [
              0.7777777777777778,
              "#fb9f3a"
             ],
             [
              0.8888888888888888,
              "#fdca26"
             ],
             [
              1,
              "#f0f921"
             ]
            ],
            "type": "contour"
           }
          ],
          "contourcarpet": [
           {
            "colorbar": {
             "outlinewidth": 0,
             "ticks": ""
            },
            "type": "contourcarpet"
           }
          ],
          "heatmap": [
           {
            "colorbar": {
             "outlinewidth": 0,
             "ticks": ""
            },
            "colorscale": [
             [
              0,
              "#0d0887"
             ],
             [
              0.1111111111111111,
              "#46039f"
             ],
             [
              0.2222222222222222,
              "#7201a8"
             ],
             [
              0.3333333333333333,
              "#9c179e"
             ],
             [
              0.4444444444444444,
              "#bd3786"
             ],
             [
              0.5555555555555556,
              "#d8576b"
             ],
             [
              0.6666666666666666,
              "#ed7953"
             ],
             [
              0.7777777777777778,
              "#fb9f3a"
             ],
             [
              0.8888888888888888,
              "#fdca26"
             ],
             [
              1,
              "#f0f921"
             ]
            ],
            "type": "heatmap"
           }
          ],
          "heatmapgl": [
           {
            "colorbar": {
             "outlinewidth": 0,
             "ticks": ""
            },
            "colorscale": [
             [
              0,
              "#0d0887"
             ],
             [
              0.1111111111111111,
              "#46039f"
             ],
             [
              0.2222222222222222,
              "#7201a8"
             ],
             [
              0.3333333333333333,
              "#9c179e"
             ],
             [
              0.4444444444444444,
              "#bd3786"
             ],
             [
              0.5555555555555556,
              "#d8576b"
             ],
             [
              0.6666666666666666,
              "#ed7953"
             ],
             [
              0.7777777777777778,
              "#fb9f3a"
             ],
             [
              0.8888888888888888,
              "#fdca26"
             ],
             [
              1,
              "#f0f921"
             ]
            ],
            "type": "heatmapgl"
           }
          ],
          "histogram": [
           {
            "marker": {
             "colorbar": {
              "outlinewidth": 0,
              "ticks": ""
             }
            },
            "type": "histogram"
           }
          ],
          "histogram2d": [
           {
            "colorbar": {
             "outlinewidth": 0,
             "ticks": ""
            },
            "colorscale": [
             [
              0,
              "#0d0887"
             ],
             [
              0.1111111111111111,
              "#46039f"
             ],
             [
              0.2222222222222222,
              "#7201a8"
             ],
             [
              0.3333333333333333,
              "#9c179e"
             ],
             [
              0.4444444444444444,
              "#bd3786"
             ],
             [
              0.5555555555555556,
              "#d8576b"
             ],
             [
              0.6666666666666666,
              "#ed7953"
             ],
             [
              0.7777777777777778,
              "#fb9f3a"
             ],
             [
              0.8888888888888888,
              "#fdca26"
             ],
             [
              1,
              "#f0f921"
             ]
            ],
            "type": "histogram2d"
           }
          ],
          "histogram2dcontour": [
           {
            "colorbar": {
             "outlinewidth": 0,
             "ticks": ""
            },
            "colorscale": [
             [
              0,
              "#0d0887"
             ],
             [
              0.1111111111111111,
              "#46039f"
             ],
             [
              0.2222222222222222,
              "#7201a8"
             ],
             [
              0.3333333333333333,
              "#9c179e"
             ],
             [
              0.4444444444444444,
              "#bd3786"
             ],
             [
              0.5555555555555556,
              "#d8576b"
             ],
             [
              0.6666666666666666,
              "#ed7953"
             ],
             [
              0.7777777777777778,
              "#fb9f3a"
             ],
             [
              0.8888888888888888,
              "#fdca26"
             ],
             [
              1,
              "#f0f921"
             ]
            ],
            "type": "histogram2dcontour"
           }
          ],
          "mesh3d": [
           {
            "colorbar": {
             "outlinewidth": 0,
             "ticks": ""
            },
            "type": "mesh3d"
           }
          ],
          "parcoords": [
           {
            "line": {
             "colorbar": {
              "outlinewidth": 0,
              "ticks": ""
             }
            },
            "type": "parcoords"
           }
          ],
          "scatter": [
           {
            "marker": {
             "colorbar": {
              "outlinewidth": 0,
              "ticks": ""
             }
            },
            "type": "scatter"
           }
          ],
          "scatter3d": [
           {
            "line": {
             "colorbar": {
              "outlinewidth": 0,
              "ticks": ""
             }
            },
            "marker": {
             "colorbar": {
              "outlinewidth": 0,
              "ticks": ""
             }
            },
            "type": "scatter3d"
           }
          ],
          "scattercarpet": [
           {
            "marker": {
             "colorbar": {
              "outlinewidth": 0,
              "ticks": ""
             }
            },
            "type": "scattercarpet"
           }
          ],
          "scattergeo": [
           {
            "marker": {
             "colorbar": {
              "outlinewidth": 0,
              "ticks": ""
             }
            },
            "type": "scattergeo"
           }
          ],
          "scattergl": [
           {
            "marker": {
             "colorbar": {
              "outlinewidth": 0,
              "ticks": ""
             }
            },
            "type": "scattergl"
           }
          ],
          "scattermapbox": [
           {
            "marker": {
             "colorbar": {
              "outlinewidth": 0,
              "ticks": ""
             }
            },
            "type": "scattermapbox"
           }
          ],
          "scatterpolar": [
           {
            "marker": {
             "colorbar": {
              "outlinewidth": 0,
              "ticks": ""
             }
            },
            "type": "scatterpolar"
           }
          ],
          "scatterpolargl": [
           {
            "marker": {
             "colorbar": {
              "outlinewidth": 0,
              "ticks": ""
             }
            },
            "type": "scatterpolargl"
           }
          ],
          "scatterternary": [
           {
            "marker": {
             "colorbar": {
              "outlinewidth": 0,
              "ticks": ""
             }
            },
            "type": "scatterternary"
           }
          ],
          "surface": [
           {
            "colorbar": {
             "outlinewidth": 0,
             "ticks": ""
            },
            "colorscale": [
             [
              0,
              "#0d0887"
             ],
             [
              0.1111111111111111,
              "#46039f"
             ],
             [
              0.2222222222222222,
              "#7201a8"
             ],
             [
              0.3333333333333333,
              "#9c179e"
             ],
             [
              0.4444444444444444,
              "#bd3786"
             ],
             [
              0.5555555555555556,
              "#d8576b"
             ],
             [
              0.6666666666666666,
              "#ed7953"
             ],
             [
              0.7777777777777778,
              "#fb9f3a"
             ],
             [
              0.8888888888888888,
              "#fdca26"
             ],
             [
              1,
              "#f0f921"
             ]
            ],
            "type": "surface"
           }
          ],
          "table": [
           {
            "cells": {
             "fill": {
              "color": "#EBF0F8"
             },
             "line": {
              "color": "white"
             }
            },
            "header": {
             "fill": {
              "color": "#C8D4E3"
             },
             "line": {
              "color": "white"
             }
            },
            "type": "table"
           }
          ]
         },
         "layout": {
          "annotationdefaults": {
           "arrowcolor": "#2a3f5f",
           "arrowhead": 0,
           "arrowwidth": 1
          },
          "colorscale": {
           "diverging": [
            [
             0,
             "#8e0152"
            ],
            [
             0.1,
             "#c51b7d"
            ],
            [
             0.2,
             "#de77ae"
            ],
            [
             0.3,
             "#f1b6da"
            ],
            [
             0.4,
             "#fde0ef"
            ],
            [
             0.5,
             "#f7f7f7"
            ],
            [
             0.6,
             "#e6f5d0"
            ],
            [
             0.7,
             "#b8e186"
            ],
            [
             0.8,
             "#7fbc41"
            ],
            [
             0.9,
             "#4d9221"
            ],
            [
             1,
             "#276419"
            ]
           ],
           "sequential": [
            [
             0,
             "#0d0887"
            ],
            [
             0.1111111111111111,
             "#46039f"
            ],
            [
             0.2222222222222222,
             "#7201a8"
            ],
            [
             0.3333333333333333,
             "#9c179e"
            ],
            [
             0.4444444444444444,
             "#bd3786"
            ],
            [
             0.5555555555555556,
             "#d8576b"
            ],
            [
             0.6666666666666666,
             "#ed7953"
            ],
            [
             0.7777777777777778,
             "#fb9f3a"
            ],
            [
             0.8888888888888888,
             "#fdca26"
            ],
            [
             1,
             "#f0f921"
            ]
           ],
           "sequentialminus": [
            [
             0,
             "#0d0887"
            ],
            [
             0.1111111111111111,
             "#46039f"
            ],
            [
             0.2222222222222222,
             "#7201a8"
            ],
            [
             0.3333333333333333,
             "#9c179e"
            ],
            [
             0.4444444444444444,
             "#bd3786"
            ],
            [
             0.5555555555555556,
             "#d8576b"
            ],
            [
             0.6666666666666666,
             "#ed7953"
            ],
            [
             0.7777777777777778,
             "#fb9f3a"
            ],
            [
             0.8888888888888888,
             "#fdca26"
            ],
            [
             1,
             "#f0f921"
            ]
           ]
          },
          "colorway": [
           "#636efa",
           "#EF553B",
           "#00cc96",
           "#ab63fa",
           "#FFA15A",
           "#19d3f3",
           "#FF6692",
           "#B6E880",
           "#FF97FF",
           "#FECB52"
          ],
          "font": {
           "color": "#2a3f5f"
          },
          "geo": {
           "bgcolor": "white",
           "lakecolor": "white",
           "landcolor": "#E5ECF6",
           "showlakes": true,
           "showland": true,
           "subunitcolor": "white"
          },
          "hoverlabel": {
           "align": "left"
          },
          "hovermode": "closest",
          "mapbox": {
           "style": "light"
          },
          "paper_bgcolor": "white",
          "plot_bgcolor": "#E5ECF6",
          "polar": {
           "angularaxis": {
            "gridcolor": "white",
            "linecolor": "white",
            "ticks": ""
           },
           "bgcolor": "#E5ECF6",
           "radialaxis": {
            "gridcolor": "white",
            "linecolor": "white",
            "ticks": ""
           }
          },
          "scene": {
           "xaxis": {
            "backgroundcolor": "#E5ECF6",
            "gridcolor": "white",
            "gridwidth": 2,
            "linecolor": "white",
            "showbackground": true,
            "ticks": "",
            "zerolinecolor": "white"
           },
           "yaxis": {
            "backgroundcolor": "#E5ECF6",
            "gridcolor": "white",
            "gridwidth": 2,
            "linecolor": "white",
            "showbackground": true,
            "ticks": "",
            "zerolinecolor": "white"
           },
           "zaxis": {
            "backgroundcolor": "#E5ECF6",
            "gridcolor": "white",
            "gridwidth": 2,
            "linecolor": "white",
            "showbackground": true,
            "ticks": "",
            "zerolinecolor": "white"
           }
          },
          "shapedefaults": {
           "line": {
            "color": "#2a3f5f"
           }
          },
          "ternary": {
           "aaxis": {
            "gridcolor": "white",
            "linecolor": "white",
            "ticks": ""
           },
           "baxis": {
            "gridcolor": "white",
            "linecolor": "white",
            "ticks": ""
           },
           "bgcolor": "#E5ECF6",
           "caxis": {
            "gridcolor": "white",
            "linecolor": "white",
            "ticks": ""
           }
          },
          "title": {
           "x": 0.05
          },
          "xaxis": {
           "automargin": true,
           "gridcolor": "white",
           "linecolor": "white",
           "ticks": "",
           "zerolinecolor": "white",
           "zerolinewidth": 2
          },
          "yaxis": {
           "automargin": true,
           "gridcolor": "white",
           "linecolor": "white",
           "ticks": "",
           "zerolinecolor": "white",
           "zerolinewidth": 2
          }
         }
        },
        "xaxis": {
         "anchor": "y",
         "domain": [
          0,
          0.98
         ],
         "title": {
          "text": "Year"
         }
        },
        "yaxis": {
         "anchor": "x",
         "domain": [
          0,
          1
         ],
         "title": {
          "text": "ORtg"
         }
        }
       }
      },
      "text/html": [
       "<div>\n",
       "        \n",
       "        \n",
       "            <div id=\"c8afddf2-0ad0-49f9-b216-094877d4ac60\" class=\"plotly-graph-div\" style=\"height:600px; width:100%;\"></div>\n",
       "            <script type=\"text/javascript\">\n",
       "                require([\"plotly\"], function(Plotly) {\n",
       "                    window.PLOTLYENV=window.PLOTLYENV || {};\n",
       "                    \n",
       "                if (document.getElementById(\"c8afddf2-0ad0-49f9-b216-094877d4ac60\")) {\n",
       "                    Plotly.newPlot(\n",
       "                        'c8afddf2-0ad0-49f9-b216-094877d4ac60',\n",
       "                        [{\"hoverlabel\": {\"namelength\": 0}, \"hovertemplate\": \"Year=%{x}<br>ORtg=%{y}\", \"legendgroup\": \"\", \"line\": {\"color\": \"#636efa\", \"dash\": \"solid\"}, \"mode\": \"lines\", \"name\": \"\", \"showlegend\": false, \"type\": \"scatter\", \"x\": [2000.0, 2001.0, 2002.0, 2003.0, 2004.0, 2005.0, 2006.0, 2007.0, 2008.0, 2009.0, 2010.0, 2011.0, 2012.0, 2013.0, 2014.0, 2015.0, 2016.0, 2017.0, 2018.0], \"xaxis\": \"x\", \"y\": [102.27462686567164, 103.89189189189189, 102.67469879518072, 102.52492668621701, 105.34375, 105.04451038575668, 106.16374269005848, 102.9874686716792, 107.57184750733138, 107.22766570605188, 106.6361111111111, 103.8465909090909, 105.5524861878453, 106.35042735042735, 105.43271767810026, 106.22702702702702, 108.34139784946237, 108.71774193548387, 110.27296587926509], \"yaxis\": \"y\"}],\n",
       "                        {\"height\": 600, \"legend\": {\"tracegroupgap\": 0}, \"margin\": {\"t\": 60}, \"template\": {\"data\": {\"bar\": [{\"error_x\": {\"color\": \"#2a3f5f\"}, \"error_y\": {\"color\": \"#2a3f5f\"}, \"marker\": {\"line\": {\"color\": \"#E5ECF6\", \"width\": 0.5}}, \"type\": \"bar\"}], \"barpolar\": [{\"marker\": {\"line\": {\"color\": \"#E5ECF6\", \"width\": 0.5}}, \"type\": \"barpolar\"}], \"carpet\": [{\"aaxis\": {\"endlinecolor\": \"#2a3f5f\", \"gridcolor\": \"white\", \"linecolor\": \"white\", \"minorgridcolor\": \"white\", \"startlinecolor\": \"#2a3f5f\"}, \"baxis\": {\"endlinecolor\": \"#2a3f5f\", \"gridcolor\": \"white\", \"linecolor\": \"white\", \"minorgridcolor\": \"white\", \"startlinecolor\": \"#2a3f5f\"}, \"type\": \"carpet\"}], \"choropleth\": [{\"colorbar\": {\"outlinewidth\": 0, \"ticks\": \"\"}, \"type\": \"choropleth\"}], \"contour\": [{\"colorbar\": {\"outlinewidth\": 0, \"ticks\": \"\"}, \"colorscale\": [[0.0, \"#0d0887\"], [0.1111111111111111, \"#46039f\"], [0.2222222222222222, \"#7201a8\"], [0.3333333333333333, \"#9c179e\"], [0.4444444444444444, \"#bd3786\"], [0.5555555555555556, \"#d8576b\"], [0.6666666666666666, \"#ed7953\"], [0.7777777777777778, \"#fb9f3a\"], [0.8888888888888888, \"#fdca26\"], [1.0, \"#f0f921\"]], \"type\": \"contour\"}], \"contourcarpet\": [{\"colorbar\": {\"outlinewidth\": 0, \"ticks\": \"\"}, \"type\": \"contourcarpet\"}], \"heatmap\": [{\"colorbar\": {\"outlinewidth\": 0, \"ticks\": \"\"}, \"colorscale\": [[0.0, \"#0d0887\"], [0.1111111111111111, \"#46039f\"], [0.2222222222222222, \"#7201a8\"], [0.3333333333333333, \"#9c179e\"], [0.4444444444444444, \"#bd3786\"], [0.5555555555555556, \"#d8576b\"], [0.6666666666666666, \"#ed7953\"], [0.7777777777777778, \"#fb9f3a\"], [0.8888888888888888, \"#fdca26\"], [1.0, \"#f0f921\"]], \"type\": \"heatmap\"}], \"heatmapgl\": [{\"colorbar\": {\"outlinewidth\": 0, \"ticks\": \"\"}, \"colorscale\": [[0.0, \"#0d0887\"], [0.1111111111111111, \"#46039f\"], [0.2222222222222222, \"#7201a8\"], [0.3333333333333333, \"#9c179e\"], [0.4444444444444444, \"#bd3786\"], [0.5555555555555556, \"#d8576b\"], [0.6666666666666666, \"#ed7953\"], [0.7777777777777778, \"#fb9f3a\"], [0.8888888888888888, \"#fdca26\"], [1.0, \"#f0f921\"]], \"type\": \"heatmapgl\"}], \"histogram\": [{\"marker\": {\"colorbar\": {\"outlinewidth\": 0, \"ticks\": \"\"}}, \"type\": \"histogram\"}], \"histogram2d\": [{\"colorbar\": {\"outlinewidth\": 0, \"ticks\": \"\"}, \"colorscale\": [[0.0, \"#0d0887\"], [0.1111111111111111, \"#46039f\"], [0.2222222222222222, \"#7201a8\"], [0.3333333333333333, \"#9c179e\"], [0.4444444444444444, \"#bd3786\"], [0.5555555555555556, \"#d8576b\"], [0.6666666666666666, \"#ed7953\"], [0.7777777777777778, \"#fb9f3a\"], [0.8888888888888888, \"#fdca26\"], [1.0, \"#f0f921\"]], \"type\": \"histogram2d\"}], \"histogram2dcontour\": [{\"colorbar\": {\"outlinewidth\": 0, \"ticks\": \"\"}, \"colorscale\": [[0.0, \"#0d0887\"], [0.1111111111111111, \"#46039f\"], [0.2222222222222222, \"#7201a8\"], [0.3333333333333333, \"#9c179e\"], [0.4444444444444444, \"#bd3786\"], [0.5555555555555556, \"#d8576b\"], [0.6666666666666666, \"#ed7953\"], [0.7777777777777778, \"#fb9f3a\"], [0.8888888888888888, \"#fdca26\"], [1.0, \"#f0f921\"]], \"type\": \"histogram2dcontour\"}], \"mesh3d\": [{\"colorbar\": {\"outlinewidth\": 0, \"ticks\": \"\"}, \"type\": \"mesh3d\"}], \"parcoords\": [{\"line\": {\"colorbar\": {\"outlinewidth\": 0, \"ticks\": \"\"}}, \"type\": \"parcoords\"}], \"scatter\": [{\"marker\": {\"colorbar\": {\"outlinewidth\": 0, \"ticks\": \"\"}}, \"type\": \"scatter\"}], \"scatter3d\": [{\"line\": {\"colorbar\": {\"outlinewidth\": 0, \"ticks\": \"\"}}, \"marker\": {\"colorbar\": {\"outlinewidth\": 0, \"ticks\": \"\"}}, \"type\": \"scatter3d\"}], \"scattercarpet\": [{\"marker\": {\"colorbar\": {\"outlinewidth\": 0, \"ticks\": \"\"}}, \"type\": \"scattercarpet\"}], \"scattergeo\": [{\"marker\": {\"colorbar\": {\"outlinewidth\": 0, \"ticks\": \"\"}}, \"type\": \"scattergeo\"}], \"scattergl\": [{\"marker\": {\"colorbar\": {\"outlinewidth\": 0, \"ticks\": \"\"}}, \"type\": \"scattergl\"}], \"scattermapbox\": [{\"marker\": {\"colorbar\": {\"outlinewidth\": 0, \"ticks\": \"\"}}, \"type\": \"scattermapbox\"}], \"scatterpolar\": [{\"marker\": {\"colorbar\": {\"outlinewidth\": 0, \"ticks\": \"\"}}, \"type\": \"scatterpolar\"}], \"scatterpolargl\": [{\"marker\": {\"colorbar\": {\"outlinewidth\": 0, \"ticks\": \"\"}}, \"type\": \"scatterpolargl\"}], \"scatterternary\": [{\"marker\": {\"colorbar\": {\"outlinewidth\": 0, \"ticks\": \"\"}}, \"type\": \"scatterternary\"}], \"surface\": [{\"colorbar\": {\"outlinewidth\": 0, \"ticks\": \"\"}, \"colorscale\": [[0.0, \"#0d0887\"], [0.1111111111111111, \"#46039f\"], [0.2222222222222222, \"#7201a8\"], [0.3333333333333333, \"#9c179e\"], [0.4444444444444444, \"#bd3786\"], [0.5555555555555556, \"#d8576b\"], [0.6666666666666666, \"#ed7953\"], [0.7777777777777778, \"#fb9f3a\"], [0.8888888888888888, \"#fdca26\"], [1.0, \"#f0f921\"]], \"type\": \"surface\"}], \"table\": [{\"cells\": {\"fill\": {\"color\": \"#EBF0F8\"}, \"line\": {\"color\": \"white\"}}, \"header\": {\"fill\": {\"color\": \"#C8D4E3\"}, \"line\": {\"color\": \"white\"}}, \"type\": \"table\"}]}, \"layout\": {\"annotationdefaults\": {\"arrowcolor\": \"#2a3f5f\", \"arrowhead\": 0, \"arrowwidth\": 1}, \"colorscale\": {\"diverging\": [[0, \"#8e0152\"], [0.1, \"#c51b7d\"], [0.2, \"#de77ae\"], [0.3, \"#f1b6da\"], [0.4, \"#fde0ef\"], [0.5, \"#f7f7f7\"], [0.6, \"#e6f5d0\"], [0.7, \"#b8e186\"], [0.8, \"#7fbc41\"], [0.9, \"#4d9221\"], [1, \"#276419\"]], \"sequential\": [[0.0, \"#0d0887\"], [0.1111111111111111, \"#46039f\"], [0.2222222222222222, \"#7201a8\"], [0.3333333333333333, \"#9c179e\"], [0.4444444444444444, \"#bd3786\"], [0.5555555555555556, \"#d8576b\"], [0.6666666666666666, \"#ed7953\"], [0.7777777777777778, \"#fb9f3a\"], [0.8888888888888888, \"#fdca26\"], [1.0, \"#f0f921\"]], \"sequentialminus\": [[0.0, \"#0d0887\"], [0.1111111111111111, \"#46039f\"], [0.2222222222222222, \"#7201a8\"], [0.3333333333333333, \"#9c179e\"], [0.4444444444444444, \"#bd3786\"], [0.5555555555555556, \"#d8576b\"], [0.6666666666666666, \"#ed7953\"], [0.7777777777777778, \"#fb9f3a\"], [0.8888888888888888, \"#fdca26\"], [1.0, \"#f0f921\"]]}, \"colorway\": [\"#636efa\", \"#EF553B\", \"#00cc96\", \"#ab63fa\", \"#FFA15A\", \"#19d3f3\", \"#FF6692\", \"#B6E880\", \"#FF97FF\", \"#FECB52\"], \"font\": {\"color\": \"#2a3f5f\"}, \"geo\": {\"bgcolor\": \"white\", \"lakecolor\": \"white\", \"landcolor\": \"#E5ECF6\", \"showlakes\": true, \"showland\": true, \"subunitcolor\": \"white\"}, \"hoverlabel\": {\"align\": \"left\"}, \"hovermode\": \"closest\", \"mapbox\": {\"style\": \"light\"}, \"paper_bgcolor\": \"white\", \"plot_bgcolor\": \"#E5ECF6\", \"polar\": {\"angularaxis\": {\"gridcolor\": \"white\", \"linecolor\": \"white\", \"ticks\": \"\"}, \"bgcolor\": \"#E5ECF6\", \"radialaxis\": {\"gridcolor\": \"white\", \"linecolor\": \"white\", \"ticks\": \"\"}}, \"scene\": {\"xaxis\": {\"backgroundcolor\": \"#E5ECF6\", \"gridcolor\": \"white\", \"gridwidth\": 2, \"linecolor\": \"white\", \"showbackground\": true, \"ticks\": \"\", \"zerolinecolor\": \"white\"}, \"yaxis\": {\"backgroundcolor\": \"#E5ECF6\", \"gridcolor\": \"white\", \"gridwidth\": 2, \"linecolor\": \"white\", \"showbackground\": true, \"ticks\": \"\", \"zerolinecolor\": \"white\"}, \"zaxis\": {\"backgroundcolor\": \"#E5ECF6\", \"gridcolor\": \"white\", \"gridwidth\": 2, \"linecolor\": \"white\", \"showbackground\": true, \"ticks\": \"\", \"zerolinecolor\": \"white\"}}, \"shapedefaults\": {\"line\": {\"color\": \"#2a3f5f\"}}, \"ternary\": {\"aaxis\": {\"gridcolor\": \"white\", \"linecolor\": \"white\", \"ticks\": \"\"}, \"baxis\": {\"gridcolor\": \"white\", \"linecolor\": \"white\", \"ticks\": \"\"}, \"bgcolor\": \"#E5ECF6\", \"caxis\": {\"gridcolor\": \"white\", \"linecolor\": \"white\", \"ticks\": \"\"}}, \"title\": {\"x\": 0.05}, \"xaxis\": {\"automargin\": true, \"gridcolor\": \"white\", \"linecolor\": \"white\", \"ticks\": \"\", \"zerolinecolor\": \"white\", \"zerolinewidth\": 2}, \"yaxis\": {\"automargin\": true, \"gridcolor\": \"white\", \"linecolor\": \"white\", \"ticks\": \"\", \"zerolinecolor\": \"white\", \"zerolinewidth\": 2}}}, \"xaxis\": {\"anchor\": \"y\", \"domain\": [0.0, 0.98], \"title\": {\"text\": \"Year\"}}, \"yaxis\": {\"anchor\": \"x\", \"domain\": [0.0, 1.0], \"title\": {\"text\": \"ORtg\"}}},\n",
       "                        {\"responsive\": true}\n",
       "                    ).then(function(){\n",
       "                            \n",
       "var gd = document.getElementById('c8afddf2-0ad0-49f9-b216-094877d4ac60');\n",
       "var x = new MutationObserver(function (mutations, observer) {{\n",
       "        var display = window.getComputedStyle(gd).display;\n",
       "        if (!display || display === 'none') {{\n",
       "            console.log([gd, 'removed!']);\n",
       "            Plotly.purge(gd);\n",
       "            observer.disconnect();\n",
       "        }}\n",
       "}});\n",
       "\n",
       "// Listen for the removal of the full notebook cells\n",
       "var notebookContainer = gd.closest('#notebook-container');\n",
       "if (notebookContainer) {{\n",
       "    x.observe(notebookContainer, {childList: true});\n",
       "}}\n",
       "\n",
       "// Listen for the clearing of the current output cell\n",
       "var outputEl = gd.closest('.output');\n",
       "if (outputEl) {{\n",
       "    x.observe(outputEl, {childList: true});\n",
       "}}\n",
       "\n",
       "                        })\n",
       "                };\n",
       "                });\n",
       "            </script>\n",
       "        </div>"
      ]
     },
     "metadata": {},
     "output_type": "display_data"
    }
   ],
   "source": [
    "fig = px.line(dftest2, x='Year', y='ORtg')\n",
    "fig.show()"
   ]
  },
  {
   "cell_type": "code",
   "execution_count": null,
   "metadata": {},
   "outputs": [],
   "source": [
    "# bar graphs arent really telling of change overtime... "
   ]
  },
  {
   "cell_type": "code",
   "execution_count": 126,
   "metadata": {},
   "outputs": [
    {
     "data": {
      "application/vnd.plotly.v1+json": {
       "config": {
        "plotlyServerURL": "https://plot.ly"
       },
       "data": [
        {
         "alignmentgroup": "True",
         "hoverlabel": {
          "namelength": 0
         },
         "hovertemplate": "Year=%{x}<br>eFG%=%{y}",
         "legendgroup": "",
         "marker": {
          "color": "#636efa"
         },
         "name": "",
         "offsetgroup": "",
         "orientation": "v",
         "showlegend": false,
         "textposition": "auto",
         "type": "bar",
         "x": [
          2000,
          2001,
          2002,
          2003,
          2004,
          2005,
          2006,
          2007,
          2008,
          2009,
          2010,
          2011,
          2012,
          2013,
          2014,
          2015,
          2016,
          2017,
          2018
         ],
         "xaxis": "x",
         "y": [
          0.46915223880597007,
          0.4715885885885889,
          0.4673072289156623,
          0.4659765395894429,
          0.4776221590909089,
          0.48479228486646886,
          0.49450292397660806,
          0.4890551378446124,
          0.4959501466275663,
          0.5002795389048986,
          0.4976250000000001,
          0.48423011363636376,
          0.4950580110497242,
          0.5009515669515667,
          0.49469656992084426,
          0.5020189189189188,
          0.5119032258064514,
          0.5211639784946238,
          0.5222624671916003
         ],
         "yaxis": "y"
        }
       ],
       "layout": {
        "barmode": "relative",
        "height": 600,
        "legend": {
         "tracegroupgap": 0
        },
        "margin": {
         "t": 60
        },
        "template": {
         "data": {
          "bar": [
           {
            "error_x": {
             "color": "#2a3f5f"
            },
            "error_y": {
             "color": "#2a3f5f"
            },
            "marker": {
             "line": {
              "color": "#E5ECF6",
              "width": 0.5
             }
            },
            "type": "bar"
           }
          ],
          "barpolar": [
           {
            "marker": {
             "line": {
              "color": "#E5ECF6",
              "width": 0.5
             }
            },
            "type": "barpolar"
           }
          ],
          "carpet": [
           {
            "aaxis": {
             "endlinecolor": "#2a3f5f",
             "gridcolor": "white",
             "linecolor": "white",
             "minorgridcolor": "white",
             "startlinecolor": "#2a3f5f"
            },
            "baxis": {
             "endlinecolor": "#2a3f5f",
             "gridcolor": "white",
             "linecolor": "white",
             "minorgridcolor": "white",
             "startlinecolor": "#2a3f5f"
            },
            "type": "carpet"
           }
          ],
          "choropleth": [
           {
            "colorbar": {
             "outlinewidth": 0,
             "ticks": ""
            },
            "type": "choropleth"
           }
          ],
          "contour": [
           {
            "colorbar": {
             "outlinewidth": 0,
             "ticks": ""
            },
            "colorscale": [
             [
              0,
              "#0d0887"
             ],
             [
              0.1111111111111111,
              "#46039f"
             ],
             [
              0.2222222222222222,
              "#7201a8"
             ],
             [
              0.3333333333333333,
              "#9c179e"
             ],
             [
              0.4444444444444444,
              "#bd3786"
             ],
             [
              0.5555555555555556,
              "#d8576b"
             ],
             [
              0.6666666666666666,
              "#ed7953"
             ],
             [
              0.7777777777777778,
              "#fb9f3a"
             ],
             [
              0.8888888888888888,
              "#fdca26"
             ],
             [
              1,
              "#f0f921"
             ]
            ],
            "type": "contour"
           }
          ],
          "contourcarpet": [
           {
            "colorbar": {
             "outlinewidth": 0,
             "ticks": ""
            },
            "type": "contourcarpet"
           }
          ],
          "heatmap": [
           {
            "colorbar": {
             "outlinewidth": 0,
             "ticks": ""
            },
            "colorscale": [
             [
              0,
              "#0d0887"
             ],
             [
              0.1111111111111111,
              "#46039f"
             ],
             [
              0.2222222222222222,
              "#7201a8"
             ],
             [
              0.3333333333333333,
              "#9c179e"
             ],
             [
              0.4444444444444444,
              "#bd3786"
             ],
             [
              0.5555555555555556,
              "#d8576b"
             ],
             [
              0.6666666666666666,
              "#ed7953"
             ],
             [
              0.7777777777777778,
              "#fb9f3a"
             ],
             [
              0.8888888888888888,
              "#fdca26"
             ],
             [
              1,
              "#f0f921"
             ]
            ],
            "type": "heatmap"
           }
          ],
          "heatmapgl": [
           {
            "colorbar": {
             "outlinewidth": 0,
             "ticks": ""
            },
            "colorscale": [
             [
              0,
              "#0d0887"
             ],
             [
              0.1111111111111111,
              "#46039f"
             ],
             [
              0.2222222222222222,
              "#7201a8"
             ],
             [
              0.3333333333333333,
              "#9c179e"
             ],
             [
              0.4444444444444444,
              "#bd3786"
             ],
             [
              0.5555555555555556,
              "#d8576b"
             ],
             [
              0.6666666666666666,
              "#ed7953"
             ],
             [
              0.7777777777777778,
              "#fb9f3a"
             ],
             [
              0.8888888888888888,
              "#fdca26"
             ],
             [
              1,
              "#f0f921"
             ]
            ],
            "type": "heatmapgl"
           }
          ],
          "histogram": [
           {
            "marker": {
             "colorbar": {
              "outlinewidth": 0,
              "ticks": ""
             }
            },
            "type": "histogram"
           }
          ],
          "histogram2d": [
           {
            "colorbar": {
             "outlinewidth": 0,
             "ticks": ""
            },
            "colorscale": [
             [
              0,
              "#0d0887"
             ],
             [
              0.1111111111111111,
              "#46039f"
             ],
             [
              0.2222222222222222,
              "#7201a8"
             ],
             [
              0.3333333333333333,
              "#9c179e"
             ],
             [
              0.4444444444444444,
              "#bd3786"
             ],
             [
              0.5555555555555556,
              "#d8576b"
             ],
             [
              0.6666666666666666,
              "#ed7953"
             ],
             [
              0.7777777777777778,
              "#fb9f3a"
             ],
             [
              0.8888888888888888,
              "#fdca26"
             ],
             [
              1,
              "#f0f921"
             ]
            ],
            "type": "histogram2d"
           }
          ],
          "histogram2dcontour": [
           {
            "colorbar": {
             "outlinewidth": 0,
             "ticks": ""
            },
            "colorscale": [
             [
              0,
              "#0d0887"
             ],
             [
              0.1111111111111111,
              "#46039f"
             ],
             [
              0.2222222222222222,
              "#7201a8"
             ],
             [
              0.3333333333333333,
              "#9c179e"
             ],
             [
              0.4444444444444444,
              "#bd3786"
             ],
             [
              0.5555555555555556,
              "#d8576b"
             ],
             [
              0.6666666666666666,
              "#ed7953"
             ],
             [
              0.7777777777777778,
              "#fb9f3a"
             ],
             [
              0.8888888888888888,
              "#fdca26"
             ],
             [
              1,
              "#f0f921"
             ]
            ],
            "type": "histogram2dcontour"
           }
          ],
          "mesh3d": [
           {
            "colorbar": {
             "outlinewidth": 0,
             "ticks": ""
            },
            "type": "mesh3d"
           }
          ],
          "parcoords": [
           {
            "line": {
             "colorbar": {
              "outlinewidth": 0,
              "ticks": ""
             }
            },
            "type": "parcoords"
           }
          ],
          "scatter": [
           {
            "marker": {
             "colorbar": {
              "outlinewidth": 0,
              "ticks": ""
             }
            },
            "type": "scatter"
           }
          ],
          "scatter3d": [
           {
            "line": {
             "colorbar": {
              "outlinewidth": 0,
              "ticks": ""
             }
            },
            "marker": {
             "colorbar": {
              "outlinewidth": 0,
              "ticks": ""
             }
            },
            "type": "scatter3d"
           }
          ],
          "scattercarpet": [
           {
            "marker": {
             "colorbar": {
              "outlinewidth": 0,
              "ticks": ""
             }
            },
            "type": "scattercarpet"
           }
          ],
          "scattergeo": [
           {
            "marker": {
             "colorbar": {
              "outlinewidth": 0,
              "ticks": ""
             }
            },
            "type": "scattergeo"
           }
          ],
          "scattergl": [
           {
            "marker": {
             "colorbar": {
              "outlinewidth": 0,
              "ticks": ""
             }
            },
            "type": "scattergl"
           }
          ],
          "scattermapbox": [
           {
            "marker": {
             "colorbar": {
              "outlinewidth": 0,
              "ticks": ""
             }
            },
            "type": "scattermapbox"
           }
          ],
          "scatterpolar": [
           {
            "marker": {
             "colorbar": {
              "outlinewidth": 0,
              "ticks": ""
             }
            },
            "type": "scatterpolar"
           }
          ],
          "scatterpolargl": [
           {
            "marker": {
             "colorbar": {
              "outlinewidth": 0,
              "ticks": ""
             }
            },
            "type": "scatterpolargl"
           }
          ],
          "scatterternary": [
           {
            "marker": {
             "colorbar": {
              "outlinewidth": 0,
              "ticks": ""
             }
            },
            "type": "scatterternary"
           }
          ],
          "surface": [
           {
            "colorbar": {
             "outlinewidth": 0,
             "ticks": ""
            },
            "colorscale": [
             [
              0,
              "#0d0887"
             ],
             [
              0.1111111111111111,
              "#46039f"
             ],
             [
              0.2222222222222222,
              "#7201a8"
             ],
             [
              0.3333333333333333,
              "#9c179e"
             ],
             [
              0.4444444444444444,
              "#bd3786"
             ],
             [
              0.5555555555555556,
              "#d8576b"
             ],
             [
              0.6666666666666666,
              "#ed7953"
             ],
             [
              0.7777777777777778,
              "#fb9f3a"
             ],
             [
              0.8888888888888888,
              "#fdca26"
             ],
             [
              1,
              "#f0f921"
             ]
            ],
            "type": "surface"
           }
          ],
          "table": [
           {
            "cells": {
             "fill": {
              "color": "#EBF0F8"
             },
             "line": {
              "color": "white"
             }
            },
            "header": {
             "fill": {
              "color": "#C8D4E3"
             },
             "line": {
              "color": "white"
             }
            },
            "type": "table"
           }
          ]
         },
         "layout": {
          "annotationdefaults": {
           "arrowcolor": "#2a3f5f",
           "arrowhead": 0,
           "arrowwidth": 1
          },
          "colorscale": {
           "diverging": [
            [
             0,
             "#8e0152"
            ],
            [
             0.1,
             "#c51b7d"
            ],
            [
             0.2,
             "#de77ae"
            ],
            [
             0.3,
             "#f1b6da"
            ],
            [
             0.4,
             "#fde0ef"
            ],
            [
             0.5,
             "#f7f7f7"
            ],
            [
             0.6,
             "#e6f5d0"
            ],
            [
             0.7,
             "#b8e186"
            ],
            [
             0.8,
             "#7fbc41"
            ],
            [
             0.9,
             "#4d9221"
            ],
            [
             1,
             "#276419"
            ]
           ],
           "sequential": [
            [
             0,
             "#0d0887"
            ],
            [
             0.1111111111111111,
             "#46039f"
            ],
            [
             0.2222222222222222,
             "#7201a8"
            ],
            [
             0.3333333333333333,
             "#9c179e"
            ],
            [
             0.4444444444444444,
             "#bd3786"
            ],
            [
             0.5555555555555556,
             "#d8576b"
            ],
            [
             0.6666666666666666,
             "#ed7953"
            ],
            [
             0.7777777777777778,
             "#fb9f3a"
            ],
            [
             0.8888888888888888,
             "#fdca26"
            ],
            [
             1,
             "#f0f921"
            ]
           ],
           "sequentialminus": [
            [
             0,
             "#0d0887"
            ],
            [
             0.1111111111111111,
             "#46039f"
            ],
            [
             0.2222222222222222,
             "#7201a8"
            ],
            [
             0.3333333333333333,
             "#9c179e"
            ],
            [
             0.4444444444444444,
             "#bd3786"
            ],
            [
             0.5555555555555556,
             "#d8576b"
            ],
            [
             0.6666666666666666,
             "#ed7953"
            ],
            [
             0.7777777777777778,
             "#fb9f3a"
            ],
            [
             0.8888888888888888,
             "#fdca26"
            ],
            [
             1,
             "#f0f921"
            ]
           ]
          },
          "colorway": [
           "#636efa",
           "#EF553B",
           "#00cc96",
           "#ab63fa",
           "#FFA15A",
           "#19d3f3",
           "#FF6692",
           "#B6E880",
           "#FF97FF",
           "#FECB52"
          ],
          "font": {
           "color": "#2a3f5f"
          },
          "geo": {
           "bgcolor": "white",
           "lakecolor": "white",
           "landcolor": "#E5ECF6",
           "showlakes": true,
           "showland": true,
           "subunitcolor": "white"
          },
          "hoverlabel": {
           "align": "left"
          },
          "hovermode": "closest",
          "mapbox": {
           "style": "light"
          },
          "paper_bgcolor": "white",
          "plot_bgcolor": "#E5ECF6",
          "polar": {
           "angularaxis": {
            "gridcolor": "white",
            "linecolor": "white",
            "ticks": ""
           },
           "bgcolor": "#E5ECF6",
           "radialaxis": {
            "gridcolor": "white",
            "linecolor": "white",
            "ticks": ""
           }
          },
          "scene": {
           "xaxis": {
            "backgroundcolor": "#E5ECF6",
            "gridcolor": "white",
            "gridwidth": 2,
            "linecolor": "white",
            "showbackground": true,
            "ticks": "",
            "zerolinecolor": "white"
           },
           "yaxis": {
            "backgroundcolor": "#E5ECF6",
            "gridcolor": "white",
            "gridwidth": 2,
            "linecolor": "white",
            "showbackground": true,
            "ticks": "",
            "zerolinecolor": "white"
           },
           "zaxis": {
            "backgroundcolor": "#E5ECF6",
            "gridcolor": "white",
            "gridwidth": 2,
            "linecolor": "white",
            "showbackground": true,
            "ticks": "",
            "zerolinecolor": "white"
           }
          },
          "shapedefaults": {
           "line": {
            "color": "#2a3f5f"
           }
          },
          "ternary": {
           "aaxis": {
            "gridcolor": "white",
            "linecolor": "white",
            "ticks": ""
           },
           "baxis": {
            "gridcolor": "white",
            "linecolor": "white",
            "ticks": ""
           },
           "bgcolor": "#E5ECF6",
           "caxis": {
            "gridcolor": "white",
            "linecolor": "white",
            "ticks": ""
           }
          },
          "title": {
           "x": 0.05
          },
          "xaxis": {
           "automargin": true,
           "gridcolor": "white",
           "linecolor": "white",
           "ticks": "",
           "zerolinecolor": "white",
           "zerolinewidth": 2
          },
          "yaxis": {
           "automargin": true,
           "gridcolor": "white",
           "linecolor": "white",
           "ticks": "",
           "zerolinecolor": "white",
           "zerolinewidth": 2
          }
         }
        },
        "xaxis": {
         "anchor": "y",
         "domain": [
          0,
          0.98
         ],
         "title": {
          "text": "Year"
         }
        },
        "yaxis": {
         "anchor": "x",
         "domain": [
          0,
          1
         ],
         "title": {
          "text": "eFG%"
         }
        }
       }
      },
      "text/html": [
       "<div>\n",
       "        \n",
       "        \n",
       "            <div id=\"4544b264-8a5b-4b4c-83df-b80e6735289e\" class=\"plotly-graph-div\" style=\"height:600px; width:100%;\"></div>\n",
       "            <script type=\"text/javascript\">\n",
       "                require([\"plotly\"], function(Plotly) {\n",
       "                    window.PLOTLYENV=window.PLOTLYENV || {};\n",
       "                    \n",
       "                if (document.getElementById(\"4544b264-8a5b-4b4c-83df-b80e6735289e\")) {\n",
       "                    Plotly.newPlot(\n",
       "                        '4544b264-8a5b-4b4c-83df-b80e6735289e',\n",
       "                        [{\"alignmentgroup\": \"True\", \"hoverlabel\": {\"namelength\": 0}, \"hovertemplate\": \"Year=%{x}<br>eFG%=%{y}\", \"legendgroup\": \"\", \"marker\": {\"color\": \"#636efa\"}, \"name\": \"\", \"offsetgroup\": \"\", \"orientation\": \"v\", \"showlegend\": false, \"textposition\": \"auto\", \"type\": \"bar\", \"x\": [2000.0, 2001.0, 2002.0, 2003.0, 2004.0, 2005.0, 2006.0, 2007.0, 2008.0, 2009.0, 2010.0, 2011.0, 2012.0, 2013.0, 2014.0, 2015.0, 2016.0, 2017.0, 2018.0], \"xaxis\": \"x\", \"y\": [0.46915223880597007, 0.4715885885885889, 0.4673072289156623, 0.4659765395894429, 0.4776221590909089, 0.48479228486646886, 0.49450292397660806, 0.4890551378446124, 0.4959501466275663, 0.5002795389048986, 0.4976250000000001, 0.48423011363636376, 0.4950580110497242, 0.5009515669515667, 0.49469656992084426, 0.5020189189189188, 0.5119032258064514, 0.5211639784946238, 0.5222624671916003], \"yaxis\": \"y\"}],\n",
       "                        {\"barmode\": \"relative\", \"height\": 600, \"legend\": {\"tracegroupgap\": 0}, \"margin\": {\"t\": 60}, \"template\": {\"data\": {\"bar\": [{\"error_x\": {\"color\": \"#2a3f5f\"}, \"error_y\": {\"color\": \"#2a3f5f\"}, \"marker\": {\"line\": {\"color\": \"#E5ECF6\", \"width\": 0.5}}, \"type\": \"bar\"}], \"barpolar\": [{\"marker\": {\"line\": {\"color\": \"#E5ECF6\", \"width\": 0.5}}, \"type\": \"barpolar\"}], \"carpet\": [{\"aaxis\": {\"endlinecolor\": \"#2a3f5f\", \"gridcolor\": \"white\", \"linecolor\": \"white\", \"minorgridcolor\": \"white\", \"startlinecolor\": \"#2a3f5f\"}, \"baxis\": {\"endlinecolor\": \"#2a3f5f\", \"gridcolor\": \"white\", \"linecolor\": \"white\", \"minorgridcolor\": \"white\", \"startlinecolor\": \"#2a3f5f\"}, \"type\": \"carpet\"}], \"choropleth\": [{\"colorbar\": {\"outlinewidth\": 0, \"ticks\": \"\"}, \"type\": \"choropleth\"}], \"contour\": [{\"colorbar\": {\"outlinewidth\": 0, \"ticks\": \"\"}, \"colorscale\": [[0.0, \"#0d0887\"], [0.1111111111111111, \"#46039f\"], [0.2222222222222222, \"#7201a8\"], [0.3333333333333333, \"#9c179e\"], [0.4444444444444444, \"#bd3786\"], [0.5555555555555556, \"#d8576b\"], [0.6666666666666666, \"#ed7953\"], [0.7777777777777778, \"#fb9f3a\"], [0.8888888888888888, \"#fdca26\"], [1.0, \"#f0f921\"]], \"type\": \"contour\"}], \"contourcarpet\": [{\"colorbar\": {\"outlinewidth\": 0, \"ticks\": \"\"}, \"type\": \"contourcarpet\"}], \"heatmap\": [{\"colorbar\": {\"outlinewidth\": 0, \"ticks\": \"\"}, \"colorscale\": [[0.0, \"#0d0887\"], [0.1111111111111111, \"#46039f\"], [0.2222222222222222, \"#7201a8\"], [0.3333333333333333, \"#9c179e\"], [0.4444444444444444, \"#bd3786\"], [0.5555555555555556, \"#d8576b\"], [0.6666666666666666, \"#ed7953\"], [0.7777777777777778, \"#fb9f3a\"], [0.8888888888888888, \"#fdca26\"], [1.0, \"#f0f921\"]], \"type\": \"heatmap\"}], \"heatmapgl\": [{\"colorbar\": {\"outlinewidth\": 0, \"ticks\": \"\"}, \"colorscale\": [[0.0, \"#0d0887\"], [0.1111111111111111, \"#46039f\"], [0.2222222222222222, \"#7201a8\"], [0.3333333333333333, \"#9c179e\"], [0.4444444444444444, \"#bd3786\"], [0.5555555555555556, \"#d8576b\"], [0.6666666666666666, \"#ed7953\"], [0.7777777777777778, \"#fb9f3a\"], [0.8888888888888888, \"#fdca26\"], [1.0, \"#f0f921\"]], \"type\": \"heatmapgl\"}], \"histogram\": [{\"marker\": {\"colorbar\": {\"outlinewidth\": 0, \"ticks\": \"\"}}, \"type\": \"histogram\"}], \"histogram2d\": [{\"colorbar\": {\"outlinewidth\": 0, \"ticks\": \"\"}, \"colorscale\": [[0.0, \"#0d0887\"], [0.1111111111111111, \"#46039f\"], [0.2222222222222222, \"#7201a8\"], [0.3333333333333333, \"#9c179e\"], [0.4444444444444444, \"#bd3786\"], [0.5555555555555556, \"#d8576b\"], [0.6666666666666666, \"#ed7953\"], [0.7777777777777778, \"#fb9f3a\"], [0.8888888888888888, \"#fdca26\"], [1.0, \"#f0f921\"]], \"type\": \"histogram2d\"}], \"histogram2dcontour\": [{\"colorbar\": {\"outlinewidth\": 0, \"ticks\": \"\"}, \"colorscale\": [[0.0, \"#0d0887\"], [0.1111111111111111, \"#46039f\"], [0.2222222222222222, \"#7201a8\"], [0.3333333333333333, \"#9c179e\"], [0.4444444444444444, \"#bd3786\"], [0.5555555555555556, \"#d8576b\"], [0.6666666666666666, \"#ed7953\"], [0.7777777777777778, \"#fb9f3a\"], [0.8888888888888888, \"#fdca26\"], [1.0, \"#f0f921\"]], \"type\": \"histogram2dcontour\"}], \"mesh3d\": [{\"colorbar\": {\"outlinewidth\": 0, \"ticks\": \"\"}, \"type\": \"mesh3d\"}], \"parcoords\": [{\"line\": {\"colorbar\": {\"outlinewidth\": 0, \"ticks\": \"\"}}, \"type\": \"parcoords\"}], \"scatter\": [{\"marker\": {\"colorbar\": {\"outlinewidth\": 0, \"ticks\": \"\"}}, \"type\": \"scatter\"}], \"scatter3d\": [{\"line\": {\"colorbar\": {\"outlinewidth\": 0, \"ticks\": \"\"}}, \"marker\": {\"colorbar\": {\"outlinewidth\": 0, \"ticks\": \"\"}}, \"type\": \"scatter3d\"}], \"scattercarpet\": [{\"marker\": {\"colorbar\": {\"outlinewidth\": 0, \"ticks\": \"\"}}, \"type\": \"scattercarpet\"}], \"scattergeo\": [{\"marker\": {\"colorbar\": {\"outlinewidth\": 0, \"ticks\": \"\"}}, \"type\": \"scattergeo\"}], \"scattergl\": [{\"marker\": {\"colorbar\": {\"outlinewidth\": 0, \"ticks\": \"\"}}, \"type\": \"scattergl\"}], \"scattermapbox\": [{\"marker\": {\"colorbar\": {\"outlinewidth\": 0, \"ticks\": \"\"}}, \"type\": \"scattermapbox\"}], \"scatterpolar\": [{\"marker\": {\"colorbar\": {\"outlinewidth\": 0, \"ticks\": \"\"}}, \"type\": \"scatterpolar\"}], \"scatterpolargl\": [{\"marker\": {\"colorbar\": {\"outlinewidth\": 0, \"ticks\": \"\"}}, \"type\": \"scatterpolargl\"}], \"scatterternary\": [{\"marker\": {\"colorbar\": {\"outlinewidth\": 0, \"ticks\": \"\"}}, \"type\": \"scatterternary\"}], \"surface\": [{\"colorbar\": {\"outlinewidth\": 0, \"ticks\": \"\"}, \"colorscale\": [[0.0, \"#0d0887\"], [0.1111111111111111, \"#46039f\"], [0.2222222222222222, \"#7201a8\"], [0.3333333333333333, \"#9c179e\"], [0.4444444444444444, \"#bd3786\"], [0.5555555555555556, \"#d8576b\"], [0.6666666666666666, \"#ed7953\"], [0.7777777777777778, \"#fb9f3a\"], [0.8888888888888888, \"#fdca26\"], [1.0, \"#f0f921\"]], \"type\": \"surface\"}], \"table\": [{\"cells\": {\"fill\": {\"color\": \"#EBF0F8\"}, \"line\": {\"color\": \"white\"}}, \"header\": {\"fill\": {\"color\": \"#C8D4E3\"}, \"line\": {\"color\": \"white\"}}, \"type\": \"table\"}]}, \"layout\": {\"annotationdefaults\": {\"arrowcolor\": \"#2a3f5f\", \"arrowhead\": 0, \"arrowwidth\": 1}, \"colorscale\": {\"diverging\": [[0, \"#8e0152\"], [0.1, \"#c51b7d\"], [0.2, \"#de77ae\"], [0.3, \"#f1b6da\"], [0.4, \"#fde0ef\"], [0.5, \"#f7f7f7\"], [0.6, \"#e6f5d0\"], [0.7, \"#b8e186\"], [0.8, \"#7fbc41\"], [0.9, \"#4d9221\"], [1, \"#276419\"]], \"sequential\": [[0.0, \"#0d0887\"], [0.1111111111111111, \"#46039f\"], [0.2222222222222222, \"#7201a8\"], [0.3333333333333333, \"#9c179e\"], [0.4444444444444444, \"#bd3786\"], [0.5555555555555556, \"#d8576b\"], [0.6666666666666666, \"#ed7953\"], [0.7777777777777778, \"#fb9f3a\"], [0.8888888888888888, \"#fdca26\"], [1.0, \"#f0f921\"]], \"sequentialminus\": [[0.0, \"#0d0887\"], [0.1111111111111111, \"#46039f\"], [0.2222222222222222, \"#7201a8\"], [0.3333333333333333, \"#9c179e\"], [0.4444444444444444, \"#bd3786\"], [0.5555555555555556, \"#d8576b\"], [0.6666666666666666, \"#ed7953\"], [0.7777777777777778, \"#fb9f3a\"], [0.8888888888888888, \"#fdca26\"], [1.0, \"#f0f921\"]]}, \"colorway\": [\"#636efa\", \"#EF553B\", \"#00cc96\", \"#ab63fa\", \"#FFA15A\", \"#19d3f3\", \"#FF6692\", \"#B6E880\", \"#FF97FF\", \"#FECB52\"], \"font\": {\"color\": \"#2a3f5f\"}, \"geo\": {\"bgcolor\": \"white\", \"lakecolor\": \"white\", \"landcolor\": \"#E5ECF6\", \"showlakes\": true, \"showland\": true, \"subunitcolor\": \"white\"}, \"hoverlabel\": {\"align\": \"left\"}, \"hovermode\": \"closest\", \"mapbox\": {\"style\": \"light\"}, \"paper_bgcolor\": \"white\", \"plot_bgcolor\": \"#E5ECF6\", \"polar\": {\"angularaxis\": {\"gridcolor\": \"white\", \"linecolor\": \"white\", \"ticks\": \"\"}, \"bgcolor\": \"#E5ECF6\", \"radialaxis\": {\"gridcolor\": \"white\", \"linecolor\": \"white\", \"ticks\": \"\"}}, \"scene\": {\"xaxis\": {\"backgroundcolor\": \"#E5ECF6\", \"gridcolor\": \"white\", \"gridwidth\": 2, \"linecolor\": \"white\", \"showbackground\": true, \"ticks\": \"\", \"zerolinecolor\": \"white\"}, \"yaxis\": {\"backgroundcolor\": \"#E5ECF6\", \"gridcolor\": \"white\", \"gridwidth\": 2, \"linecolor\": \"white\", \"showbackground\": true, \"ticks\": \"\", \"zerolinecolor\": \"white\"}, \"zaxis\": {\"backgroundcolor\": \"#E5ECF6\", \"gridcolor\": \"white\", \"gridwidth\": 2, \"linecolor\": \"white\", \"showbackground\": true, \"ticks\": \"\", \"zerolinecolor\": \"white\"}}, \"shapedefaults\": {\"line\": {\"color\": \"#2a3f5f\"}}, \"ternary\": {\"aaxis\": {\"gridcolor\": \"white\", \"linecolor\": \"white\", \"ticks\": \"\"}, \"baxis\": {\"gridcolor\": \"white\", \"linecolor\": \"white\", \"ticks\": \"\"}, \"bgcolor\": \"#E5ECF6\", \"caxis\": {\"gridcolor\": \"white\", \"linecolor\": \"white\", \"ticks\": \"\"}}, \"title\": {\"x\": 0.05}, \"xaxis\": {\"automargin\": true, \"gridcolor\": \"white\", \"linecolor\": \"white\", \"ticks\": \"\", \"zerolinecolor\": \"white\", \"zerolinewidth\": 2}, \"yaxis\": {\"automargin\": true, \"gridcolor\": \"white\", \"linecolor\": \"white\", \"ticks\": \"\", \"zerolinecolor\": \"white\", \"zerolinewidth\": 2}}}, \"xaxis\": {\"anchor\": \"y\", \"domain\": [0.0, 0.98], \"title\": {\"text\": \"Year\"}}, \"yaxis\": {\"anchor\": \"x\", \"domain\": [0.0, 1.0], \"title\": {\"text\": \"eFG%\"}}},\n",
       "                        {\"responsive\": true}\n",
       "                    ).then(function(){\n",
       "                            \n",
       "var gd = document.getElementById('4544b264-8a5b-4b4c-83df-b80e6735289e');\n",
       "var x = new MutationObserver(function (mutations, observer) {{\n",
       "        var display = window.getComputedStyle(gd).display;\n",
       "        if (!display || display === 'none') {{\n",
       "            console.log([gd, 'removed!']);\n",
       "            Plotly.purge(gd);\n",
       "            observer.disconnect();\n",
       "        }}\n",
       "}});\n",
       "\n",
       "// Listen for the removal of the full notebook cells\n",
       "var notebookContainer = gd.closest('#notebook-container');\n",
       "if (notebookContainer) {{\n",
       "    x.observe(notebookContainer, {childList: true});\n",
       "}}\n",
       "\n",
       "// Listen for the clearing of the current output cell\n",
       "var outputEl = gd.closest('.output');\n",
       "if (outputEl) {{\n",
       "    x.observe(outputEl, {childList: true});\n",
       "}}\n",
       "\n",
       "                        })\n",
       "                };\n",
       "                });\n",
       "            </script>\n",
       "        </div>"
      ]
     },
     "metadata": {},
     "output_type": "display_data"
    }
   ],
   "source": [
    "fig = px.bar(dftest2, x='Year', y='eFG%')\n",
    "fig.show()"
   ]
  },
  {
   "cell_type": "code",
   "execution_count": 127,
   "metadata": {},
   "outputs": [
    {
     "data": {
      "application/vnd.plotly.v1+json": {
       "config": {
        "plotlyServerURL": "https://plot.ly"
       },
       "data": [
        {
         "alignmentgroup": "True",
         "hoverlabel": {
          "namelength": 0
         },
         "hovertemplate": "Year=%{x}<br>DRtg=%{y}",
         "legendgroup": "",
         "marker": {
          "color": "#636efa"
         },
         "name": "",
         "offsetgroup": "",
         "orientation": "v",
         "showlegend": false,
         "textposition": "auto",
         "type": "bar",
         "x": [
          2000,
          2001,
          2002,
          2003,
          2004,
          2005,
          2006,
          2007,
          2008,
          2009,
          2010,
          2011,
          2012,
          2013,
          2014,
          2015,
          2016,
          2017,
          2018
         ],
         "xaxis": "x",
         "y": [
          103.44179104477612,
          104.97297297297297,
          103.86144578313252,
          103.14956011730206,
          106.31818181818181,
          106.24629080118694,
          106.5906432748538,
          107.69924812030075,
          108.41642228739003,
          107.85302593659942,
          107.46944444444445,
          104.92329545454545,
          106.22651933701657,
          106.9031339031339,
          105.95250659630607,
          106.62162162162163,
          108.91129032258064,
          108.84677419354838,
          110.74803149606299
         ],
         "yaxis": "y"
        }
       ],
       "layout": {
        "barmode": "relative",
        "height": 600,
        "legend": {
         "tracegroupgap": 0
        },
        "margin": {
         "t": 60
        },
        "template": {
         "data": {
          "bar": [
           {
            "error_x": {
             "color": "#2a3f5f"
            },
            "error_y": {
             "color": "#2a3f5f"
            },
            "marker": {
             "line": {
              "color": "#E5ECF6",
              "width": 0.5
             }
            },
            "type": "bar"
           }
          ],
          "barpolar": [
           {
            "marker": {
             "line": {
              "color": "#E5ECF6",
              "width": 0.5
             }
            },
            "type": "barpolar"
           }
          ],
          "carpet": [
           {
            "aaxis": {
             "endlinecolor": "#2a3f5f",
             "gridcolor": "white",
             "linecolor": "white",
             "minorgridcolor": "white",
             "startlinecolor": "#2a3f5f"
            },
            "baxis": {
             "endlinecolor": "#2a3f5f",
             "gridcolor": "white",
             "linecolor": "white",
             "minorgridcolor": "white",
             "startlinecolor": "#2a3f5f"
            },
            "type": "carpet"
           }
          ],
          "choropleth": [
           {
            "colorbar": {
             "outlinewidth": 0,
             "ticks": ""
            },
            "type": "choropleth"
           }
          ],
          "contour": [
           {
            "colorbar": {
             "outlinewidth": 0,
             "ticks": ""
            },
            "colorscale": [
             [
              0,
              "#0d0887"
             ],
             [
              0.1111111111111111,
              "#46039f"
             ],
             [
              0.2222222222222222,
              "#7201a8"
             ],
             [
              0.3333333333333333,
              "#9c179e"
             ],
             [
              0.4444444444444444,
              "#bd3786"
             ],
             [
              0.5555555555555556,
              "#d8576b"
             ],
             [
              0.6666666666666666,
              "#ed7953"
             ],
             [
              0.7777777777777778,
              "#fb9f3a"
             ],
             [
              0.8888888888888888,
              "#fdca26"
             ],
             [
              1,
              "#f0f921"
             ]
            ],
            "type": "contour"
           }
          ],
          "contourcarpet": [
           {
            "colorbar": {
             "outlinewidth": 0,
             "ticks": ""
            },
            "type": "contourcarpet"
           }
          ],
          "heatmap": [
           {
            "colorbar": {
             "outlinewidth": 0,
             "ticks": ""
            },
            "colorscale": [
             [
              0,
              "#0d0887"
             ],
             [
              0.1111111111111111,
              "#46039f"
             ],
             [
              0.2222222222222222,
              "#7201a8"
             ],
             [
              0.3333333333333333,
              "#9c179e"
             ],
             [
              0.4444444444444444,
              "#bd3786"
             ],
             [
              0.5555555555555556,
              "#d8576b"
             ],
             [
              0.6666666666666666,
              "#ed7953"
             ],
             [
              0.7777777777777778,
              "#fb9f3a"
             ],
             [
              0.8888888888888888,
              "#fdca26"
             ],
             [
              1,
              "#f0f921"
             ]
            ],
            "type": "heatmap"
           }
          ],
          "heatmapgl": [
           {
            "colorbar": {
             "outlinewidth": 0,
             "ticks": ""
            },
            "colorscale": [
             [
              0,
              "#0d0887"
             ],
             [
              0.1111111111111111,
              "#46039f"
             ],
             [
              0.2222222222222222,
              "#7201a8"
             ],
             [
              0.3333333333333333,
              "#9c179e"
             ],
             [
              0.4444444444444444,
              "#bd3786"
             ],
             [
              0.5555555555555556,
              "#d8576b"
             ],
             [
              0.6666666666666666,
              "#ed7953"
             ],
             [
              0.7777777777777778,
              "#fb9f3a"
             ],
             [
              0.8888888888888888,
              "#fdca26"
             ],
             [
              1,
              "#f0f921"
             ]
            ],
            "type": "heatmapgl"
           }
          ],
          "histogram": [
           {
            "marker": {
             "colorbar": {
              "outlinewidth": 0,
              "ticks": ""
             }
            },
            "type": "histogram"
           }
          ],
          "histogram2d": [
           {
            "colorbar": {
             "outlinewidth": 0,
             "ticks": ""
            },
            "colorscale": [
             [
              0,
              "#0d0887"
             ],
             [
              0.1111111111111111,
              "#46039f"
             ],
             [
              0.2222222222222222,
              "#7201a8"
             ],
             [
              0.3333333333333333,
              "#9c179e"
             ],
             [
              0.4444444444444444,
              "#bd3786"
             ],
             [
              0.5555555555555556,
              "#d8576b"
             ],
             [
              0.6666666666666666,
              "#ed7953"
             ],
             [
              0.7777777777777778,
              "#fb9f3a"
             ],
             [
              0.8888888888888888,
              "#fdca26"
             ],
             [
              1,
              "#f0f921"
             ]
            ],
            "type": "histogram2d"
           }
          ],
          "histogram2dcontour": [
           {
            "colorbar": {
             "outlinewidth": 0,
             "ticks": ""
            },
            "colorscale": [
             [
              0,
              "#0d0887"
             ],
             [
              0.1111111111111111,
              "#46039f"
             ],
             [
              0.2222222222222222,
              "#7201a8"
             ],
             [
              0.3333333333333333,
              "#9c179e"
             ],
             [
              0.4444444444444444,
              "#bd3786"
             ],
             [
              0.5555555555555556,
              "#d8576b"
             ],
             [
              0.6666666666666666,
              "#ed7953"
             ],
             [
              0.7777777777777778,
              "#fb9f3a"
             ],
             [
              0.8888888888888888,
              "#fdca26"
             ],
             [
              1,
              "#f0f921"
             ]
            ],
            "type": "histogram2dcontour"
           }
          ],
          "mesh3d": [
           {
            "colorbar": {
             "outlinewidth": 0,
             "ticks": ""
            },
            "type": "mesh3d"
           }
          ],
          "parcoords": [
           {
            "line": {
             "colorbar": {
              "outlinewidth": 0,
              "ticks": ""
             }
            },
            "type": "parcoords"
           }
          ],
          "scatter": [
           {
            "marker": {
             "colorbar": {
              "outlinewidth": 0,
              "ticks": ""
             }
            },
            "type": "scatter"
           }
          ],
          "scatter3d": [
           {
            "line": {
             "colorbar": {
              "outlinewidth": 0,
              "ticks": ""
             }
            },
            "marker": {
             "colorbar": {
              "outlinewidth": 0,
              "ticks": ""
             }
            },
            "type": "scatter3d"
           }
          ],
          "scattercarpet": [
           {
            "marker": {
             "colorbar": {
              "outlinewidth": 0,
              "ticks": ""
             }
            },
            "type": "scattercarpet"
           }
          ],
          "scattergeo": [
           {
            "marker": {
             "colorbar": {
              "outlinewidth": 0,
              "ticks": ""
             }
            },
            "type": "scattergeo"
           }
          ],
          "scattergl": [
           {
            "marker": {
             "colorbar": {
              "outlinewidth": 0,
              "ticks": ""
             }
            },
            "type": "scattergl"
           }
          ],
          "scattermapbox": [
           {
            "marker": {
             "colorbar": {
              "outlinewidth": 0,
              "ticks": ""
             }
            },
            "type": "scattermapbox"
           }
          ],
          "scatterpolar": [
           {
            "marker": {
             "colorbar": {
              "outlinewidth": 0,
              "ticks": ""
             }
            },
            "type": "scatterpolar"
           }
          ],
          "scatterpolargl": [
           {
            "marker": {
             "colorbar": {
              "outlinewidth": 0,
              "ticks": ""
             }
            },
            "type": "scatterpolargl"
           }
          ],
          "scatterternary": [
           {
            "marker": {
             "colorbar": {
              "outlinewidth": 0,
              "ticks": ""
             }
            },
            "type": "scatterternary"
           }
          ],
          "surface": [
           {
            "colorbar": {
             "outlinewidth": 0,
             "ticks": ""
            },
            "colorscale": [
             [
              0,
              "#0d0887"
             ],
             [
              0.1111111111111111,
              "#46039f"
             ],
             [
              0.2222222222222222,
              "#7201a8"
             ],
             [
              0.3333333333333333,
              "#9c179e"
             ],
             [
              0.4444444444444444,
              "#bd3786"
             ],
             [
              0.5555555555555556,
              "#d8576b"
             ],
             [
              0.6666666666666666,
              "#ed7953"
             ],
             [
              0.7777777777777778,
              "#fb9f3a"
             ],
             [
              0.8888888888888888,
              "#fdca26"
             ],
             [
              1,
              "#f0f921"
             ]
            ],
            "type": "surface"
           }
          ],
          "table": [
           {
            "cells": {
             "fill": {
              "color": "#EBF0F8"
             },
             "line": {
              "color": "white"
             }
            },
            "header": {
             "fill": {
              "color": "#C8D4E3"
             },
             "line": {
              "color": "white"
             }
            },
            "type": "table"
           }
          ]
         },
         "layout": {
          "annotationdefaults": {
           "arrowcolor": "#2a3f5f",
           "arrowhead": 0,
           "arrowwidth": 1
          },
          "colorscale": {
           "diverging": [
            [
             0,
             "#8e0152"
            ],
            [
             0.1,
             "#c51b7d"
            ],
            [
             0.2,
             "#de77ae"
            ],
            [
             0.3,
             "#f1b6da"
            ],
            [
             0.4,
             "#fde0ef"
            ],
            [
             0.5,
             "#f7f7f7"
            ],
            [
             0.6,
             "#e6f5d0"
            ],
            [
             0.7,
             "#b8e186"
            ],
            [
             0.8,
             "#7fbc41"
            ],
            [
             0.9,
             "#4d9221"
            ],
            [
             1,
             "#276419"
            ]
           ],
           "sequential": [
            [
             0,
             "#0d0887"
            ],
            [
             0.1111111111111111,
             "#46039f"
            ],
            [
             0.2222222222222222,
             "#7201a8"
            ],
            [
             0.3333333333333333,
             "#9c179e"
            ],
            [
             0.4444444444444444,
             "#bd3786"
            ],
            [
             0.5555555555555556,
             "#d8576b"
            ],
            [
             0.6666666666666666,
             "#ed7953"
            ],
            [
             0.7777777777777778,
             "#fb9f3a"
            ],
            [
             0.8888888888888888,
             "#fdca26"
            ],
            [
             1,
             "#f0f921"
            ]
           ],
           "sequentialminus": [
            [
             0,
             "#0d0887"
            ],
            [
             0.1111111111111111,
             "#46039f"
            ],
            [
             0.2222222222222222,
             "#7201a8"
            ],
            [
             0.3333333333333333,
             "#9c179e"
            ],
            [
             0.4444444444444444,
             "#bd3786"
            ],
            [
             0.5555555555555556,
             "#d8576b"
            ],
            [
             0.6666666666666666,
             "#ed7953"
            ],
            [
             0.7777777777777778,
             "#fb9f3a"
            ],
            [
             0.8888888888888888,
             "#fdca26"
            ],
            [
             1,
             "#f0f921"
            ]
           ]
          },
          "colorway": [
           "#636efa",
           "#EF553B",
           "#00cc96",
           "#ab63fa",
           "#FFA15A",
           "#19d3f3",
           "#FF6692",
           "#B6E880",
           "#FF97FF",
           "#FECB52"
          ],
          "font": {
           "color": "#2a3f5f"
          },
          "geo": {
           "bgcolor": "white",
           "lakecolor": "white",
           "landcolor": "#E5ECF6",
           "showlakes": true,
           "showland": true,
           "subunitcolor": "white"
          },
          "hoverlabel": {
           "align": "left"
          },
          "hovermode": "closest",
          "mapbox": {
           "style": "light"
          },
          "paper_bgcolor": "white",
          "plot_bgcolor": "#E5ECF6",
          "polar": {
           "angularaxis": {
            "gridcolor": "white",
            "linecolor": "white",
            "ticks": ""
           },
           "bgcolor": "#E5ECF6",
           "radialaxis": {
            "gridcolor": "white",
            "linecolor": "white",
            "ticks": ""
           }
          },
          "scene": {
           "xaxis": {
            "backgroundcolor": "#E5ECF6",
            "gridcolor": "white",
            "gridwidth": 2,
            "linecolor": "white",
            "showbackground": true,
            "ticks": "",
            "zerolinecolor": "white"
           },
           "yaxis": {
            "backgroundcolor": "#E5ECF6",
            "gridcolor": "white",
            "gridwidth": 2,
            "linecolor": "white",
            "showbackground": true,
            "ticks": "",
            "zerolinecolor": "white"
           },
           "zaxis": {
            "backgroundcolor": "#E5ECF6",
            "gridcolor": "white",
            "gridwidth": 2,
            "linecolor": "white",
            "showbackground": true,
            "ticks": "",
            "zerolinecolor": "white"
           }
          },
          "shapedefaults": {
           "line": {
            "color": "#2a3f5f"
           }
          },
          "ternary": {
           "aaxis": {
            "gridcolor": "white",
            "linecolor": "white",
            "ticks": ""
           },
           "baxis": {
            "gridcolor": "white",
            "linecolor": "white",
            "ticks": ""
           },
           "bgcolor": "#E5ECF6",
           "caxis": {
            "gridcolor": "white",
            "linecolor": "white",
            "ticks": ""
           }
          },
          "title": {
           "x": 0.05
          },
          "xaxis": {
           "automargin": true,
           "gridcolor": "white",
           "linecolor": "white",
           "ticks": "",
           "zerolinecolor": "white",
           "zerolinewidth": 2
          },
          "yaxis": {
           "automargin": true,
           "gridcolor": "white",
           "linecolor": "white",
           "ticks": "",
           "zerolinecolor": "white",
           "zerolinewidth": 2
          }
         }
        },
        "xaxis": {
         "anchor": "y",
         "domain": [
          0,
          0.98
         ],
         "title": {
          "text": "Year"
         }
        },
        "yaxis": {
         "anchor": "x",
         "domain": [
          0,
          1
         ],
         "title": {
          "text": "DRtg"
         }
        }
       }
      },
      "text/html": [
       "<div>\n",
       "        \n",
       "        \n",
       "            <div id=\"449aa747-5185-4f3f-8d05-da942a91c990\" class=\"plotly-graph-div\" style=\"height:600px; width:100%;\"></div>\n",
       "            <script type=\"text/javascript\">\n",
       "                require([\"plotly\"], function(Plotly) {\n",
       "                    window.PLOTLYENV=window.PLOTLYENV || {};\n",
       "                    \n",
       "                if (document.getElementById(\"449aa747-5185-4f3f-8d05-da942a91c990\")) {\n",
       "                    Plotly.newPlot(\n",
       "                        '449aa747-5185-4f3f-8d05-da942a91c990',\n",
       "                        [{\"alignmentgroup\": \"True\", \"hoverlabel\": {\"namelength\": 0}, \"hovertemplate\": \"Year=%{x}<br>DRtg=%{y}\", \"legendgroup\": \"\", \"marker\": {\"color\": \"#636efa\"}, \"name\": \"\", \"offsetgroup\": \"\", \"orientation\": \"v\", \"showlegend\": false, \"textposition\": \"auto\", \"type\": \"bar\", \"x\": [2000.0, 2001.0, 2002.0, 2003.0, 2004.0, 2005.0, 2006.0, 2007.0, 2008.0, 2009.0, 2010.0, 2011.0, 2012.0, 2013.0, 2014.0, 2015.0, 2016.0, 2017.0, 2018.0], \"xaxis\": \"x\", \"y\": [103.44179104477612, 104.97297297297297, 103.86144578313252, 103.14956011730206, 106.31818181818181, 106.24629080118694, 106.5906432748538, 107.69924812030075, 108.41642228739003, 107.85302593659942, 107.46944444444445, 104.92329545454545, 106.22651933701657, 106.9031339031339, 105.95250659630607, 106.62162162162163, 108.91129032258064, 108.84677419354838, 110.74803149606299], \"yaxis\": \"y\"}],\n",
       "                        {\"barmode\": \"relative\", \"height\": 600, \"legend\": {\"tracegroupgap\": 0}, \"margin\": {\"t\": 60}, \"template\": {\"data\": {\"bar\": [{\"error_x\": {\"color\": \"#2a3f5f\"}, \"error_y\": {\"color\": \"#2a3f5f\"}, \"marker\": {\"line\": {\"color\": \"#E5ECF6\", \"width\": 0.5}}, \"type\": \"bar\"}], \"barpolar\": [{\"marker\": {\"line\": {\"color\": \"#E5ECF6\", \"width\": 0.5}}, \"type\": \"barpolar\"}], \"carpet\": [{\"aaxis\": {\"endlinecolor\": \"#2a3f5f\", \"gridcolor\": \"white\", \"linecolor\": \"white\", \"minorgridcolor\": \"white\", \"startlinecolor\": \"#2a3f5f\"}, \"baxis\": {\"endlinecolor\": \"#2a3f5f\", \"gridcolor\": \"white\", \"linecolor\": \"white\", \"minorgridcolor\": \"white\", \"startlinecolor\": \"#2a3f5f\"}, \"type\": \"carpet\"}], \"choropleth\": [{\"colorbar\": {\"outlinewidth\": 0, \"ticks\": \"\"}, \"type\": \"choropleth\"}], \"contour\": [{\"colorbar\": {\"outlinewidth\": 0, \"ticks\": \"\"}, \"colorscale\": [[0.0, \"#0d0887\"], [0.1111111111111111, \"#46039f\"], [0.2222222222222222, \"#7201a8\"], [0.3333333333333333, \"#9c179e\"], [0.4444444444444444, \"#bd3786\"], [0.5555555555555556, \"#d8576b\"], [0.6666666666666666, \"#ed7953\"], [0.7777777777777778, \"#fb9f3a\"], [0.8888888888888888, \"#fdca26\"], [1.0, \"#f0f921\"]], \"type\": \"contour\"}], \"contourcarpet\": [{\"colorbar\": {\"outlinewidth\": 0, \"ticks\": \"\"}, \"type\": \"contourcarpet\"}], \"heatmap\": [{\"colorbar\": {\"outlinewidth\": 0, \"ticks\": \"\"}, \"colorscale\": [[0.0, \"#0d0887\"], [0.1111111111111111, \"#46039f\"], [0.2222222222222222, \"#7201a8\"], [0.3333333333333333, \"#9c179e\"], [0.4444444444444444, \"#bd3786\"], [0.5555555555555556, \"#d8576b\"], [0.6666666666666666, \"#ed7953\"], [0.7777777777777778, \"#fb9f3a\"], [0.8888888888888888, \"#fdca26\"], [1.0, \"#f0f921\"]], \"type\": \"heatmap\"}], \"heatmapgl\": [{\"colorbar\": {\"outlinewidth\": 0, \"ticks\": \"\"}, \"colorscale\": [[0.0, \"#0d0887\"], [0.1111111111111111, \"#46039f\"], [0.2222222222222222, \"#7201a8\"], [0.3333333333333333, \"#9c179e\"], [0.4444444444444444, \"#bd3786\"], [0.5555555555555556, \"#d8576b\"], [0.6666666666666666, \"#ed7953\"], [0.7777777777777778, \"#fb9f3a\"], [0.8888888888888888, \"#fdca26\"], [1.0, \"#f0f921\"]], \"type\": \"heatmapgl\"}], \"histogram\": [{\"marker\": {\"colorbar\": {\"outlinewidth\": 0, \"ticks\": \"\"}}, \"type\": \"histogram\"}], \"histogram2d\": [{\"colorbar\": {\"outlinewidth\": 0, \"ticks\": \"\"}, \"colorscale\": [[0.0, \"#0d0887\"], [0.1111111111111111, \"#46039f\"], [0.2222222222222222, \"#7201a8\"], [0.3333333333333333, \"#9c179e\"], [0.4444444444444444, \"#bd3786\"], [0.5555555555555556, \"#d8576b\"], [0.6666666666666666, \"#ed7953\"], [0.7777777777777778, \"#fb9f3a\"], [0.8888888888888888, \"#fdca26\"], [1.0, \"#f0f921\"]], \"type\": \"histogram2d\"}], \"histogram2dcontour\": [{\"colorbar\": {\"outlinewidth\": 0, \"ticks\": \"\"}, \"colorscale\": [[0.0, \"#0d0887\"], [0.1111111111111111, \"#46039f\"], [0.2222222222222222, \"#7201a8\"], [0.3333333333333333, \"#9c179e\"], [0.4444444444444444, \"#bd3786\"], [0.5555555555555556, \"#d8576b\"], [0.6666666666666666, \"#ed7953\"], [0.7777777777777778, \"#fb9f3a\"], [0.8888888888888888, \"#fdca26\"], [1.0, \"#f0f921\"]], \"type\": \"histogram2dcontour\"}], \"mesh3d\": [{\"colorbar\": {\"outlinewidth\": 0, \"ticks\": \"\"}, \"type\": \"mesh3d\"}], \"parcoords\": [{\"line\": {\"colorbar\": {\"outlinewidth\": 0, \"ticks\": \"\"}}, \"type\": \"parcoords\"}], \"scatter\": [{\"marker\": {\"colorbar\": {\"outlinewidth\": 0, \"ticks\": \"\"}}, \"type\": \"scatter\"}], \"scatter3d\": [{\"line\": {\"colorbar\": {\"outlinewidth\": 0, \"ticks\": \"\"}}, \"marker\": {\"colorbar\": {\"outlinewidth\": 0, \"ticks\": \"\"}}, \"type\": \"scatter3d\"}], \"scattercarpet\": [{\"marker\": {\"colorbar\": {\"outlinewidth\": 0, \"ticks\": \"\"}}, \"type\": \"scattercarpet\"}], \"scattergeo\": [{\"marker\": {\"colorbar\": {\"outlinewidth\": 0, \"ticks\": \"\"}}, \"type\": \"scattergeo\"}], \"scattergl\": [{\"marker\": {\"colorbar\": {\"outlinewidth\": 0, \"ticks\": \"\"}}, \"type\": \"scattergl\"}], \"scattermapbox\": [{\"marker\": {\"colorbar\": {\"outlinewidth\": 0, \"ticks\": \"\"}}, \"type\": \"scattermapbox\"}], \"scatterpolar\": [{\"marker\": {\"colorbar\": {\"outlinewidth\": 0, \"ticks\": \"\"}}, \"type\": \"scatterpolar\"}], \"scatterpolargl\": [{\"marker\": {\"colorbar\": {\"outlinewidth\": 0, \"ticks\": \"\"}}, \"type\": \"scatterpolargl\"}], \"scatterternary\": [{\"marker\": {\"colorbar\": {\"outlinewidth\": 0, \"ticks\": \"\"}}, \"type\": \"scatterternary\"}], \"surface\": [{\"colorbar\": {\"outlinewidth\": 0, \"ticks\": \"\"}, \"colorscale\": [[0.0, \"#0d0887\"], [0.1111111111111111, \"#46039f\"], [0.2222222222222222, \"#7201a8\"], [0.3333333333333333, \"#9c179e\"], [0.4444444444444444, \"#bd3786\"], [0.5555555555555556, \"#d8576b\"], [0.6666666666666666, \"#ed7953\"], [0.7777777777777778, \"#fb9f3a\"], [0.8888888888888888, \"#fdca26\"], [1.0, \"#f0f921\"]], \"type\": \"surface\"}], \"table\": [{\"cells\": {\"fill\": {\"color\": \"#EBF0F8\"}, \"line\": {\"color\": \"white\"}}, \"header\": {\"fill\": {\"color\": \"#C8D4E3\"}, \"line\": {\"color\": \"white\"}}, \"type\": \"table\"}]}, \"layout\": {\"annotationdefaults\": {\"arrowcolor\": \"#2a3f5f\", \"arrowhead\": 0, \"arrowwidth\": 1}, \"colorscale\": {\"diverging\": [[0, \"#8e0152\"], [0.1, \"#c51b7d\"], [0.2, \"#de77ae\"], [0.3, \"#f1b6da\"], [0.4, \"#fde0ef\"], [0.5, \"#f7f7f7\"], [0.6, \"#e6f5d0\"], [0.7, \"#b8e186\"], [0.8, \"#7fbc41\"], [0.9, \"#4d9221\"], [1, \"#276419\"]], \"sequential\": [[0.0, \"#0d0887\"], [0.1111111111111111, \"#46039f\"], [0.2222222222222222, \"#7201a8\"], [0.3333333333333333, \"#9c179e\"], [0.4444444444444444, \"#bd3786\"], [0.5555555555555556, \"#d8576b\"], [0.6666666666666666, \"#ed7953\"], [0.7777777777777778, \"#fb9f3a\"], [0.8888888888888888, \"#fdca26\"], [1.0, \"#f0f921\"]], \"sequentialminus\": [[0.0, \"#0d0887\"], [0.1111111111111111, \"#46039f\"], [0.2222222222222222, \"#7201a8\"], [0.3333333333333333, \"#9c179e\"], [0.4444444444444444, \"#bd3786\"], [0.5555555555555556, \"#d8576b\"], [0.6666666666666666, \"#ed7953\"], [0.7777777777777778, \"#fb9f3a\"], [0.8888888888888888, \"#fdca26\"], [1.0, \"#f0f921\"]]}, \"colorway\": [\"#636efa\", \"#EF553B\", \"#00cc96\", \"#ab63fa\", \"#FFA15A\", \"#19d3f3\", \"#FF6692\", \"#B6E880\", \"#FF97FF\", \"#FECB52\"], \"font\": {\"color\": \"#2a3f5f\"}, \"geo\": {\"bgcolor\": \"white\", \"lakecolor\": \"white\", \"landcolor\": \"#E5ECF6\", \"showlakes\": true, \"showland\": true, \"subunitcolor\": \"white\"}, \"hoverlabel\": {\"align\": \"left\"}, \"hovermode\": \"closest\", \"mapbox\": {\"style\": \"light\"}, \"paper_bgcolor\": \"white\", \"plot_bgcolor\": \"#E5ECF6\", \"polar\": {\"angularaxis\": {\"gridcolor\": \"white\", \"linecolor\": \"white\", \"ticks\": \"\"}, \"bgcolor\": \"#E5ECF6\", \"radialaxis\": {\"gridcolor\": \"white\", \"linecolor\": \"white\", \"ticks\": \"\"}}, \"scene\": {\"xaxis\": {\"backgroundcolor\": \"#E5ECF6\", \"gridcolor\": \"white\", \"gridwidth\": 2, \"linecolor\": \"white\", \"showbackground\": true, \"ticks\": \"\", \"zerolinecolor\": \"white\"}, \"yaxis\": {\"backgroundcolor\": \"#E5ECF6\", \"gridcolor\": \"white\", \"gridwidth\": 2, \"linecolor\": \"white\", \"showbackground\": true, \"ticks\": \"\", \"zerolinecolor\": \"white\"}, \"zaxis\": {\"backgroundcolor\": \"#E5ECF6\", \"gridcolor\": \"white\", \"gridwidth\": 2, \"linecolor\": \"white\", \"showbackground\": true, \"ticks\": \"\", \"zerolinecolor\": \"white\"}}, \"shapedefaults\": {\"line\": {\"color\": \"#2a3f5f\"}}, \"ternary\": {\"aaxis\": {\"gridcolor\": \"white\", \"linecolor\": \"white\", \"ticks\": \"\"}, \"baxis\": {\"gridcolor\": \"white\", \"linecolor\": \"white\", \"ticks\": \"\"}, \"bgcolor\": \"#E5ECF6\", \"caxis\": {\"gridcolor\": \"white\", \"linecolor\": \"white\", \"ticks\": \"\"}}, \"title\": {\"x\": 0.05}, \"xaxis\": {\"automargin\": true, \"gridcolor\": \"white\", \"linecolor\": \"white\", \"ticks\": \"\", \"zerolinecolor\": \"white\", \"zerolinewidth\": 2}, \"yaxis\": {\"automargin\": true, \"gridcolor\": \"white\", \"linecolor\": \"white\", \"ticks\": \"\", \"zerolinecolor\": \"white\", \"zerolinewidth\": 2}}}, \"xaxis\": {\"anchor\": \"y\", \"domain\": [0.0, 0.98], \"title\": {\"text\": \"Year\"}}, \"yaxis\": {\"anchor\": \"x\", \"domain\": [0.0, 1.0], \"title\": {\"text\": \"DRtg\"}}},\n",
       "                        {\"responsive\": true}\n",
       "                    ).then(function(){\n",
       "                            \n",
       "var gd = document.getElementById('449aa747-5185-4f3f-8d05-da942a91c990');\n",
       "var x = new MutationObserver(function (mutations, observer) {{\n",
       "        var display = window.getComputedStyle(gd).display;\n",
       "        if (!display || display === 'none') {{\n",
       "            console.log([gd, 'removed!']);\n",
       "            Plotly.purge(gd);\n",
       "            observer.disconnect();\n",
       "        }}\n",
       "}});\n",
       "\n",
       "// Listen for the removal of the full notebook cells\n",
       "var notebookContainer = gd.closest('#notebook-container');\n",
       "if (notebookContainer) {{\n",
       "    x.observe(notebookContainer, {childList: true});\n",
       "}}\n",
       "\n",
       "// Listen for the clearing of the current output cell\n",
       "var outputEl = gd.closest('.output');\n",
       "if (outputEl) {{\n",
       "    x.observe(outputEl, {childList: true});\n",
       "}}\n",
       "\n",
       "                        })\n",
       "                };\n",
       "                });\n",
       "            </script>\n",
       "        </div>"
      ]
     },
     "metadata": {},
     "output_type": "display_data"
    }
   ],
   "source": [
    "fig = px.bar(dftest2, x='Year', y='DRtg')\n",
    "fig.show()"
   ]
  },
  {
   "cell_type": "code",
   "execution_count": 129,
   "metadata": {},
   "outputs": [
    {
     "data": {
      "text/plain": [
       "Index(['DRtg', 'ORtg', 'USG%', 'VORP', 'WS', 'PER', 'Rk', 'Age', 'G', 'GS',\n",
       "       'MP', 'FG', 'FGA', '2P', '2PA', '3P', '3PA', 'FT', 'FTA', 'ORB', 'DRB',\n",
       "       'TRB', 'AST', 'STL', 'BLK', 'TOV', 'PF', 'PTS', 'FG%', '2P%', '3P%',\n",
       "       'eFG%', 'FT%', 'TS%', 'Year'],\n",
       "      dtype='object')"
      ]
     },
     "execution_count": 129,
     "metadata": {},
     "output_type": "execute_result"
    }
   ],
   "source": [
    "dftest2.columns"
   ]
  },
  {
   "cell_type": "code",
   "execution_count": null,
   "metadata": {},
   "outputs": [],
   "source": []
  },
  {
   "cell_type": "code",
   "execution_count": 128,
   "metadata": {},
   "outputs": [
    {
     "data": {
      "application/vnd.plotly.v1+json": {
       "config": {
        "plotlyServerURL": "https://plot.ly"
       },
       "data": [
        {
         "hoverlabel": {
          "namelength": 0
         },
         "hovertemplate": "Year=%{x}<br>3P%=%{y}<br>ORtg=%{z}",
         "legendgroup": "",
         "marker": {
          "color": "#636efa",
          "symbol": "circle"
         },
         "mode": "markers",
         "name": "",
         "scene": "scene",
         "showlegend": false,
         "type": "scatter3d",
         "x": [
          2000,
          2001,
          2002,
          2003,
          2004,
          2005,
          2006,
          2007,
          2008,
          2009,
          2010,
          2011,
          2012,
          2013,
          2014,
          2015,
          2016,
          2017,
          2018
         ],
         "y": [
          0.24304179104477616,
          0.2500690690690691,
          0.23051807228915666,
          0.23532258064516148,
          0.2477954545454545,
          0.24384569732937691,
          0.24973099415204703,
          0.2761353383458639,
          0.2655894428152494,
          0.25823342939481253,
          0.25001111111111124,
          0.2549488636363636,
          0.2695607734806628,
          0.2668176638176637,
          0.2757414248021108,
          0.290727027027027,
          0.2990860215053766,
          0.3123548387096772,
          0.31283989501312304
         ],
         "z": [
          102.27462686567164,
          103.89189189189189,
          102.67469879518072,
          102.52492668621701,
          105.34375,
          105.04451038575668,
          106.16374269005848,
          102.9874686716792,
          107.57184750733138,
          107.22766570605188,
          106.6361111111111,
          103.8465909090909,
          105.5524861878453,
          106.35042735042735,
          105.43271767810026,
          106.22702702702702,
          108.34139784946237,
          108.71774193548387,
          110.27296587926509
         ]
        }
       ],
       "layout": {
        "height": 600,
        "legend": {
         "tracegroupgap": 0
        },
        "margin": {
         "t": 60
        },
        "scene": {
         "domain": {
          "x": [
           0,
           0.98
          ],
          "y": [
           0,
           1
          ]
         },
         "xaxis": {
          "title": {
           "text": "Year"
          }
         },
         "yaxis": {
          "title": {
           "text": "3P%"
          }
         },
         "zaxis": {
          "title": {
           "text": "ORtg"
          }
         }
        },
        "template": {
         "data": {
          "bar": [
           {
            "error_x": {
             "color": "#2a3f5f"
            },
            "error_y": {
             "color": "#2a3f5f"
            },
            "marker": {
             "line": {
              "color": "#E5ECF6",
              "width": 0.5
             }
            },
            "type": "bar"
           }
          ],
          "barpolar": [
           {
            "marker": {
             "line": {
              "color": "#E5ECF6",
              "width": 0.5
             }
            },
            "type": "barpolar"
           }
          ],
          "carpet": [
           {
            "aaxis": {
             "endlinecolor": "#2a3f5f",
             "gridcolor": "white",
             "linecolor": "white",
             "minorgridcolor": "white",
             "startlinecolor": "#2a3f5f"
            },
            "baxis": {
             "endlinecolor": "#2a3f5f",
             "gridcolor": "white",
             "linecolor": "white",
             "minorgridcolor": "white",
             "startlinecolor": "#2a3f5f"
            },
            "type": "carpet"
           }
          ],
          "choropleth": [
           {
            "colorbar": {
             "outlinewidth": 0,
             "ticks": ""
            },
            "type": "choropleth"
           }
          ],
          "contour": [
           {
            "colorbar": {
             "outlinewidth": 0,
             "ticks": ""
            },
            "colorscale": [
             [
              0,
              "#0d0887"
             ],
             [
              0.1111111111111111,
              "#46039f"
             ],
             [
              0.2222222222222222,
              "#7201a8"
             ],
             [
              0.3333333333333333,
              "#9c179e"
             ],
             [
              0.4444444444444444,
              "#bd3786"
             ],
             [
              0.5555555555555556,
              "#d8576b"
             ],
             [
              0.6666666666666666,
              "#ed7953"
             ],
             [
              0.7777777777777778,
              "#fb9f3a"
             ],
             [
              0.8888888888888888,
              "#fdca26"
             ],
             [
              1,
              "#f0f921"
             ]
            ],
            "type": "contour"
           }
          ],
          "contourcarpet": [
           {
            "colorbar": {
             "outlinewidth": 0,
             "ticks": ""
            },
            "type": "contourcarpet"
           }
          ],
          "heatmap": [
           {
            "colorbar": {
             "outlinewidth": 0,
             "ticks": ""
            },
            "colorscale": [
             [
              0,
              "#0d0887"
             ],
             [
              0.1111111111111111,
              "#46039f"
             ],
             [
              0.2222222222222222,
              "#7201a8"
             ],
             [
              0.3333333333333333,
              "#9c179e"
             ],
             [
              0.4444444444444444,
              "#bd3786"
             ],
             [
              0.5555555555555556,
              "#d8576b"
             ],
             [
              0.6666666666666666,
              "#ed7953"
             ],
             [
              0.7777777777777778,
              "#fb9f3a"
             ],
             [
              0.8888888888888888,
              "#fdca26"
             ],
             [
              1,
              "#f0f921"
             ]
            ],
            "type": "heatmap"
           }
          ],
          "heatmapgl": [
           {
            "colorbar": {
             "outlinewidth": 0,
             "ticks": ""
            },
            "colorscale": [
             [
              0,
              "#0d0887"
             ],
             [
              0.1111111111111111,
              "#46039f"
             ],
             [
              0.2222222222222222,
              "#7201a8"
             ],
             [
              0.3333333333333333,
              "#9c179e"
             ],
             [
              0.4444444444444444,
              "#bd3786"
             ],
             [
              0.5555555555555556,
              "#d8576b"
             ],
             [
              0.6666666666666666,
              "#ed7953"
             ],
             [
              0.7777777777777778,
              "#fb9f3a"
             ],
             [
              0.8888888888888888,
              "#fdca26"
             ],
             [
              1,
              "#f0f921"
             ]
            ],
            "type": "heatmapgl"
           }
          ],
          "histogram": [
           {
            "marker": {
             "colorbar": {
              "outlinewidth": 0,
              "ticks": ""
             }
            },
            "type": "histogram"
           }
          ],
          "histogram2d": [
           {
            "colorbar": {
             "outlinewidth": 0,
             "ticks": ""
            },
            "colorscale": [
             [
              0,
              "#0d0887"
             ],
             [
              0.1111111111111111,
              "#46039f"
             ],
             [
              0.2222222222222222,
              "#7201a8"
             ],
             [
              0.3333333333333333,
              "#9c179e"
             ],
             [
              0.4444444444444444,
              "#bd3786"
             ],
             [
              0.5555555555555556,
              "#d8576b"
             ],
             [
              0.6666666666666666,
              "#ed7953"
             ],
             [
              0.7777777777777778,
              "#fb9f3a"
             ],
             [
              0.8888888888888888,
              "#fdca26"
             ],
             [
              1,
              "#f0f921"
             ]
            ],
            "type": "histogram2d"
           }
          ],
          "histogram2dcontour": [
           {
            "colorbar": {
             "outlinewidth": 0,
             "ticks": ""
            },
            "colorscale": [
             [
              0,
              "#0d0887"
             ],
             [
              0.1111111111111111,
              "#46039f"
             ],
             [
              0.2222222222222222,
              "#7201a8"
             ],
             [
              0.3333333333333333,
              "#9c179e"
             ],
             [
              0.4444444444444444,
              "#bd3786"
             ],
             [
              0.5555555555555556,
              "#d8576b"
             ],
             [
              0.6666666666666666,
              "#ed7953"
             ],
             [
              0.7777777777777778,
              "#fb9f3a"
             ],
             [
              0.8888888888888888,
              "#fdca26"
             ],
             [
              1,
              "#f0f921"
             ]
            ],
            "type": "histogram2dcontour"
           }
          ],
          "mesh3d": [
           {
            "colorbar": {
             "outlinewidth": 0,
             "ticks": ""
            },
            "type": "mesh3d"
           }
          ],
          "parcoords": [
           {
            "line": {
             "colorbar": {
              "outlinewidth": 0,
              "ticks": ""
             }
            },
            "type": "parcoords"
           }
          ],
          "scatter": [
           {
            "marker": {
             "colorbar": {
              "outlinewidth": 0,
              "ticks": ""
             }
            },
            "type": "scatter"
           }
          ],
          "scatter3d": [
           {
            "line": {
             "colorbar": {
              "outlinewidth": 0,
              "ticks": ""
             }
            },
            "marker": {
             "colorbar": {
              "outlinewidth": 0,
              "ticks": ""
             }
            },
            "type": "scatter3d"
           }
          ],
          "scattercarpet": [
           {
            "marker": {
             "colorbar": {
              "outlinewidth": 0,
              "ticks": ""
             }
            },
            "type": "scattercarpet"
           }
          ],
          "scattergeo": [
           {
            "marker": {
             "colorbar": {
              "outlinewidth": 0,
              "ticks": ""
             }
            },
            "type": "scattergeo"
           }
          ],
          "scattergl": [
           {
            "marker": {
             "colorbar": {
              "outlinewidth": 0,
              "ticks": ""
             }
            },
            "type": "scattergl"
           }
          ],
          "scattermapbox": [
           {
            "marker": {
             "colorbar": {
              "outlinewidth": 0,
              "ticks": ""
             }
            },
            "type": "scattermapbox"
           }
          ],
          "scatterpolar": [
           {
            "marker": {
             "colorbar": {
              "outlinewidth": 0,
              "ticks": ""
             }
            },
            "type": "scatterpolar"
           }
          ],
          "scatterpolargl": [
           {
            "marker": {
             "colorbar": {
              "outlinewidth": 0,
              "ticks": ""
             }
            },
            "type": "scatterpolargl"
           }
          ],
          "scatterternary": [
           {
            "marker": {
             "colorbar": {
              "outlinewidth": 0,
              "ticks": ""
             }
            },
            "type": "scatterternary"
           }
          ],
          "surface": [
           {
            "colorbar": {
             "outlinewidth": 0,
             "ticks": ""
            },
            "colorscale": [
             [
              0,
              "#0d0887"
             ],
             [
              0.1111111111111111,
              "#46039f"
             ],
             [
              0.2222222222222222,
              "#7201a8"
             ],
             [
              0.3333333333333333,
              "#9c179e"
             ],
             [
              0.4444444444444444,
              "#bd3786"
             ],
             [
              0.5555555555555556,
              "#d8576b"
             ],
             [
              0.6666666666666666,
              "#ed7953"
             ],
             [
              0.7777777777777778,
              "#fb9f3a"
             ],
             [
              0.8888888888888888,
              "#fdca26"
             ],
             [
              1,
              "#f0f921"
             ]
            ],
            "type": "surface"
           }
          ],
          "table": [
           {
            "cells": {
             "fill": {
              "color": "#EBF0F8"
             },
             "line": {
              "color": "white"
             }
            },
            "header": {
             "fill": {
              "color": "#C8D4E3"
             },
             "line": {
              "color": "white"
             }
            },
            "type": "table"
           }
          ]
         },
         "layout": {
          "annotationdefaults": {
           "arrowcolor": "#2a3f5f",
           "arrowhead": 0,
           "arrowwidth": 1
          },
          "colorscale": {
           "diverging": [
            [
             0,
             "#8e0152"
            ],
            [
             0.1,
             "#c51b7d"
            ],
            [
             0.2,
             "#de77ae"
            ],
            [
             0.3,
             "#f1b6da"
            ],
            [
             0.4,
             "#fde0ef"
            ],
            [
             0.5,
             "#f7f7f7"
            ],
            [
             0.6,
             "#e6f5d0"
            ],
            [
             0.7,
             "#b8e186"
            ],
            [
             0.8,
             "#7fbc41"
            ],
            [
             0.9,
             "#4d9221"
            ],
            [
             1,
             "#276419"
            ]
           ],
           "sequential": [
            [
             0,
             "#0d0887"
            ],
            [
             0.1111111111111111,
             "#46039f"
            ],
            [
             0.2222222222222222,
             "#7201a8"
            ],
            [
             0.3333333333333333,
             "#9c179e"
            ],
            [
             0.4444444444444444,
             "#bd3786"
            ],
            [
             0.5555555555555556,
             "#d8576b"
            ],
            [
             0.6666666666666666,
             "#ed7953"
            ],
            [
             0.7777777777777778,
             "#fb9f3a"
            ],
            [
             0.8888888888888888,
             "#fdca26"
            ],
            [
             1,
             "#f0f921"
            ]
           ],
           "sequentialminus": [
            [
             0,
             "#0d0887"
            ],
            [
             0.1111111111111111,
             "#46039f"
            ],
            [
             0.2222222222222222,
             "#7201a8"
            ],
            [
             0.3333333333333333,
             "#9c179e"
            ],
            [
             0.4444444444444444,
             "#bd3786"
            ],
            [
             0.5555555555555556,
             "#d8576b"
            ],
            [
             0.6666666666666666,
             "#ed7953"
            ],
            [
             0.7777777777777778,
             "#fb9f3a"
            ],
            [
             0.8888888888888888,
             "#fdca26"
            ],
            [
             1,
             "#f0f921"
            ]
           ]
          },
          "colorway": [
           "#636efa",
           "#EF553B",
           "#00cc96",
           "#ab63fa",
           "#FFA15A",
           "#19d3f3",
           "#FF6692",
           "#B6E880",
           "#FF97FF",
           "#FECB52"
          ],
          "font": {
           "color": "#2a3f5f"
          },
          "geo": {
           "bgcolor": "white",
           "lakecolor": "white",
           "landcolor": "#E5ECF6",
           "showlakes": true,
           "showland": true,
           "subunitcolor": "white"
          },
          "hoverlabel": {
           "align": "left"
          },
          "hovermode": "closest",
          "mapbox": {
           "style": "light"
          },
          "paper_bgcolor": "white",
          "plot_bgcolor": "#E5ECF6",
          "polar": {
           "angularaxis": {
            "gridcolor": "white",
            "linecolor": "white",
            "ticks": ""
           },
           "bgcolor": "#E5ECF6",
           "radialaxis": {
            "gridcolor": "white",
            "linecolor": "white",
            "ticks": ""
           }
          },
          "scene": {
           "xaxis": {
            "backgroundcolor": "#E5ECF6",
            "gridcolor": "white",
            "gridwidth": 2,
            "linecolor": "white",
            "showbackground": true,
            "ticks": "",
            "zerolinecolor": "white"
           },
           "yaxis": {
            "backgroundcolor": "#E5ECF6",
            "gridcolor": "white",
            "gridwidth": 2,
            "linecolor": "white",
            "showbackground": true,
            "ticks": "",
            "zerolinecolor": "white"
           },
           "zaxis": {
            "backgroundcolor": "#E5ECF6",
            "gridcolor": "white",
            "gridwidth": 2,
            "linecolor": "white",
            "showbackground": true,
            "ticks": "",
            "zerolinecolor": "white"
           }
          },
          "shapedefaults": {
           "line": {
            "color": "#2a3f5f"
           }
          },
          "ternary": {
           "aaxis": {
            "gridcolor": "white",
            "linecolor": "white",
            "ticks": ""
           },
           "baxis": {
            "gridcolor": "white",
            "linecolor": "white",
            "ticks": ""
           },
           "bgcolor": "#E5ECF6",
           "caxis": {
            "gridcolor": "white",
            "linecolor": "white",
            "ticks": ""
           }
          },
          "title": {
           "x": 0.05
          },
          "xaxis": {
           "automargin": true,
           "gridcolor": "white",
           "linecolor": "white",
           "ticks": "",
           "zerolinecolor": "white",
           "zerolinewidth": 2
          },
          "yaxis": {
           "automargin": true,
           "gridcolor": "white",
           "linecolor": "white",
           "ticks": "",
           "zerolinecolor": "white",
           "zerolinewidth": 2
          }
         }
        }
       }
      },
      "text/html": [
       "<div>\n",
       "        \n",
       "        \n",
       "            <div id=\"40474693-dc0d-405c-bfe4-f6d4a8c7c954\" class=\"plotly-graph-div\" style=\"height:600px; width:100%;\"></div>\n",
       "            <script type=\"text/javascript\">\n",
       "                require([\"plotly\"], function(Plotly) {\n",
       "                    window.PLOTLYENV=window.PLOTLYENV || {};\n",
       "                    \n",
       "                if (document.getElementById(\"40474693-dc0d-405c-bfe4-f6d4a8c7c954\")) {\n",
       "                    Plotly.newPlot(\n",
       "                        '40474693-dc0d-405c-bfe4-f6d4a8c7c954',\n",
       "                        [{\"hoverlabel\": {\"namelength\": 0}, \"hovertemplate\": \"Year=%{x}<br>3P%=%{y}<br>ORtg=%{z}\", \"legendgroup\": \"\", \"marker\": {\"color\": \"#636efa\", \"symbol\": \"circle\"}, \"mode\": \"markers\", \"name\": \"\", \"scene\": \"scene\", \"showlegend\": false, \"type\": \"scatter3d\", \"x\": [2000.0, 2001.0, 2002.0, 2003.0, 2004.0, 2005.0, 2006.0, 2007.0, 2008.0, 2009.0, 2010.0, 2011.0, 2012.0, 2013.0, 2014.0, 2015.0, 2016.0, 2017.0, 2018.0], \"y\": [0.24304179104477616, 0.2500690690690691, 0.23051807228915666, 0.23532258064516148, 0.2477954545454545, 0.24384569732937691, 0.24973099415204703, 0.2761353383458639, 0.2655894428152494, 0.25823342939481253, 0.25001111111111124, 0.2549488636363636, 0.2695607734806628, 0.2668176638176637, 0.2757414248021108, 0.290727027027027, 0.2990860215053766, 0.3123548387096772, 0.31283989501312304], \"z\": [102.27462686567164, 103.89189189189189, 102.67469879518072, 102.52492668621701, 105.34375, 105.04451038575668, 106.16374269005848, 102.9874686716792, 107.57184750733138, 107.22766570605188, 106.6361111111111, 103.8465909090909, 105.5524861878453, 106.35042735042735, 105.43271767810026, 106.22702702702702, 108.34139784946237, 108.71774193548387, 110.27296587926509]}],\n",
       "                        {\"height\": 600, \"legend\": {\"tracegroupgap\": 0}, \"margin\": {\"t\": 60}, \"scene\": {\"domain\": {\"x\": [0.0, 0.98], \"y\": [0.0, 1.0]}, \"xaxis\": {\"title\": {\"text\": \"Year\"}}, \"yaxis\": {\"title\": {\"text\": \"3P%\"}}, \"zaxis\": {\"title\": {\"text\": \"ORtg\"}}}, \"template\": {\"data\": {\"bar\": [{\"error_x\": {\"color\": \"#2a3f5f\"}, \"error_y\": {\"color\": \"#2a3f5f\"}, \"marker\": {\"line\": {\"color\": \"#E5ECF6\", \"width\": 0.5}}, \"type\": \"bar\"}], \"barpolar\": [{\"marker\": {\"line\": {\"color\": \"#E5ECF6\", \"width\": 0.5}}, \"type\": \"barpolar\"}], \"carpet\": [{\"aaxis\": {\"endlinecolor\": \"#2a3f5f\", \"gridcolor\": \"white\", \"linecolor\": \"white\", \"minorgridcolor\": \"white\", \"startlinecolor\": \"#2a3f5f\"}, \"baxis\": {\"endlinecolor\": \"#2a3f5f\", \"gridcolor\": \"white\", \"linecolor\": \"white\", \"minorgridcolor\": \"white\", \"startlinecolor\": \"#2a3f5f\"}, \"type\": \"carpet\"}], \"choropleth\": [{\"colorbar\": {\"outlinewidth\": 0, \"ticks\": \"\"}, \"type\": \"choropleth\"}], \"contour\": [{\"colorbar\": {\"outlinewidth\": 0, \"ticks\": \"\"}, \"colorscale\": [[0.0, \"#0d0887\"], [0.1111111111111111, \"#46039f\"], [0.2222222222222222, \"#7201a8\"], [0.3333333333333333, \"#9c179e\"], [0.4444444444444444, \"#bd3786\"], [0.5555555555555556, \"#d8576b\"], [0.6666666666666666, \"#ed7953\"], [0.7777777777777778, \"#fb9f3a\"], [0.8888888888888888, \"#fdca26\"], [1.0, \"#f0f921\"]], \"type\": \"contour\"}], \"contourcarpet\": [{\"colorbar\": {\"outlinewidth\": 0, \"ticks\": \"\"}, \"type\": \"contourcarpet\"}], \"heatmap\": [{\"colorbar\": {\"outlinewidth\": 0, \"ticks\": \"\"}, \"colorscale\": [[0.0, \"#0d0887\"], [0.1111111111111111, \"#46039f\"], [0.2222222222222222, \"#7201a8\"], [0.3333333333333333, \"#9c179e\"], [0.4444444444444444, \"#bd3786\"], [0.5555555555555556, \"#d8576b\"], [0.6666666666666666, \"#ed7953\"], [0.7777777777777778, \"#fb9f3a\"], [0.8888888888888888, \"#fdca26\"], [1.0, \"#f0f921\"]], \"type\": \"heatmap\"}], \"heatmapgl\": [{\"colorbar\": {\"outlinewidth\": 0, \"ticks\": \"\"}, \"colorscale\": [[0.0, \"#0d0887\"], [0.1111111111111111, \"#46039f\"], [0.2222222222222222, \"#7201a8\"], [0.3333333333333333, \"#9c179e\"], [0.4444444444444444, \"#bd3786\"], [0.5555555555555556, \"#d8576b\"], [0.6666666666666666, \"#ed7953\"], [0.7777777777777778, \"#fb9f3a\"], [0.8888888888888888, \"#fdca26\"], [1.0, \"#f0f921\"]], \"type\": \"heatmapgl\"}], \"histogram\": [{\"marker\": {\"colorbar\": {\"outlinewidth\": 0, \"ticks\": \"\"}}, \"type\": \"histogram\"}], \"histogram2d\": [{\"colorbar\": {\"outlinewidth\": 0, \"ticks\": \"\"}, \"colorscale\": [[0.0, \"#0d0887\"], [0.1111111111111111, \"#46039f\"], [0.2222222222222222, \"#7201a8\"], [0.3333333333333333, \"#9c179e\"], [0.4444444444444444, \"#bd3786\"], [0.5555555555555556, \"#d8576b\"], [0.6666666666666666, \"#ed7953\"], [0.7777777777777778, \"#fb9f3a\"], [0.8888888888888888, \"#fdca26\"], [1.0, \"#f0f921\"]], \"type\": \"histogram2d\"}], \"histogram2dcontour\": [{\"colorbar\": {\"outlinewidth\": 0, \"ticks\": \"\"}, \"colorscale\": [[0.0, \"#0d0887\"], [0.1111111111111111, \"#46039f\"], [0.2222222222222222, \"#7201a8\"], [0.3333333333333333, \"#9c179e\"], [0.4444444444444444, \"#bd3786\"], [0.5555555555555556, \"#d8576b\"], [0.6666666666666666, \"#ed7953\"], [0.7777777777777778, \"#fb9f3a\"], [0.8888888888888888, \"#fdca26\"], [1.0, \"#f0f921\"]], \"type\": \"histogram2dcontour\"}], \"mesh3d\": [{\"colorbar\": {\"outlinewidth\": 0, \"ticks\": \"\"}, \"type\": \"mesh3d\"}], \"parcoords\": [{\"line\": {\"colorbar\": {\"outlinewidth\": 0, \"ticks\": \"\"}}, \"type\": \"parcoords\"}], \"scatter\": [{\"marker\": {\"colorbar\": {\"outlinewidth\": 0, \"ticks\": \"\"}}, \"type\": \"scatter\"}], \"scatter3d\": [{\"line\": {\"colorbar\": {\"outlinewidth\": 0, \"ticks\": \"\"}}, \"marker\": {\"colorbar\": {\"outlinewidth\": 0, \"ticks\": \"\"}}, \"type\": \"scatter3d\"}], \"scattercarpet\": [{\"marker\": {\"colorbar\": {\"outlinewidth\": 0, \"ticks\": \"\"}}, \"type\": \"scattercarpet\"}], \"scattergeo\": [{\"marker\": {\"colorbar\": {\"outlinewidth\": 0, \"ticks\": \"\"}}, \"type\": \"scattergeo\"}], \"scattergl\": [{\"marker\": {\"colorbar\": {\"outlinewidth\": 0, \"ticks\": \"\"}}, \"type\": \"scattergl\"}], \"scattermapbox\": [{\"marker\": {\"colorbar\": {\"outlinewidth\": 0, \"ticks\": \"\"}}, \"type\": \"scattermapbox\"}], \"scatterpolar\": [{\"marker\": {\"colorbar\": {\"outlinewidth\": 0, \"ticks\": \"\"}}, \"type\": \"scatterpolar\"}], \"scatterpolargl\": [{\"marker\": {\"colorbar\": {\"outlinewidth\": 0, \"ticks\": \"\"}}, \"type\": \"scatterpolargl\"}], \"scatterternary\": [{\"marker\": {\"colorbar\": {\"outlinewidth\": 0, \"ticks\": \"\"}}, \"type\": \"scatterternary\"}], \"surface\": [{\"colorbar\": {\"outlinewidth\": 0, \"ticks\": \"\"}, \"colorscale\": [[0.0, \"#0d0887\"], [0.1111111111111111, \"#46039f\"], [0.2222222222222222, \"#7201a8\"], [0.3333333333333333, \"#9c179e\"], [0.4444444444444444, \"#bd3786\"], [0.5555555555555556, \"#d8576b\"], [0.6666666666666666, \"#ed7953\"], [0.7777777777777778, \"#fb9f3a\"], [0.8888888888888888, \"#fdca26\"], [1.0, \"#f0f921\"]], \"type\": \"surface\"}], \"table\": [{\"cells\": {\"fill\": {\"color\": \"#EBF0F8\"}, \"line\": {\"color\": \"white\"}}, \"header\": {\"fill\": {\"color\": \"#C8D4E3\"}, \"line\": {\"color\": \"white\"}}, \"type\": \"table\"}]}, \"layout\": {\"annotationdefaults\": {\"arrowcolor\": \"#2a3f5f\", \"arrowhead\": 0, \"arrowwidth\": 1}, \"colorscale\": {\"diverging\": [[0, \"#8e0152\"], [0.1, \"#c51b7d\"], [0.2, \"#de77ae\"], [0.3, \"#f1b6da\"], [0.4, \"#fde0ef\"], [0.5, \"#f7f7f7\"], [0.6, \"#e6f5d0\"], [0.7, \"#b8e186\"], [0.8, \"#7fbc41\"], [0.9, \"#4d9221\"], [1, \"#276419\"]], \"sequential\": [[0.0, \"#0d0887\"], [0.1111111111111111, \"#46039f\"], [0.2222222222222222, \"#7201a8\"], [0.3333333333333333, \"#9c179e\"], [0.4444444444444444, \"#bd3786\"], [0.5555555555555556, \"#d8576b\"], [0.6666666666666666, \"#ed7953\"], [0.7777777777777778, \"#fb9f3a\"], [0.8888888888888888, \"#fdca26\"], [1.0, \"#f0f921\"]], \"sequentialminus\": [[0.0, \"#0d0887\"], [0.1111111111111111, \"#46039f\"], [0.2222222222222222, \"#7201a8\"], [0.3333333333333333, \"#9c179e\"], [0.4444444444444444, \"#bd3786\"], [0.5555555555555556, \"#d8576b\"], [0.6666666666666666, \"#ed7953\"], [0.7777777777777778, \"#fb9f3a\"], [0.8888888888888888, \"#fdca26\"], [1.0, \"#f0f921\"]]}, \"colorway\": [\"#636efa\", \"#EF553B\", \"#00cc96\", \"#ab63fa\", \"#FFA15A\", \"#19d3f3\", \"#FF6692\", \"#B6E880\", \"#FF97FF\", \"#FECB52\"], \"font\": {\"color\": \"#2a3f5f\"}, \"geo\": {\"bgcolor\": \"white\", \"lakecolor\": \"white\", \"landcolor\": \"#E5ECF6\", \"showlakes\": true, \"showland\": true, \"subunitcolor\": \"white\"}, \"hoverlabel\": {\"align\": \"left\"}, \"hovermode\": \"closest\", \"mapbox\": {\"style\": \"light\"}, \"paper_bgcolor\": \"white\", \"plot_bgcolor\": \"#E5ECF6\", \"polar\": {\"angularaxis\": {\"gridcolor\": \"white\", \"linecolor\": \"white\", \"ticks\": \"\"}, \"bgcolor\": \"#E5ECF6\", \"radialaxis\": {\"gridcolor\": \"white\", \"linecolor\": \"white\", \"ticks\": \"\"}}, \"scene\": {\"xaxis\": {\"backgroundcolor\": \"#E5ECF6\", \"gridcolor\": \"white\", \"gridwidth\": 2, \"linecolor\": \"white\", \"showbackground\": true, \"ticks\": \"\", \"zerolinecolor\": \"white\"}, \"yaxis\": {\"backgroundcolor\": \"#E5ECF6\", \"gridcolor\": \"white\", \"gridwidth\": 2, \"linecolor\": \"white\", \"showbackground\": true, \"ticks\": \"\", \"zerolinecolor\": \"white\"}, \"zaxis\": {\"backgroundcolor\": \"#E5ECF6\", \"gridcolor\": \"white\", \"gridwidth\": 2, \"linecolor\": \"white\", \"showbackground\": true, \"ticks\": \"\", \"zerolinecolor\": \"white\"}}, \"shapedefaults\": {\"line\": {\"color\": \"#2a3f5f\"}}, \"ternary\": {\"aaxis\": {\"gridcolor\": \"white\", \"linecolor\": \"white\", \"ticks\": \"\"}, \"baxis\": {\"gridcolor\": \"white\", \"linecolor\": \"white\", \"ticks\": \"\"}, \"bgcolor\": \"#E5ECF6\", \"caxis\": {\"gridcolor\": \"white\", \"linecolor\": \"white\", \"ticks\": \"\"}}, \"title\": {\"x\": 0.05}, \"xaxis\": {\"automargin\": true, \"gridcolor\": \"white\", \"linecolor\": \"white\", \"ticks\": \"\", \"zerolinecolor\": \"white\", \"zerolinewidth\": 2}, \"yaxis\": {\"automargin\": true, \"gridcolor\": \"white\", \"linecolor\": \"white\", \"ticks\": \"\", \"zerolinecolor\": \"white\", \"zerolinewidth\": 2}}}},\n",
       "                        {\"responsive\": true}\n",
       "                    ).then(function(){\n",
       "                            \n",
       "var gd = document.getElementById('40474693-dc0d-405c-bfe4-f6d4a8c7c954');\n",
       "var x = new MutationObserver(function (mutations, observer) {{\n",
       "        var display = window.getComputedStyle(gd).display;\n",
       "        if (!display || display === 'none') {{\n",
       "            console.log([gd, 'removed!']);\n",
       "            Plotly.purge(gd);\n",
       "            observer.disconnect();\n",
       "        }}\n",
       "}});\n",
       "\n",
       "// Listen for the removal of the full notebook cells\n",
       "var notebookContainer = gd.closest('#notebook-container');\n",
       "if (notebookContainer) {{\n",
       "    x.observe(notebookContainer, {childList: true});\n",
       "}}\n",
       "\n",
       "// Listen for the clearing of the current output cell\n",
       "var outputEl = gd.closest('.output');\n",
       "if (outputEl) {{\n",
       "    x.observe(outputEl, {childList: true});\n",
       "}}\n",
       "\n",
       "                        })\n",
       "                };\n",
       "                });\n",
       "            </script>\n",
       "        </div>"
      ]
     },
     "metadata": {},
     "output_type": "display_data"
    }
   ],
   "source": [
    "fig = px.scatter_3d(dftest2, x='Year', y='3P%', z='ORtg',\n",
    "              )\n",
    "fig.show()"
   ]
  },
  {
   "cell_type": "code",
   "execution_count": 131,
   "metadata": {},
   "outputs": [],
   "source": [
    "dftest3= df.groupby(['Player']).mean()"
   ]
  },
  {
   "cell_type": "code",
   "execution_count": 132,
   "metadata": {},
   "outputs": [
    {
     "data": {
      "text/html": [
       "<div>\n",
       "<style scoped>\n",
       "    .dataframe tbody tr th:only-of-type {\n",
       "        vertical-align: middle;\n",
       "    }\n",
       "\n",
       "    .dataframe tbody tr th {\n",
       "        vertical-align: top;\n",
       "    }\n",
       "\n",
       "    .dataframe thead th {\n",
       "        text-align: right;\n",
       "    }\n",
       "</style>\n",
       "<table border=\"1\" class=\"dataframe\">\n",
       "  <thead>\n",
       "    <tr style=\"text-align: right;\">\n",
       "      <th></th>\n",
       "      <th>DRtg</th>\n",
       "      <th>ORtg</th>\n",
       "      <th>USG%</th>\n",
       "      <th>VORP</th>\n",
       "      <th>WS</th>\n",
       "      <th>PER</th>\n",
       "      <th>Rk</th>\n",
       "      <th>Age</th>\n",
       "      <th>G</th>\n",
       "      <th>GS</th>\n",
       "      <th>...</th>\n",
       "      <th>TOV</th>\n",
       "      <th>PF</th>\n",
       "      <th>PTS</th>\n",
       "      <th>FG%</th>\n",
       "      <th>2P%</th>\n",
       "      <th>3P%</th>\n",
       "      <th>eFG%</th>\n",
       "      <th>FT%</th>\n",
       "      <th>TS%</th>\n",
       "      <th>Year</th>\n",
       "    </tr>\n",
       "    <tr>\n",
       "      <th>Player</th>\n",
       "      <th></th>\n",
       "      <th></th>\n",
       "      <th></th>\n",
       "      <th></th>\n",
       "      <th></th>\n",
       "      <th></th>\n",
       "      <th></th>\n",
       "      <th></th>\n",
       "      <th></th>\n",
       "      <th></th>\n",
       "      <th></th>\n",
       "      <th></th>\n",
       "      <th></th>\n",
       "      <th></th>\n",
       "      <th></th>\n",
       "      <th></th>\n",
       "      <th></th>\n",
       "      <th></th>\n",
       "      <th></th>\n",
       "      <th></th>\n",
       "      <th></th>\n",
       "    </tr>\n",
       "  </thead>\n",
       "  <tbody>\n",
       "    <tr>\n",
       "      <th>A.C. Green</th>\n",
       "      <td>99.000000</td>\n",
       "      <td>104.000000</td>\n",
       "      <td>14.400000</td>\n",
       "      <td>-0.300000</td>\n",
       "      <td>3.200000</td>\n",
       "      <td>11.200000</td>\n",
       "      <td>8585.000000</td>\n",
       "      <td>37.000000</td>\n",
       "      <td>82.000000</td>\n",
       "      <td>1.000000</td>\n",
       "      <td>...</td>\n",
       "      <td>1.800000</td>\n",
       "      <td>4.600000</td>\n",
       "      <td>14.30</td>\n",
       "      <td>0.444000</td>\n",
       "      <td>0.453000</td>\n",
       "      <td>0.000000</td>\n",
       "      <td>0.444000</td>\n",
       "      <td>0.712000</td>\n",
       "      <td>0.492000</td>\n",
       "      <td>2000.000000</td>\n",
       "    </tr>\n",
       "    <tr>\n",
       "      <th>A.J. Guyton</th>\n",
       "      <td>112.500000</td>\n",
       "      <td>99.000000</td>\n",
       "      <td>19.350000</td>\n",
       "      <td>-0.500000</td>\n",
       "      <td>0.200000</td>\n",
       "      <td>11.050000</td>\n",
       "      <td>8370.500000</td>\n",
       "      <td>22.500000</td>\n",
       "      <td>39.000000</td>\n",
       "      <td>7.000000</td>\n",
       "      <td>...</td>\n",
       "      <td>2.600000</td>\n",
       "      <td>2.500000</td>\n",
       "      <td>19.10</td>\n",
       "      <td>0.383500</td>\n",
       "      <td>0.381000</td>\n",
       "      <td>0.382500</td>\n",
       "      <td>0.466000</td>\n",
       "      <td>0.824000</td>\n",
       "      <td>0.486000</td>\n",
       "      <td>2000.500000</td>\n",
       "    </tr>\n",
       "    <tr>\n",
       "      <th>A.J. Price</th>\n",
       "      <td>107.500000</td>\n",
       "      <td>100.500000</td>\n",
       "      <td>20.275000</td>\n",
       "      <td>-0.050000</td>\n",
       "      <td>1.100000</td>\n",
       "      <td>12.150000</td>\n",
       "      <td>4053.500000</td>\n",
       "      <td>24.500000</td>\n",
       "      <td>51.750000</td>\n",
       "      <td>6.250000</td>\n",
       "      <td>...</td>\n",
       "      <td>3.100000</td>\n",
       "      <td>3.175000</td>\n",
       "      <td>19.50</td>\n",
       "      <td>0.373750</td>\n",
       "      <td>0.427500</td>\n",
       "      <td>0.316250</td>\n",
       "      <td>0.450750</td>\n",
       "      <td>0.764250</td>\n",
       "      <td>0.484750</td>\n",
       "      <td>2010.500000</td>\n",
       "    </tr>\n",
       "    <tr>\n",
       "      <th>Aaron Brooks</th>\n",
       "      <td>110.222222</td>\n",
       "      <td>103.555556</td>\n",
       "      <td>22.444444</td>\n",
       "      <td>0.088889</td>\n",
       "      <td>2.122222</td>\n",
       "      <td>12.788889</td>\n",
       "      <td>3248.888889</td>\n",
       "      <td>27.555556</td>\n",
       "      <td>68.111111</td>\n",
       "      <td>20.222222</td>\n",
       "      <td>...</td>\n",
       "      <td>3.766667</td>\n",
       "      <td>4.877778</td>\n",
       "      <td>22.90</td>\n",
       "      <td>0.411444</td>\n",
       "      <td>0.446444</td>\n",
       "      <td>0.363333</td>\n",
       "      <td>0.486556</td>\n",
       "      <td>0.830333</td>\n",
       "      <td>0.522444</td>\n",
       "      <td>2011.555556</td>\n",
       "    </tr>\n",
       "    <tr>\n",
       "      <th>Aaron Gordon</th>\n",
       "      <td>108.200000</td>\n",
       "      <td>106.400000</td>\n",
       "      <td>19.880000</td>\n",
       "      <td>1.080000</td>\n",
       "      <td>3.620000</td>\n",
       "      <td>14.900000</td>\n",
       "      <td>1209.600000</td>\n",
       "      <td>21.000000</td>\n",
       "      <td>68.200000</td>\n",
       "      <td>50.400000</td>\n",
       "      <td>...</td>\n",
       "      <td>2.360000</td>\n",
       "      <td>3.820000</td>\n",
       "      <td>21.26</td>\n",
       "      <td>0.451400</td>\n",
       "      <td>0.511000</td>\n",
       "      <td>0.308000</td>\n",
       "      <td>0.498600</td>\n",
       "      <td>0.707400</td>\n",
       "      <td>0.531200</td>\n",
       "      <td>2016.000000</td>\n",
       "    </tr>\n",
       "  </tbody>\n",
       "</table>\n",
       "<p>5 rows × 35 columns</p>\n",
       "</div>"
      ],
      "text/plain": [
       "                    DRtg        ORtg       USG%      VORP        WS  \\\n",
       "Player                                                                \n",
       "A.C. Green     99.000000  104.000000  14.400000 -0.300000  3.200000   \n",
       "A.J. Guyton   112.500000   99.000000  19.350000 -0.500000  0.200000   \n",
       "A.J. Price    107.500000  100.500000  20.275000 -0.050000  1.100000   \n",
       "Aaron Brooks  110.222222  103.555556  22.444444  0.088889  2.122222   \n",
       "Aaron Gordon  108.200000  106.400000  19.880000  1.080000  3.620000   \n",
       "\n",
       "                    PER           Rk        Age          G         GS  ...  \\\n",
       "Player                                                                 ...   \n",
       "A.C. Green    11.200000  8585.000000  37.000000  82.000000   1.000000  ...   \n",
       "A.J. Guyton   11.050000  8370.500000  22.500000  39.000000   7.000000  ...   \n",
       "A.J. Price    12.150000  4053.500000  24.500000  51.750000   6.250000  ...   \n",
       "Aaron Brooks  12.788889  3248.888889  27.555556  68.111111  20.222222  ...   \n",
       "Aaron Gordon  14.900000  1209.600000  21.000000  68.200000  50.400000  ...   \n",
       "\n",
       "                   TOV        PF    PTS       FG%       2P%       3P%  \\\n",
       "Player                                                                  \n",
       "A.C. Green    1.800000  4.600000  14.30  0.444000  0.453000  0.000000   \n",
       "A.J. Guyton   2.600000  2.500000  19.10  0.383500  0.381000  0.382500   \n",
       "A.J. Price    3.100000  3.175000  19.50  0.373750  0.427500  0.316250   \n",
       "Aaron Brooks  3.766667  4.877778  22.90  0.411444  0.446444  0.363333   \n",
       "Aaron Gordon  2.360000  3.820000  21.26  0.451400  0.511000  0.308000   \n",
       "\n",
       "                  eFG%       FT%       TS%         Year  \n",
       "Player                                                   \n",
       "A.C. Green    0.444000  0.712000  0.492000  2000.000000  \n",
       "A.J. Guyton   0.466000  0.824000  0.486000  2000.500000  \n",
       "A.J. Price    0.450750  0.764250  0.484750  2010.500000  \n",
       "Aaron Brooks  0.486556  0.830333  0.522444  2011.555556  \n",
       "Aaron Gordon  0.498600  0.707400  0.531200  2016.000000  \n",
       "\n",
       "[5 rows x 35 columns]"
      ]
     },
     "execution_count": 132,
     "metadata": {},
     "output_type": "execute_result"
    }
   ],
   "source": [
    "dftest3.head()"
   ]
  },
  {
   "cell_type": "code",
   "execution_count": 146,
   "metadata": {},
   "outputs": [
    {
     "data": {
      "application/vnd.plotly.v1+json": {
       "config": {
        "plotlyServerURL": "https://plot.ly"
       },
       "data": [
        {
         "hoverlabel": {
          "namelength": 0
         },
         "hovertemplate": "DRtg=%{x}<br>3P%=%{y}<br>ORtg=%{z}<br>Year=%{marker.color}",
         "legendgroup": "",
         "marker": {
          "color": [
           2000,
           2001,
           2002,
           2003,
           2004,
           2005,
           2006,
           2007,
           2008,
           2009,
           2010,
           2011,
           2012,
           2013,
           2014,
           2015,
           2016,
           2017,
           2018
          ],
          "coloraxis": "coloraxis",
          "symbol": "circle"
         },
         "mode": "markers",
         "name": "",
         "scene": "scene",
         "showlegend": false,
         "type": "scatter3d",
         "x": [
          103.44179104477612,
          104.97297297297297,
          103.86144578313252,
          103.14956011730206,
          106.31818181818181,
          106.24629080118694,
          106.5906432748538,
          107.69924812030075,
          108.41642228739003,
          107.85302593659942,
          107.46944444444445,
          104.92329545454545,
          106.22651933701657,
          106.9031339031339,
          105.95250659630607,
          106.62162162162163,
          108.91129032258064,
          108.84677419354838,
          110.74803149606299
         ],
         "y": [
          0.24304179104477616,
          0.2500690690690691,
          0.23051807228915666,
          0.23532258064516148,
          0.2477954545454545,
          0.24384569732937691,
          0.24973099415204703,
          0.2761353383458639,
          0.2655894428152494,
          0.25823342939481253,
          0.25001111111111124,
          0.2549488636363636,
          0.2695607734806628,
          0.2668176638176637,
          0.2757414248021108,
          0.290727027027027,
          0.2990860215053766,
          0.3123548387096772,
          0.31283989501312304
         ],
         "z": [
          102.27462686567164,
          103.89189189189189,
          102.67469879518072,
          102.52492668621701,
          105.34375,
          105.04451038575668,
          106.16374269005848,
          102.9874686716792,
          107.57184750733138,
          107.22766570605188,
          106.6361111111111,
          103.8465909090909,
          105.5524861878453,
          106.35042735042735,
          105.43271767810026,
          106.22702702702702,
          108.34139784946237,
          108.71774193548387,
          110.27296587926509
         ]
        }
       ],
       "layout": {
        "coloraxis": {
         "colorbar": {
          "title": {
           "text": "Year"
          }
         },
         "colorscale": [
          [
           0,
           "#0d0887"
          ],
          [
           0.1111111111111111,
           "#46039f"
          ],
          [
           0.2222222222222222,
           "#7201a8"
          ],
          [
           0.3333333333333333,
           "#9c179e"
          ],
          [
           0.4444444444444444,
           "#bd3786"
          ],
          [
           0.5555555555555556,
           "#d8576b"
          ],
          [
           0.6666666666666666,
           "#ed7953"
          ],
          [
           0.7777777777777778,
           "#fb9f3a"
          ],
          [
           0.8888888888888888,
           "#fdca26"
          ],
          [
           1,
           "#f0f921"
          ]
         ]
        },
        "height": 600,
        "legend": {
         "tracegroupgap": 0
        },
        "margin": {
         "t": 60
        },
        "scene": {
         "domain": {
          "x": [
           0,
           0.98
          ],
          "y": [
           0,
           1
          ]
         },
         "xaxis": {
          "title": {
           "text": "DRtg"
          }
         },
         "yaxis": {
          "title": {
           "text": "3P%"
          }
         },
         "zaxis": {
          "title": {
           "text": "ORtg"
          }
         }
        },
        "template": {
         "data": {
          "bar": [
           {
            "error_x": {
             "color": "#2a3f5f"
            },
            "error_y": {
             "color": "#2a3f5f"
            },
            "marker": {
             "line": {
              "color": "#E5ECF6",
              "width": 0.5
             }
            },
            "type": "bar"
           }
          ],
          "barpolar": [
           {
            "marker": {
             "line": {
              "color": "#E5ECF6",
              "width": 0.5
             }
            },
            "type": "barpolar"
           }
          ],
          "carpet": [
           {
            "aaxis": {
             "endlinecolor": "#2a3f5f",
             "gridcolor": "white",
             "linecolor": "white",
             "minorgridcolor": "white",
             "startlinecolor": "#2a3f5f"
            },
            "baxis": {
             "endlinecolor": "#2a3f5f",
             "gridcolor": "white",
             "linecolor": "white",
             "minorgridcolor": "white",
             "startlinecolor": "#2a3f5f"
            },
            "type": "carpet"
           }
          ],
          "choropleth": [
           {
            "colorbar": {
             "outlinewidth": 0,
             "ticks": ""
            },
            "type": "choropleth"
           }
          ],
          "contour": [
           {
            "colorbar": {
             "outlinewidth": 0,
             "ticks": ""
            },
            "colorscale": [
             [
              0,
              "#0d0887"
             ],
             [
              0.1111111111111111,
              "#46039f"
             ],
             [
              0.2222222222222222,
              "#7201a8"
             ],
             [
              0.3333333333333333,
              "#9c179e"
             ],
             [
              0.4444444444444444,
              "#bd3786"
             ],
             [
              0.5555555555555556,
              "#d8576b"
             ],
             [
              0.6666666666666666,
              "#ed7953"
             ],
             [
              0.7777777777777778,
              "#fb9f3a"
             ],
             [
              0.8888888888888888,
              "#fdca26"
             ],
             [
              1,
              "#f0f921"
             ]
            ],
            "type": "contour"
           }
          ],
          "contourcarpet": [
           {
            "colorbar": {
             "outlinewidth": 0,
             "ticks": ""
            },
            "type": "contourcarpet"
           }
          ],
          "heatmap": [
           {
            "colorbar": {
             "outlinewidth": 0,
             "ticks": ""
            },
            "colorscale": [
             [
              0,
              "#0d0887"
             ],
             [
              0.1111111111111111,
              "#46039f"
             ],
             [
              0.2222222222222222,
              "#7201a8"
             ],
             [
              0.3333333333333333,
              "#9c179e"
             ],
             [
              0.4444444444444444,
              "#bd3786"
             ],
             [
              0.5555555555555556,
              "#d8576b"
             ],
             [
              0.6666666666666666,
              "#ed7953"
             ],
             [
              0.7777777777777778,
              "#fb9f3a"
             ],
             [
              0.8888888888888888,
              "#fdca26"
             ],
             [
              1,
              "#f0f921"
             ]
            ],
            "type": "heatmap"
           }
          ],
          "heatmapgl": [
           {
            "colorbar": {
             "outlinewidth": 0,
             "ticks": ""
            },
            "colorscale": [
             [
              0,
              "#0d0887"
             ],
             [
              0.1111111111111111,
              "#46039f"
             ],
             [
              0.2222222222222222,
              "#7201a8"
             ],
             [
              0.3333333333333333,
              "#9c179e"
             ],
             [
              0.4444444444444444,
              "#bd3786"
             ],
             [
              0.5555555555555556,
              "#d8576b"
             ],
             [
              0.6666666666666666,
              "#ed7953"
             ],
             [
              0.7777777777777778,
              "#fb9f3a"
             ],
             [
              0.8888888888888888,
              "#fdca26"
             ],
             [
              1,
              "#f0f921"
             ]
            ],
            "type": "heatmapgl"
           }
          ],
          "histogram": [
           {
            "marker": {
             "colorbar": {
              "outlinewidth": 0,
              "ticks": ""
             }
            },
            "type": "histogram"
           }
          ],
          "histogram2d": [
           {
            "colorbar": {
             "outlinewidth": 0,
             "ticks": ""
            },
            "colorscale": [
             [
              0,
              "#0d0887"
             ],
             [
              0.1111111111111111,
              "#46039f"
             ],
             [
              0.2222222222222222,
              "#7201a8"
             ],
             [
              0.3333333333333333,
              "#9c179e"
             ],
             [
              0.4444444444444444,
              "#bd3786"
             ],
             [
              0.5555555555555556,
              "#d8576b"
             ],
             [
              0.6666666666666666,
              "#ed7953"
             ],
             [
              0.7777777777777778,
              "#fb9f3a"
             ],
             [
              0.8888888888888888,
              "#fdca26"
             ],
             [
              1,
              "#f0f921"
             ]
            ],
            "type": "histogram2d"
           }
          ],
          "histogram2dcontour": [
           {
            "colorbar": {
             "outlinewidth": 0,
             "ticks": ""
            },
            "colorscale": [
             [
              0,
              "#0d0887"
             ],
             [
              0.1111111111111111,
              "#46039f"
             ],
             [
              0.2222222222222222,
              "#7201a8"
             ],
             [
              0.3333333333333333,
              "#9c179e"
             ],
             [
              0.4444444444444444,
              "#bd3786"
             ],
             [
              0.5555555555555556,
              "#d8576b"
             ],
             [
              0.6666666666666666,
              "#ed7953"
             ],
             [
              0.7777777777777778,
              "#fb9f3a"
             ],
             [
              0.8888888888888888,
              "#fdca26"
             ],
             [
              1,
              "#f0f921"
             ]
            ],
            "type": "histogram2dcontour"
           }
          ],
          "mesh3d": [
           {
            "colorbar": {
             "outlinewidth": 0,
             "ticks": ""
            },
            "type": "mesh3d"
           }
          ],
          "parcoords": [
           {
            "line": {
             "colorbar": {
              "outlinewidth": 0,
              "ticks": ""
             }
            },
            "type": "parcoords"
           }
          ],
          "scatter": [
           {
            "marker": {
             "colorbar": {
              "outlinewidth": 0,
              "ticks": ""
             }
            },
            "type": "scatter"
           }
          ],
          "scatter3d": [
           {
            "line": {
             "colorbar": {
              "outlinewidth": 0,
              "ticks": ""
             }
            },
            "marker": {
             "colorbar": {
              "outlinewidth": 0,
              "ticks": ""
             }
            },
            "type": "scatter3d"
           }
          ],
          "scattercarpet": [
           {
            "marker": {
             "colorbar": {
              "outlinewidth": 0,
              "ticks": ""
             }
            },
            "type": "scattercarpet"
           }
          ],
          "scattergeo": [
           {
            "marker": {
             "colorbar": {
              "outlinewidth": 0,
              "ticks": ""
             }
            },
            "type": "scattergeo"
           }
          ],
          "scattergl": [
           {
            "marker": {
             "colorbar": {
              "outlinewidth": 0,
              "ticks": ""
             }
            },
            "type": "scattergl"
           }
          ],
          "scattermapbox": [
           {
            "marker": {
             "colorbar": {
              "outlinewidth": 0,
              "ticks": ""
             }
            },
            "type": "scattermapbox"
           }
          ],
          "scatterpolar": [
           {
            "marker": {
             "colorbar": {
              "outlinewidth": 0,
              "ticks": ""
             }
            },
            "type": "scatterpolar"
           }
          ],
          "scatterpolargl": [
           {
            "marker": {
             "colorbar": {
              "outlinewidth": 0,
              "ticks": ""
             }
            },
            "type": "scatterpolargl"
           }
          ],
          "scatterternary": [
           {
            "marker": {
             "colorbar": {
              "outlinewidth": 0,
              "ticks": ""
             }
            },
            "type": "scatterternary"
           }
          ],
          "surface": [
           {
            "colorbar": {
             "outlinewidth": 0,
             "ticks": ""
            },
            "colorscale": [
             [
              0,
              "#0d0887"
             ],
             [
              0.1111111111111111,
              "#46039f"
             ],
             [
              0.2222222222222222,
              "#7201a8"
             ],
             [
              0.3333333333333333,
              "#9c179e"
             ],
             [
              0.4444444444444444,
              "#bd3786"
             ],
             [
              0.5555555555555556,
              "#d8576b"
             ],
             [
              0.6666666666666666,
              "#ed7953"
             ],
             [
              0.7777777777777778,
              "#fb9f3a"
             ],
             [
              0.8888888888888888,
              "#fdca26"
             ],
             [
              1,
              "#f0f921"
             ]
            ],
            "type": "surface"
           }
          ],
          "table": [
           {
            "cells": {
             "fill": {
              "color": "#EBF0F8"
             },
             "line": {
              "color": "white"
             }
            },
            "header": {
             "fill": {
              "color": "#C8D4E3"
             },
             "line": {
              "color": "white"
             }
            },
            "type": "table"
           }
          ]
         },
         "layout": {
          "annotationdefaults": {
           "arrowcolor": "#2a3f5f",
           "arrowhead": 0,
           "arrowwidth": 1
          },
          "colorscale": {
           "diverging": [
            [
             0,
             "#8e0152"
            ],
            [
             0.1,
             "#c51b7d"
            ],
            [
             0.2,
             "#de77ae"
            ],
            [
             0.3,
             "#f1b6da"
            ],
            [
             0.4,
             "#fde0ef"
            ],
            [
             0.5,
             "#f7f7f7"
            ],
            [
             0.6,
             "#e6f5d0"
            ],
            [
             0.7,
             "#b8e186"
            ],
            [
             0.8,
             "#7fbc41"
            ],
            [
             0.9,
             "#4d9221"
            ],
            [
             1,
             "#276419"
            ]
           ],
           "sequential": [
            [
             0,
             "#0d0887"
            ],
            [
             0.1111111111111111,
             "#46039f"
            ],
            [
             0.2222222222222222,
             "#7201a8"
            ],
            [
             0.3333333333333333,
             "#9c179e"
            ],
            [
             0.4444444444444444,
             "#bd3786"
            ],
            [
             0.5555555555555556,
             "#d8576b"
            ],
            [
             0.6666666666666666,
             "#ed7953"
            ],
            [
             0.7777777777777778,
             "#fb9f3a"
            ],
            [
             0.8888888888888888,
             "#fdca26"
            ],
            [
             1,
             "#f0f921"
            ]
           ],
           "sequentialminus": [
            [
             0,
             "#0d0887"
            ],
            [
             0.1111111111111111,
             "#46039f"
            ],
            [
             0.2222222222222222,
             "#7201a8"
            ],
            [
             0.3333333333333333,
             "#9c179e"
            ],
            [
             0.4444444444444444,
             "#bd3786"
            ],
            [
             0.5555555555555556,
             "#d8576b"
            ],
            [
             0.6666666666666666,
             "#ed7953"
            ],
            [
             0.7777777777777778,
             "#fb9f3a"
            ],
            [
             0.8888888888888888,
             "#fdca26"
            ],
            [
             1,
             "#f0f921"
            ]
           ]
          },
          "colorway": [
           "#636efa",
           "#EF553B",
           "#00cc96",
           "#ab63fa",
           "#FFA15A",
           "#19d3f3",
           "#FF6692",
           "#B6E880",
           "#FF97FF",
           "#FECB52"
          ],
          "font": {
           "color": "#2a3f5f"
          },
          "geo": {
           "bgcolor": "white",
           "lakecolor": "white",
           "landcolor": "#E5ECF6",
           "showlakes": true,
           "showland": true,
           "subunitcolor": "white"
          },
          "hoverlabel": {
           "align": "left"
          },
          "hovermode": "closest",
          "mapbox": {
           "style": "light"
          },
          "paper_bgcolor": "white",
          "plot_bgcolor": "#E5ECF6",
          "polar": {
           "angularaxis": {
            "gridcolor": "white",
            "linecolor": "white",
            "ticks": ""
           },
           "bgcolor": "#E5ECF6",
           "radialaxis": {
            "gridcolor": "white",
            "linecolor": "white",
            "ticks": ""
           }
          },
          "scene": {
           "xaxis": {
            "backgroundcolor": "#E5ECF6",
            "gridcolor": "white",
            "gridwidth": 2,
            "linecolor": "white",
            "showbackground": true,
            "ticks": "",
            "zerolinecolor": "white"
           },
           "yaxis": {
            "backgroundcolor": "#E5ECF6",
            "gridcolor": "white",
            "gridwidth": 2,
            "linecolor": "white",
            "showbackground": true,
            "ticks": "",
            "zerolinecolor": "white"
           },
           "zaxis": {
            "backgroundcolor": "#E5ECF6",
            "gridcolor": "white",
            "gridwidth": 2,
            "linecolor": "white",
            "showbackground": true,
            "ticks": "",
            "zerolinecolor": "white"
           }
          },
          "shapedefaults": {
           "line": {
            "color": "#2a3f5f"
           }
          },
          "ternary": {
           "aaxis": {
            "gridcolor": "white",
            "linecolor": "white",
            "ticks": ""
           },
           "baxis": {
            "gridcolor": "white",
            "linecolor": "white",
            "ticks": ""
           },
           "bgcolor": "#E5ECF6",
           "caxis": {
            "gridcolor": "white",
            "linecolor": "white",
            "ticks": ""
           }
          },
          "title": {
           "x": 0.05
          },
          "xaxis": {
           "automargin": true,
           "gridcolor": "white",
           "linecolor": "white",
           "ticks": "",
           "zerolinecolor": "white",
           "zerolinewidth": 2
          },
          "yaxis": {
           "automargin": true,
           "gridcolor": "white",
           "linecolor": "white",
           "ticks": "",
           "zerolinecolor": "white",
           "zerolinewidth": 2
          }
         }
        }
       }
      },
      "text/html": [
       "<div>\n",
       "        \n",
       "        \n",
       "            <div id=\"d27d537f-dbdc-438a-8e65-cb5f528200fe\" class=\"plotly-graph-div\" style=\"height:600px; width:100%;\"></div>\n",
       "            <script type=\"text/javascript\">\n",
       "                require([\"plotly\"], function(Plotly) {\n",
       "                    window.PLOTLYENV=window.PLOTLYENV || {};\n",
       "                    \n",
       "                if (document.getElementById(\"d27d537f-dbdc-438a-8e65-cb5f528200fe\")) {\n",
       "                    Plotly.newPlot(\n",
       "                        'd27d537f-dbdc-438a-8e65-cb5f528200fe',\n",
       "                        [{\"hoverlabel\": {\"namelength\": 0}, \"hovertemplate\": \"DRtg=%{x}<br>3P%=%{y}<br>ORtg=%{z}<br>Year=%{marker.color}\", \"legendgroup\": \"\", \"marker\": {\"color\": [2000.0, 2001.0, 2002.0, 2003.0, 2004.0, 2005.0, 2006.0, 2007.0, 2008.0, 2009.0, 2010.0, 2011.0, 2012.0, 2013.0, 2014.0, 2015.0, 2016.0, 2017.0, 2018.0], \"coloraxis\": \"coloraxis\", \"symbol\": \"circle\"}, \"mode\": \"markers\", \"name\": \"\", \"scene\": \"scene\", \"showlegend\": false, \"type\": \"scatter3d\", \"x\": [103.44179104477612, 104.97297297297297, 103.86144578313252, 103.14956011730206, 106.31818181818181, 106.24629080118694, 106.5906432748538, 107.69924812030075, 108.41642228739003, 107.85302593659942, 107.46944444444445, 104.92329545454545, 106.22651933701657, 106.9031339031339, 105.95250659630607, 106.62162162162163, 108.91129032258064, 108.84677419354838, 110.74803149606299], \"y\": [0.24304179104477616, 0.2500690690690691, 0.23051807228915666, 0.23532258064516148, 0.2477954545454545, 0.24384569732937691, 0.24973099415204703, 0.2761353383458639, 0.2655894428152494, 0.25823342939481253, 0.25001111111111124, 0.2549488636363636, 0.2695607734806628, 0.2668176638176637, 0.2757414248021108, 0.290727027027027, 0.2990860215053766, 0.3123548387096772, 0.31283989501312304], \"z\": [102.27462686567164, 103.89189189189189, 102.67469879518072, 102.52492668621701, 105.34375, 105.04451038575668, 106.16374269005848, 102.9874686716792, 107.57184750733138, 107.22766570605188, 106.6361111111111, 103.8465909090909, 105.5524861878453, 106.35042735042735, 105.43271767810026, 106.22702702702702, 108.34139784946237, 108.71774193548387, 110.27296587926509]}],\n",
       "                        {\"coloraxis\": {\"colorbar\": {\"title\": {\"text\": \"Year\"}}, \"colorscale\": [[0.0, \"#0d0887\"], [0.1111111111111111, \"#46039f\"], [0.2222222222222222, \"#7201a8\"], [0.3333333333333333, \"#9c179e\"], [0.4444444444444444, \"#bd3786\"], [0.5555555555555556, \"#d8576b\"], [0.6666666666666666, \"#ed7953\"], [0.7777777777777778, \"#fb9f3a\"], [0.8888888888888888, \"#fdca26\"], [1.0, \"#f0f921\"]]}, \"height\": 600, \"legend\": {\"tracegroupgap\": 0}, \"margin\": {\"t\": 60}, \"scene\": {\"domain\": {\"x\": [0.0, 0.98], \"y\": [0.0, 1.0]}, \"xaxis\": {\"title\": {\"text\": \"DRtg\"}}, \"yaxis\": {\"title\": {\"text\": \"3P%\"}}, \"zaxis\": {\"title\": {\"text\": \"ORtg\"}}}, \"template\": {\"data\": {\"bar\": [{\"error_x\": {\"color\": \"#2a3f5f\"}, \"error_y\": {\"color\": \"#2a3f5f\"}, \"marker\": {\"line\": {\"color\": \"#E5ECF6\", \"width\": 0.5}}, \"type\": \"bar\"}], \"barpolar\": [{\"marker\": {\"line\": {\"color\": \"#E5ECF6\", \"width\": 0.5}}, \"type\": \"barpolar\"}], \"carpet\": [{\"aaxis\": {\"endlinecolor\": \"#2a3f5f\", \"gridcolor\": \"white\", \"linecolor\": \"white\", \"minorgridcolor\": \"white\", \"startlinecolor\": \"#2a3f5f\"}, \"baxis\": {\"endlinecolor\": \"#2a3f5f\", \"gridcolor\": \"white\", \"linecolor\": \"white\", \"minorgridcolor\": \"white\", \"startlinecolor\": \"#2a3f5f\"}, \"type\": \"carpet\"}], \"choropleth\": [{\"colorbar\": {\"outlinewidth\": 0, \"ticks\": \"\"}, \"type\": \"choropleth\"}], \"contour\": [{\"colorbar\": {\"outlinewidth\": 0, \"ticks\": \"\"}, \"colorscale\": [[0.0, \"#0d0887\"], [0.1111111111111111, \"#46039f\"], [0.2222222222222222, \"#7201a8\"], [0.3333333333333333, \"#9c179e\"], [0.4444444444444444, \"#bd3786\"], [0.5555555555555556, \"#d8576b\"], [0.6666666666666666, \"#ed7953\"], [0.7777777777777778, \"#fb9f3a\"], [0.8888888888888888, \"#fdca26\"], [1.0, \"#f0f921\"]], \"type\": \"contour\"}], \"contourcarpet\": [{\"colorbar\": {\"outlinewidth\": 0, \"ticks\": \"\"}, \"type\": \"contourcarpet\"}], \"heatmap\": [{\"colorbar\": {\"outlinewidth\": 0, \"ticks\": \"\"}, \"colorscale\": [[0.0, \"#0d0887\"], [0.1111111111111111, \"#46039f\"], [0.2222222222222222, \"#7201a8\"], [0.3333333333333333, \"#9c179e\"], [0.4444444444444444, \"#bd3786\"], [0.5555555555555556, \"#d8576b\"], [0.6666666666666666, \"#ed7953\"], [0.7777777777777778, \"#fb9f3a\"], [0.8888888888888888, \"#fdca26\"], [1.0, \"#f0f921\"]], \"type\": \"heatmap\"}], \"heatmapgl\": [{\"colorbar\": {\"outlinewidth\": 0, \"ticks\": \"\"}, \"colorscale\": [[0.0, \"#0d0887\"], [0.1111111111111111, \"#46039f\"], [0.2222222222222222, \"#7201a8\"], [0.3333333333333333, \"#9c179e\"], [0.4444444444444444, \"#bd3786\"], [0.5555555555555556, \"#d8576b\"], [0.6666666666666666, \"#ed7953\"], [0.7777777777777778, \"#fb9f3a\"], [0.8888888888888888, \"#fdca26\"], [1.0, \"#f0f921\"]], \"type\": \"heatmapgl\"}], \"histogram\": [{\"marker\": {\"colorbar\": {\"outlinewidth\": 0, \"ticks\": \"\"}}, \"type\": \"histogram\"}], \"histogram2d\": [{\"colorbar\": {\"outlinewidth\": 0, \"ticks\": \"\"}, \"colorscale\": [[0.0, \"#0d0887\"], [0.1111111111111111, \"#46039f\"], [0.2222222222222222, \"#7201a8\"], [0.3333333333333333, \"#9c179e\"], [0.4444444444444444, \"#bd3786\"], [0.5555555555555556, \"#d8576b\"], [0.6666666666666666, \"#ed7953\"], [0.7777777777777778, \"#fb9f3a\"], [0.8888888888888888, \"#fdca26\"], [1.0, \"#f0f921\"]], \"type\": \"histogram2d\"}], \"histogram2dcontour\": [{\"colorbar\": {\"outlinewidth\": 0, \"ticks\": \"\"}, \"colorscale\": [[0.0, \"#0d0887\"], [0.1111111111111111, \"#46039f\"], [0.2222222222222222, \"#7201a8\"], [0.3333333333333333, \"#9c179e\"], [0.4444444444444444, \"#bd3786\"], [0.5555555555555556, \"#d8576b\"], [0.6666666666666666, \"#ed7953\"], [0.7777777777777778, \"#fb9f3a\"], [0.8888888888888888, \"#fdca26\"], [1.0, \"#f0f921\"]], \"type\": \"histogram2dcontour\"}], \"mesh3d\": [{\"colorbar\": {\"outlinewidth\": 0, \"ticks\": \"\"}, \"type\": \"mesh3d\"}], \"parcoords\": [{\"line\": {\"colorbar\": {\"outlinewidth\": 0, \"ticks\": \"\"}}, \"type\": \"parcoords\"}], \"scatter\": [{\"marker\": {\"colorbar\": {\"outlinewidth\": 0, \"ticks\": \"\"}}, \"type\": \"scatter\"}], \"scatter3d\": [{\"line\": {\"colorbar\": {\"outlinewidth\": 0, \"ticks\": \"\"}}, \"marker\": {\"colorbar\": {\"outlinewidth\": 0, \"ticks\": \"\"}}, \"type\": \"scatter3d\"}], \"scattercarpet\": [{\"marker\": {\"colorbar\": {\"outlinewidth\": 0, \"ticks\": \"\"}}, \"type\": \"scattercarpet\"}], \"scattergeo\": [{\"marker\": {\"colorbar\": {\"outlinewidth\": 0, \"ticks\": \"\"}}, \"type\": \"scattergeo\"}], \"scattergl\": [{\"marker\": {\"colorbar\": {\"outlinewidth\": 0, \"ticks\": \"\"}}, \"type\": \"scattergl\"}], \"scattermapbox\": [{\"marker\": {\"colorbar\": {\"outlinewidth\": 0, \"ticks\": \"\"}}, \"type\": \"scattermapbox\"}], \"scatterpolar\": [{\"marker\": {\"colorbar\": {\"outlinewidth\": 0, \"ticks\": \"\"}}, \"type\": \"scatterpolar\"}], \"scatterpolargl\": [{\"marker\": {\"colorbar\": {\"outlinewidth\": 0, \"ticks\": \"\"}}, \"type\": \"scatterpolargl\"}], \"scatterternary\": [{\"marker\": {\"colorbar\": {\"outlinewidth\": 0, \"ticks\": \"\"}}, \"type\": \"scatterternary\"}], \"surface\": [{\"colorbar\": {\"outlinewidth\": 0, \"ticks\": \"\"}, \"colorscale\": [[0.0, \"#0d0887\"], [0.1111111111111111, \"#46039f\"], [0.2222222222222222, \"#7201a8\"], [0.3333333333333333, \"#9c179e\"], [0.4444444444444444, \"#bd3786\"], [0.5555555555555556, \"#d8576b\"], [0.6666666666666666, \"#ed7953\"], [0.7777777777777778, \"#fb9f3a\"], [0.8888888888888888, \"#fdca26\"], [1.0, \"#f0f921\"]], \"type\": \"surface\"}], \"table\": [{\"cells\": {\"fill\": {\"color\": \"#EBF0F8\"}, \"line\": {\"color\": \"white\"}}, \"header\": {\"fill\": {\"color\": \"#C8D4E3\"}, \"line\": {\"color\": \"white\"}}, \"type\": \"table\"}]}, \"layout\": {\"annotationdefaults\": {\"arrowcolor\": \"#2a3f5f\", \"arrowhead\": 0, \"arrowwidth\": 1}, \"colorscale\": {\"diverging\": [[0, \"#8e0152\"], [0.1, \"#c51b7d\"], [0.2, \"#de77ae\"], [0.3, \"#f1b6da\"], [0.4, \"#fde0ef\"], [0.5, \"#f7f7f7\"], [0.6, \"#e6f5d0\"], [0.7, \"#b8e186\"], [0.8, \"#7fbc41\"], [0.9, \"#4d9221\"], [1, \"#276419\"]], \"sequential\": [[0.0, \"#0d0887\"], [0.1111111111111111, \"#46039f\"], [0.2222222222222222, \"#7201a8\"], [0.3333333333333333, \"#9c179e\"], [0.4444444444444444, \"#bd3786\"], [0.5555555555555556, \"#d8576b\"], [0.6666666666666666, \"#ed7953\"], [0.7777777777777778, \"#fb9f3a\"], [0.8888888888888888, \"#fdca26\"], [1.0, \"#f0f921\"]], \"sequentialminus\": [[0.0, \"#0d0887\"], [0.1111111111111111, \"#46039f\"], [0.2222222222222222, \"#7201a8\"], [0.3333333333333333, \"#9c179e\"], [0.4444444444444444, \"#bd3786\"], [0.5555555555555556, \"#d8576b\"], [0.6666666666666666, \"#ed7953\"], [0.7777777777777778, \"#fb9f3a\"], [0.8888888888888888, \"#fdca26\"], [1.0, \"#f0f921\"]]}, \"colorway\": [\"#636efa\", \"#EF553B\", \"#00cc96\", \"#ab63fa\", \"#FFA15A\", \"#19d3f3\", \"#FF6692\", \"#B6E880\", \"#FF97FF\", \"#FECB52\"], \"font\": {\"color\": \"#2a3f5f\"}, \"geo\": {\"bgcolor\": \"white\", \"lakecolor\": \"white\", \"landcolor\": \"#E5ECF6\", \"showlakes\": true, \"showland\": true, \"subunitcolor\": \"white\"}, \"hoverlabel\": {\"align\": \"left\"}, \"hovermode\": \"closest\", \"mapbox\": {\"style\": \"light\"}, \"paper_bgcolor\": \"white\", \"plot_bgcolor\": \"#E5ECF6\", \"polar\": {\"angularaxis\": {\"gridcolor\": \"white\", \"linecolor\": \"white\", \"ticks\": \"\"}, \"bgcolor\": \"#E5ECF6\", \"radialaxis\": {\"gridcolor\": \"white\", \"linecolor\": \"white\", \"ticks\": \"\"}}, \"scene\": {\"xaxis\": {\"backgroundcolor\": \"#E5ECF6\", \"gridcolor\": \"white\", \"gridwidth\": 2, \"linecolor\": \"white\", \"showbackground\": true, \"ticks\": \"\", \"zerolinecolor\": \"white\"}, \"yaxis\": {\"backgroundcolor\": \"#E5ECF6\", \"gridcolor\": \"white\", \"gridwidth\": 2, \"linecolor\": \"white\", \"showbackground\": true, \"ticks\": \"\", \"zerolinecolor\": \"white\"}, \"zaxis\": {\"backgroundcolor\": \"#E5ECF6\", \"gridcolor\": \"white\", \"gridwidth\": 2, \"linecolor\": \"white\", \"showbackground\": true, \"ticks\": \"\", \"zerolinecolor\": \"white\"}}, \"shapedefaults\": {\"line\": {\"color\": \"#2a3f5f\"}}, \"ternary\": {\"aaxis\": {\"gridcolor\": \"white\", \"linecolor\": \"white\", \"ticks\": \"\"}, \"baxis\": {\"gridcolor\": \"white\", \"linecolor\": \"white\", \"ticks\": \"\"}, \"bgcolor\": \"#E5ECF6\", \"caxis\": {\"gridcolor\": \"white\", \"linecolor\": \"white\", \"ticks\": \"\"}}, \"title\": {\"x\": 0.05}, \"xaxis\": {\"automargin\": true, \"gridcolor\": \"white\", \"linecolor\": \"white\", \"ticks\": \"\", \"zerolinecolor\": \"white\", \"zerolinewidth\": 2}, \"yaxis\": {\"automargin\": true, \"gridcolor\": \"white\", \"linecolor\": \"white\", \"ticks\": \"\", \"zerolinecolor\": \"white\", \"zerolinewidth\": 2}}}},\n",
       "                        {\"responsive\": true}\n",
       "                    ).then(function(){\n",
       "                            \n",
       "var gd = document.getElementById('d27d537f-dbdc-438a-8e65-cb5f528200fe');\n",
       "var x = new MutationObserver(function (mutations, observer) {{\n",
       "        var display = window.getComputedStyle(gd).display;\n",
       "        if (!display || display === 'none') {{\n",
       "            console.log([gd, 'removed!']);\n",
       "            Plotly.purge(gd);\n",
       "            observer.disconnect();\n",
       "        }}\n",
       "}});\n",
       "\n",
       "// Listen for the removal of the full notebook cells\n",
       "var notebookContainer = gd.closest('#notebook-container');\n",
       "if (notebookContainer) {{\n",
       "    x.observe(notebookContainer, {childList: true});\n",
       "}}\n",
       "\n",
       "// Listen for the clearing of the current output cell\n",
       "var outputEl = gd.closest('.output');\n",
       "if (outputEl) {{\n",
       "    x.observe(outputEl, {childList: true});\n",
       "}}\n",
       "\n",
       "                        })\n",
       "                };\n",
       "                });\n",
       "            </script>\n",
       "        </div>"
      ]
     },
     "metadata": {},
     "output_type": "display_data"
    }
   ],
   "source": [
    "fig = px.scatter_3d(dftest2, x='DRtg', y='3P%', z='ORtg', color='Year',\n",
    "              )\n",
    "fig.show()"
   ]
  },
  {
   "cell_type": "code",
   "execution_count": 151,
   "metadata": {},
   "outputs": [
    {
     "data": {
      "text/plain": [
       "Index(['DRtg', 'ORtg', 'USG%', 'VORP', 'WS', 'PER', 'Rk', 'Age', 'G', 'GS',\n",
       "       'MP', 'FG', 'FGA', '2P', '2PA', '3P', '3PA', 'FT', 'FTA', 'ORB', 'DRB',\n",
       "       'TRB', 'AST', 'STL', 'BLK', 'TOV', 'PF', 'PTS', 'FG%', '2P%', '3P%',\n",
       "       'eFG%', 'FT%', 'TS%', 'Year'],\n",
       "      dtype='object')"
      ]
     },
     "execution_count": 151,
     "metadata": {},
     "output_type": "execute_result"
    }
   ],
   "source": [
    "dftest3.columns"
   ]
  },
  {
   "cell_type": "code",
   "execution_count": 138,
   "metadata": {},
   "outputs": [],
   "source": [
    "dftest5=df.groupby(['Season']).mean()"
   ]
  },
  {
   "cell_type": "code",
   "execution_count": 106,
   "metadata": {},
   "outputs": [],
   "source": [
    "df2=df1.groupby(['Year']).mean()"
   ]
  },
  {
   "cell_type": "code",
   "execution_count": 155,
   "metadata": {},
   "outputs": [
    {
     "data": {
      "text/html": [
       "<div>\n",
       "<style scoped>\n",
       "    .dataframe tbody tr th:only-of-type {\n",
       "        vertical-align: middle;\n",
       "    }\n",
       "\n",
       "    .dataframe tbody tr th {\n",
       "        vertical-align: top;\n",
       "    }\n",
       "\n",
       "    .dataframe thead th {\n",
       "        text-align: right;\n",
       "    }\n",
       "</style>\n",
       "<table border=\"1\" class=\"dataframe\">\n",
       "  <thead>\n",
       "    <tr style=\"text-align: right;\">\n",
       "      <th></th>\n",
       "      <th>DRtg</th>\n",
       "      <th>ORtg</th>\n",
       "      <th>USG%</th>\n",
       "      <th>VORP</th>\n",
       "      <th>WS</th>\n",
       "      <th>PER</th>\n",
       "      <th>Rk</th>\n",
       "      <th>Age</th>\n",
       "      <th>G</th>\n",
       "      <th>GS</th>\n",
       "      <th>...</th>\n",
       "      <th>BLK</th>\n",
       "      <th>TOV</th>\n",
       "      <th>PF</th>\n",
       "      <th>PTS</th>\n",
       "      <th>FG%</th>\n",
       "      <th>2P%</th>\n",
       "      <th>3P%</th>\n",
       "      <th>eFG%</th>\n",
       "      <th>FT%</th>\n",
       "      <th>TS%</th>\n",
       "    </tr>\n",
       "    <tr>\n",
       "      <th>Year</th>\n",
       "      <th></th>\n",
       "      <th></th>\n",
       "      <th></th>\n",
       "      <th></th>\n",
       "      <th></th>\n",
       "      <th></th>\n",
       "      <th></th>\n",
       "      <th></th>\n",
       "      <th></th>\n",
       "      <th></th>\n",
       "      <th></th>\n",
       "      <th></th>\n",
       "      <th></th>\n",
       "      <th></th>\n",
       "      <th></th>\n",
       "      <th></th>\n",
       "      <th></th>\n",
       "      <th></th>\n",
       "      <th></th>\n",
       "      <th></th>\n",
       "      <th></th>\n",
       "    </tr>\n",
       "  </thead>\n",
       "  <tbody>\n",
       "    <tr>\n",
       "      <th>2000</th>\n",
       "      <td>103.441791</td>\n",
       "      <td>102.274627</td>\n",
       "      <td>18.783284</td>\n",
       "      <td>0.902985</td>\n",
       "      <td>3.628358</td>\n",
       "      <td>13.775821</td>\n",
       "      <td>8659.143284</td>\n",
       "      <td>27.800000</td>\n",
       "      <td>66.280597</td>\n",
       "      <td>35.188060</td>\n",
       "      <td>...</td>\n",
       "      <td>1.127761</td>\n",
       "      <td>3.057612</td>\n",
       "      <td>5.217015</td>\n",
       "      <td>19.134627</td>\n",
       "      <td>0.440522</td>\n",
       "      <td>0.455191</td>\n",
       "      <td>0.243042</td>\n",
       "      <td>0.469152</td>\n",
       "      <td>0.738609</td>\n",
       "      <td>0.510176</td>\n",
       "    </tr>\n",
       "    <tr>\n",
       "      <th>2001</th>\n",
       "      <td>104.972973</td>\n",
       "      <td>103.891892</td>\n",
       "      <td>19.017417</td>\n",
       "      <td>0.901201</td>\n",
       "      <td>3.628829</td>\n",
       "      <td>13.989790</td>\n",
       "      <td>8221.720721</td>\n",
       "      <td>27.531532</td>\n",
       "      <td>66.204204</td>\n",
       "      <td>35.282282</td>\n",
       "      <td>...</td>\n",
       "      <td>1.150450</td>\n",
       "      <td>2.975676</td>\n",
       "      <td>5.019820</td>\n",
       "      <td>19.676276</td>\n",
       "      <td>0.441874</td>\n",
       "      <td>0.458165</td>\n",
       "      <td>0.250069</td>\n",
       "      <td>0.471589</td>\n",
       "      <td>0.739871</td>\n",
       "      <td>0.512039</td>\n",
       "    </tr>\n",
       "    <tr>\n",
       "      <th>2002</th>\n",
       "      <td>103.861446</td>\n",
       "      <td>102.674699</td>\n",
       "      <td>18.846084</td>\n",
       "      <td>0.906627</td>\n",
       "      <td>3.662651</td>\n",
       "      <td>13.834940</td>\n",
       "      <td>7780.442771</td>\n",
       "      <td>27.231928</td>\n",
       "      <td>67.301205</td>\n",
       "      <td>35.650602</td>\n",
       "      <td>...</td>\n",
       "      <td>1.150301</td>\n",
       "      <td>3.048494</td>\n",
       "      <td>5.100000</td>\n",
       "      <td>19.257831</td>\n",
       "      <td>0.439271</td>\n",
       "      <td>0.456533</td>\n",
       "      <td>0.230518</td>\n",
       "      <td>0.467307</td>\n",
       "      <td>0.737720</td>\n",
       "      <td>0.509301</td>\n",
       "    </tr>\n",
       "    <tr>\n",
       "      <th>2003</th>\n",
       "      <td>103.149560</td>\n",
       "      <td>102.524927</td>\n",
       "      <td>18.986217</td>\n",
       "      <td>0.880352</td>\n",
       "      <td>3.580059</td>\n",
       "      <td>14.031085</td>\n",
       "      <td>7347.035191</td>\n",
       "      <td>27.196481</td>\n",
       "      <td>65.521994</td>\n",
       "      <td>34.715543</td>\n",
       "      <td>...</td>\n",
       "      <td>1.117889</td>\n",
       "      <td>3.062463</td>\n",
       "      <td>5.133431</td>\n",
       "      <td>19.363636</td>\n",
       "      <td>0.436578</td>\n",
       "      <td>0.453106</td>\n",
       "      <td>0.235323</td>\n",
       "      <td>0.465977</td>\n",
       "      <td>0.739073</td>\n",
       "      <td>0.508106</td>\n",
       "    </tr>\n",
       "    <tr>\n",
       "      <th>2004</th>\n",
       "      <td>106.318182</td>\n",
       "      <td>105.343750</td>\n",
       "      <td>18.991193</td>\n",
       "      <td>0.886364</td>\n",
       "      <td>3.562216</td>\n",
       "      <td>13.979830</td>\n",
       "      <td>6886.582386</td>\n",
       "      <td>26.917614</td>\n",
       "      <td>65.576705</td>\n",
       "      <td>34.684659</td>\n",
       "      <td>...</td>\n",
       "      <td>1.074716</td>\n",
       "      <td>2.968466</td>\n",
       "      <td>5.313636</td>\n",
       "      <td>19.947443</td>\n",
       "      <td>0.444455</td>\n",
       "      <td>0.462719</td>\n",
       "      <td>0.247795</td>\n",
       "      <td>0.477622</td>\n",
       "      <td>0.744361</td>\n",
       "      <td>0.520807</td>\n",
       "    </tr>\n",
       "    <tr>\n",
       "      <th>2005</th>\n",
       "      <td>106.246291</td>\n",
       "      <td>105.044510</td>\n",
       "      <td>18.991988</td>\n",
       "      <td>0.938279</td>\n",
       "      <td>3.722849</td>\n",
       "      <td>13.916024</td>\n",
       "      <td>6429.296736</td>\n",
       "      <td>26.551929</td>\n",
       "      <td>66.531157</td>\n",
       "      <td>36.160237</td>\n",
       "      <td>...</td>\n",
       "      <td>1.076558</td>\n",
       "      <td>2.989318</td>\n",
       "      <td>5.459644</td>\n",
       "      <td>19.933234</td>\n",
       "      <td>0.452591</td>\n",
       "      <td>0.471733</td>\n",
       "      <td>0.243846</td>\n",
       "      <td>0.484792</td>\n",
       "      <td>0.726861</td>\n",
       "      <td>0.526131</td>\n",
       "    </tr>\n",
       "    <tr>\n",
       "      <th>2006</th>\n",
       "      <td>106.590643</td>\n",
       "      <td>106.163743</td>\n",
       "      <td>19.087135</td>\n",
       "      <td>0.920175</td>\n",
       "      <td>3.666374</td>\n",
       "      <td>14.214035</td>\n",
       "      <td>5967.543860</td>\n",
       "      <td>26.611111</td>\n",
       "      <td>66.672515</td>\n",
       "      <td>35.602339</td>\n",
       "      <td>...</td>\n",
       "      <td>1.016667</td>\n",
       "      <td>3.044152</td>\n",
       "      <td>5.093860</td>\n",
       "      <td>20.234503</td>\n",
       "      <td>0.458749</td>\n",
       "      <td>0.480898</td>\n",
       "      <td>0.249731</td>\n",
       "      <td>0.494503</td>\n",
       "      <td>0.739740</td>\n",
       "      <td>0.535246</td>\n",
       "    </tr>\n",
       "    <tr>\n",
       "      <th>2007</th>\n",
       "      <td>107.699248</td>\n",
       "      <td>102.987469</td>\n",
       "      <td>19.706767</td>\n",
       "      <td>0.749123</td>\n",
       "      <td>3.141604</td>\n",
       "      <td>13.155890</td>\n",
       "      <td>5549.245614</td>\n",
       "      <td>25.929825</td>\n",
       "      <td>65.175439</td>\n",
       "      <td>31.619048</td>\n",
       "      <td>...</td>\n",
       "      <td>0.898246</td>\n",
       "      <td>3.149875</td>\n",
       "      <td>4.600251</td>\n",
       "      <td>20.059148</td>\n",
       "      <td>0.442073</td>\n",
       "      <td>0.461363</td>\n",
       "      <td>0.276135</td>\n",
       "      <td>0.489055</td>\n",
       "      <td>0.750764</td>\n",
       "      <td>0.525682</td>\n",
       "    </tr>\n",
       "    <tr>\n",
       "      <th>2008</th>\n",
       "      <td>108.416422</td>\n",
       "      <td>107.571848</td>\n",
       "      <td>18.919355</td>\n",
       "      <td>0.917009</td>\n",
       "      <td>3.680352</td>\n",
       "      <td>13.971848</td>\n",
       "      <td>5065.108504</td>\n",
       "      <td>26.586510</td>\n",
       "      <td>66.671554</td>\n",
       "      <td>35.700880</td>\n",
       "      <td>...</td>\n",
       "      <td>1.086804</td>\n",
       "      <td>2.829619</td>\n",
       "      <td>4.924633</td>\n",
       "      <td>20.288270</td>\n",
       "      <td>0.456164</td>\n",
       "      <td>0.476868</td>\n",
       "      <td>0.265589</td>\n",
       "      <td>0.495950</td>\n",
       "      <td>0.754783</td>\n",
       "      <td>0.535595</td>\n",
       "    </tr>\n",
       "    <tr>\n",
       "      <th>2009</th>\n",
       "      <td>107.853026</td>\n",
       "      <td>107.227666</td>\n",
       "      <td>19.083285</td>\n",
       "      <td>0.892507</td>\n",
       "      <td>3.619308</td>\n",
       "      <td>14.098271</td>\n",
       "      <td>4629.270893</td>\n",
       "      <td>26.582133</td>\n",
       "      <td>66.129683</td>\n",
       "      <td>35.219020</td>\n",
       "      <td>...</td>\n",
       "      <td>1.076945</td>\n",
       "      <td>2.821037</td>\n",
       "      <td>4.804611</td>\n",
       "      <td>20.409798</td>\n",
       "      <td>0.461035</td>\n",
       "      <td>0.487300</td>\n",
       "      <td>0.258233</td>\n",
       "      <td>0.500280</td>\n",
       "      <td>0.744421</td>\n",
       "      <td>0.537380</td>\n",
       "    </tr>\n",
       "    <tr>\n",
       "      <th>2010</th>\n",
       "      <td>107.469444</td>\n",
       "      <td>106.636111</td>\n",
       "      <td>18.913333</td>\n",
       "      <td>0.858889</td>\n",
       "      <td>3.495556</td>\n",
       "      <td>13.944167</td>\n",
       "      <td>4176.311111</td>\n",
       "      <td>26.591667</td>\n",
       "      <td>65.338889</td>\n",
       "      <td>34.033333</td>\n",
       "      <td>...</td>\n",
       "      <td>1.088333</td>\n",
       "      <td>2.864167</td>\n",
       "      <td>4.840833</td>\n",
       "      <td>20.107222</td>\n",
       "      <td>0.459275</td>\n",
       "      <td>0.481822</td>\n",
       "      <td>0.250011</td>\n",
       "      <td>0.497625</td>\n",
       "      <td>0.741650</td>\n",
       "      <td>0.534822</td>\n",
       "    </tr>\n",
       "    <tr>\n",
       "      <th>2011</th>\n",
       "      <td>104.923295</td>\n",
       "      <td>103.846591</td>\n",
       "      <td>19.198011</td>\n",
       "      <td>0.706534</td>\n",
       "      <td>2.820739</td>\n",
       "      <td>14.124148</td>\n",
       "      <td>3718.170455</td>\n",
       "      <td>26.659091</td>\n",
       "      <td>53.053977</td>\n",
       "      <td>27.616477</td>\n",
       "      <td>...</td>\n",
       "      <td>1.122443</td>\n",
       "      <td>2.990341</td>\n",
       "      <td>4.444602</td>\n",
       "      <td>19.921591</td>\n",
       "      <td>0.444230</td>\n",
       "      <td>0.468582</td>\n",
       "      <td>0.254949</td>\n",
       "      <td>0.484230</td>\n",
       "      <td>0.734548</td>\n",
       "      <td>0.519821</td>\n",
       "    </tr>\n",
       "    <tr>\n",
       "      <th>2012</th>\n",
       "      <td>106.226519</td>\n",
       "      <td>105.552486</td>\n",
       "      <td>19.021271</td>\n",
       "      <td>0.858840</td>\n",
       "      <td>3.433702</td>\n",
       "      <td>14.109945</td>\n",
       "      <td>3234.870166</td>\n",
       "      <td>26.762431</td>\n",
       "      <td>65.491713</td>\n",
       "      <td>33.574586</td>\n",
       "      <td>...</td>\n",
       "      <td>1.107735</td>\n",
       "      <td>2.896961</td>\n",
       "      <td>4.536740</td>\n",
       "      <td>20.051657</td>\n",
       "      <td>0.449936</td>\n",
       "      <td>0.475834</td>\n",
       "      <td>0.269561</td>\n",
       "      <td>0.495058</td>\n",
       "      <td>0.735514</td>\n",
       "      <td>0.528732</td>\n",
       "    </tr>\n",
       "    <tr>\n",
       "      <th>2013</th>\n",
       "      <td>106.903134</td>\n",
       "      <td>106.350427</td>\n",
       "      <td>19.107407</td>\n",
       "      <td>0.894587</td>\n",
       "      <td>3.534473</td>\n",
       "      <td>14.278063</td>\n",
       "      <td>2761.834758</td>\n",
       "      <td>26.584046</td>\n",
       "      <td>65.960114</td>\n",
       "      <td>34.680912</td>\n",
       "      <td>...</td>\n",
       "      <td>1.066382</td>\n",
       "      <td>2.898291</td>\n",
       "      <td>4.640741</td>\n",
       "      <td>20.276353</td>\n",
       "      <td>0.455114</td>\n",
       "      <td>0.482721</td>\n",
       "      <td>0.266818</td>\n",
       "      <td>0.500952</td>\n",
       "      <td>0.742670</td>\n",
       "      <td>0.535977</td>\n",
       "    </tr>\n",
       "    <tr>\n",
       "      <th>2014</th>\n",
       "      <td>105.952507</td>\n",
       "      <td>105.432718</td>\n",
       "      <td>19.261741</td>\n",
       "      <td>0.817150</td>\n",
       "      <td>3.280211</td>\n",
       "      <td>14.296834</td>\n",
       "      <td>2276.274406</td>\n",
       "      <td>26.778364</td>\n",
       "      <td>63.345646</td>\n",
       "      <td>32.234828</td>\n",
       "      <td>...</td>\n",
       "      <td>1.032982</td>\n",
       "      <td>2.821372</td>\n",
       "      <td>4.491029</td>\n",
       "      <td>20.267810</td>\n",
       "      <td>0.447354</td>\n",
       "      <td>0.479562</td>\n",
       "      <td>0.275741</td>\n",
       "      <td>0.494697</td>\n",
       "      <td>0.741937</td>\n",
       "      <td>0.528887</td>\n",
       "    </tr>\n",
       "    <tr>\n",
       "      <th>2015</th>\n",
       "      <td>106.621622</td>\n",
       "      <td>106.227027</td>\n",
       "      <td>19.150811</td>\n",
       "      <td>0.832162</td>\n",
       "      <td>3.344054</td>\n",
       "      <td>14.290541</td>\n",
       "      <td>1795.108108</td>\n",
       "      <td>26.905405</td>\n",
       "      <td>65.372973</td>\n",
       "      <td>32.935135</td>\n",
       "      <td>...</td>\n",
       "      <td>1.050541</td>\n",
       "      <td>2.787297</td>\n",
       "      <td>4.422703</td>\n",
       "      <td>20.301351</td>\n",
       "      <td>0.452922</td>\n",
       "      <td>0.487268</td>\n",
       "      <td>0.290727</td>\n",
       "      <td>0.502019</td>\n",
       "      <td>0.751792</td>\n",
       "      <td>0.536608</td>\n",
       "    </tr>\n",
       "    <tr>\n",
       "      <th>2016</th>\n",
       "      <td>108.911290</td>\n",
       "      <td>108.341398</td>\n",
       "      <td>19.021505</td>\n",
       "      <td>0.830914</td>\n",
       "      <td>3.328226</td>\n",
       "      <td>14.201075</td>\n",
       "      <td>1307.029570</td>\n",
       "      <td>26.588710</td>\n",
       "      <td>65.102151</td>\n",
       "      <td>32.865591</td>\n",
       "      <td>...</td>\n",
       "      <td>1.013978</td>\n",
       "      <td>2.674462</td>\n",
       "      <td>4.341667</td>\n",
       "      <td>20.572312</td>\n",
       "      <td>0.456739</td>\n",
       "      <td>0.495917</td>\n",
       "      <td>0.299086</td>\n",
       "      <td>0.511903</td>\n",
       "      <td>0.752863</td>\n",
       "      <td>0.545570</td>\n",
       "    </tr>\n",
       "    <tr>\n",
       "      <th>2017</th>\n",
       "      <td>108.846774</td>\n",
       "      <td>108.717742</td>\n",
       "      <td>19.109946</td>\n",
       "      <td>0.833871</td>\n",
       "      <td>3.303495</td>\n",
       "      <td>14.375269</td>\n",
       "      <td>791.677419</td>\n",
       "      <td>26.400538</td>\n",
       "      <td>64.233871</td>\n",
       "      <td>32.583333</td>\n",
       "      <td>...</td>\n",
       "      <td>1.012634</td>\n",
       "      <td>2.712097</td>\n",
       "      <td>4.236828</td>\n",
       "      <td>20.709409</td>\n",
       "      <td>0.461820</td>\n",
       "      <td>0.505933</td>\n",
       "      <td>0.312355</td>\n",
       "      <td>0.521164</td>\n",
       "      <td>0.757562</td>\n",
       "      <td>0.552495</td>\n",
       "    </tr>\n",
       "    <tr>\n",
       "      <th>2018</th>\n",
       "      <td>110.748031</td>\n",
       "      <td>110.272966</td>\n",
       "      <td>19.030184</td>\n",
       "      <td>0.810236</td>\n",
       "      <td>3.211286</td>\n",
       "      <td>14.207087</td>\n",
       "      <td>255.503937</td>\n",
       "      <td>26.225722</td>\n",
       "      <td>62.803150</td>\n",
       "      <td>32.028871</td>\n",
       "      <td>...</td>\n",
       "      <td>0.983727</td>\n",
       "      <td>2.591076</td>\n",
       "      <td>4.345932</td>\n",
       "      <td>20.893176</td>\n",
       "      <td>0.458415</td>\n",
       "      <td>0.514045</td>\n",
       "      <td>0.312840</td>\n",
       "      <td>0.522262</td>\n",
       "      <td>0.754100</td>\n",
       "      <td>0.553696</td>\n",
       "    </tr>\n",
       "  </tbody>\n",
       "</table>\n",
       "<p>19 rows × 34 columns</p>\n",
       "</div>"
      ],
      "text/plain": [
       "            DRtg        ORtg       USG%      VORP        WS        PER  \\\n",
       "Year                                                                     \n",
       "2000  103.441791  102.274627  18.783284  0.902985  3.628358  13.775821   \n",
       "2001  104.972973  103.891892  19.017417  0.901201  3.628829  13.989790   \n",
       "2002  103.861446  102.674699  18.846084  0.906627  3.662651  13.834940   \n",
       "2003  103.149560  102.524927  18.986217  0.880352  3.580059  14.031085   \n",
       "2004  106.318182  105.343750  18.991193  0.886364  3.562216  13.979830   \n",
       "2005  106.246291  105.044510  18.991988  0.938279  3.722849  13.916024   \n",
       "2006  106.590643  106.163743  19.087135  0.920175  3.666374  14.214035   \n",
       "2007  107.699248  102.987469  19.706767  0.749123  3.141604  13.155890   \n",
       "2008  108.416422  107.571848  18.919355  0.917009  3.680352  13.971848   \n",
       "2009  107.853026  107.227666  19.083285  0.892507  3.619308  14.098271   \n",
       "2010  107.469444  106.636111  18.913333  0.858889  3.495556  13.944167   \n",
       "2011  104.923295  103.846591  19.198011  0.706534  2.820739  14.124148   \n",
       "2012  106.226519  105.552486  19.021271  0.858840  3.433702  14.109945   \n",
       "2013  106.903134  106.350427  19.107407  0.894587  3.534473  14.278063   \n",
       "2014  105.952507  105.432718  19.261741  0.817150  3.280211  14.296834   \n",
       "2015  106.621622  106.227027  19.150811  0.832162  3.344054  14.290541   \n",
       "2016  108.911290  108.341398  19.021505  0.830914  3.328226  14.201075   \n",
       "2017  108.846774  108.717742  19.109946  0.833871  3.303495  14.375269   \n",
       "2018  110.748031  110.272966  19.030184  0.810236  3.211286  14.207087   \n",
       "\n",
       "               Rk        Age          G         GS  ...       BLK       TOV  \\\n",
       "Year                                                ...                       \n",
       "2000  8659.143284  27.800000  66.280597  35.188060  ...  1.127761  3.057612   \n",
       "2001  8221.720721  27.531532  66.204204  35.282282  ...  1.150450  2.975676   \n",
       "2002  7780.442771  27.231928  67.301205  35.650602  ...  1.150301  3.048494   \n",
       "2003  7347.035191  27.196481  65.521994  34.715543  ...  1.117889  3.062463   \n",
       "2004  6886.582386  26.917614  65.576705  34.684659  ...  1.074716  2.968466   \n",
       "2005  6429.296736  26.551929  66.531157  36.160237  ...  1.076558  2.989318   \n",
       "2006  5967.543860  26.611111  66.672515  35.602339  ...  1.016667  3.044152   \n",
       "2007  5549.245614  25.929825  65.175439  31.619048  ...  0.898246  3.149875   \n",
       "2008  5065.108504  26.586510  66.671554  35.700880  ...  1.086804  2.829619   \n",
       "2009  4629.270893  26.582133  66.129683  35.219020  ...  1.076945  2.821037   \n",
       "2010  4176.311111  26.591667  65.338889  34.033333  ...  1.088333  2.864167   \n",
       "2011  3718.170455  26.659091  53.053977  27.616477  ...  1.122443  2.990341   \n",
       "2012  3234.870166  26.762431  65.491713  33.574586  ...  1.107735  2.896961   \n",
       "2013  2761.834758  26.584046  65.960114  34.680912  ...  1.066382  2.898291   \n",
       "2014  2276.274406  26.778364  63.345646  32.234828  ...  1.032982  2.821372   \n",
       "2015  1795.108108  26.905405  65.372973  32.935135  ...  1.050541  2.787297   \n",
       "2016  1307.029570  26.588710  65.102151  32.865591  ...  1.013978  2.674462   \n",
       "2017   791.677419  26.400538  64.233871  32.583333  ...  1.012634  2.712097   \n",
       "2018   255.503937  26.225722  62.803150  32.028871  ...  0.983727  2.591076   \n",
       "\n",
       "            PF        PTS       FG%       2P%       3P%      eFG%       FT%  \\\n",
       "Year                                                                          \n",
       "2000  5.217015  19.134627  0.440522  0.455191  0.243042  0.469152  0.738609   \n",
       "2001  5.019820  19.676276  0.441874  0.458165  0.250069  0.471589  0.739871   \n",
       "2002  5.100000  19.257831  0.439271  0.456533  0.230518  0.467307  0.737720   \n",
       "2003  5.133431  19.363636  0.436578  0.453106  0.235323  0.465977  0.739073   \n",
       "2004  5.313636  19.947443  0.444455  0.462719  0.247795  0.477622  0.744361   \n",
       "2005  5.459644  19.933234  0.452591  0.471733  0.243846  0.484792  0.726861   \n",
       "2006  5.093860  20.234503  0.458749  0.480898  0.249731  0.494503  0.739740   \n",
       "2007  4.600251  20.059148  0.442073  0.461363  0.276135  0.489055  0.750764   \n",
       "2008  4.924633  20.288270  0.456164  0.476868  0.265589  0.495950  0.754783   \n",
       "2009  4.804611  20.409798  0.461035  0.487300  0.258233  0.500280  0.744421   \n",
       "2010  4.840833  20.107222  0.459275  0.481822  0.250011  0.497625  0.741650   \n",
       "2011  4.444602  19.921591  0.444230  0.468582  0.254949  0.484230  0.734548   \n",
       "2012  4.536740  20.051657  0.449936  0.475834  0.269561  0.495058  0.735514   \n",
       "2013  4.640741  20.276353  0.455114  0.482721  0.266818  0.500952  0.742670   \n",
       "2014  4.491029  20.267810  0.447354  0.479562  0.275741  0.494697  0.741937   \n",
       "2015  4.422703  20.301351  0.452922  0.487268  0.290727  0.502019  0.751792   \n",
       "2016  4.341667  20.572312  0.456739  0.495917  0.299086  0.511903  0.752863   \n",
       "2017  4.236828  20.709409  0.461820  0.505933  0.312355  0.521164  0.757562   \n",
       "2018  4.345932  20.893176  0.458415  0.514045  0.312840  0.522262  0.754100   \n",
       "\n",
       "           TS%  \n",
       "Year            \n",
       "2000  0.510176  \n",
       "2001  0.512039  \n",
       "2002  0.509301  \n",
       "2003  0.508106  \n",
       "2004  0.520807  \n",
       "2005  0.526131  \n",
       "2006  0.535246  \n",
       "2007  0.525682  \n",
       "2008  0.535595  \n",
       "2009  0.537380  \n",
       "2010  0.534822  \n",
       "2011  0.519821  \n",
       "2012  0.528732  \n",
       "2013  0.535977  \n",
       "2014  0.528887  \n",
       "2015  0.536608  \n",
       "2016  0.545570  \n",
       "2017  0.552495  \n",
       "2018  0.553696  \n",
       "\n",
       "[19 rows x 34 columns]"
      ]
     },
     "execution_count": 155,
     "metadata": {},
     "output_type": "execute_result"
    }
   ],
   "source": [
    "df2.head(19)"
   ]
  }
 ],
 "metadata": {
  "kernelspec": {
   "display_name": "Python 3",
   "language": "python",
   "name": "python3"
  },
  "language_info": {
   "codemirror_mode": {
    "name": "ipython",
    "version": 3
   },
   "file_extension": ".py",
   "mimetype": "text/x-python",
   "name": "python",
   "nbconvert_exporter": "python",
   "pygments_lexer": "ipython3",
   "version": "3.7.3"
  }
 },
 "nbformat": 4,
 "nbformat_minor": 2
}
